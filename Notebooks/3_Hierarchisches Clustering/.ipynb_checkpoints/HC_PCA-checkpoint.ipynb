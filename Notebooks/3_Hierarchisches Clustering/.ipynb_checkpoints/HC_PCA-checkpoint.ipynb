{
 "cells": [
  {
   "cell_type": "markdown",
   "metadata": {
    "toc": true
   },
   "source": [
    "<h1>Table of Contents<span class=\"tocSkip\"></span></h1>\n",
    "<div class=\"toc\"><ul class=\"toc-item\"><li><span><a href=\"#Imports\" data-toc-modified-id=\"Imports-1\"><span class=\"toc-item-num\">1&nbsp;&nbsp;</span>Imports</a></span></li><li><span><a href=\"#HC-mit-allen-Kategorien\" data-toc-modified-id=\"HC-mit-allen-Kategorien-2\"><span class=\"toc-item-num\">2&nbsp;&nbsp;</span>HC mit allen Kategorien</a></span><ul class=\"toc-item\"><li><span><a href=\"#HC-mit-allen-Kategorien-(Sample-2,5%)\" data-toc-modified-id=\"HC-mit-allen-Kategorien-(Sample-2,5%)-2.1\"><span class=\"toc-item-num\">2.1&nbsp;&nbsp;</span>HC mit allen Kategorien (Sample 2,5%)</a></span></li></ul></li><li><span><a href=\"#HC-nur-mit-Sport-und-Entertainment\" data-toc-modified-id=\"HC-nur-mit-Sport-und-Entertainment-3\"><span class=\"toc-item-num\">3&nbsp;&nbsp;</span>HC nur mit Sport und Entertainment</a></span><ul class=\"toc-item\"><li><span><a href=\"#HC-nur-mit-Sport-und-Entertainment-und-5%\" data-toc-modified-id=\"HC-nur-mit-Sport-und-Entertainment-und-5%-3.1\"><span class=\"toc-item-num\">3.1&nbsp;&nbsp;</span>HC nur mit Sport und Entertainment und 5%</a></span></li><li><span><a href=\"#Cophenetic-Correlation-Coefficient\" data-toc-modified-id=\"Cophenetic-Correlation-Coefficient-3.2\"><span class=\"toc-item-num\">3.2&nbsp;&nbsp;</span>Cophenetic Correlation Coefficient</a></span></li><li><span><a href=\"#Untersuchung-der-falschzugeordneten-Texte\" data-toc-modified-id=\"Untersuchung-der-falschzugeordneten-Texte-3.3\"><span class=\"toc-item-num\">3.3&nbsp;&nbsp;</span>Untersuchung der falschzugeordneten Texte</a></span></li></ul></li><li><span><a href=\"#HC-nur-mit-Tech-und-Sport-(5%)\" data-toc-modified-id=\"HC-nur-mit-Tech-und-Sport-(5%)-4\"><span class=\"toc-item-num\">4&nbsp;&nbsp;</span>HC nur mit Tech und Sport (5%)</a></span><ul class=\"toc-item\"><li><span><a href=\"#Untersuchung-der-falschzugeordneten-Texte\" data-toc-modified-id=\"Untersuchung-der-falschzugeordneten-Texte-4.1\"><span class=\"toc-item-num\">4.1&nbsp;&nbsp;</span>Untersuchung der falschzugeordneten Texte</a></span></li></ul></li></ul></div>"
   ]
  },
  {
   "cell_type": "markdown",
   "metadata": {},
   "source": [
    "# Imports"
   ]
  },
  {
   "cell_type": "code",
   "execution_count": 1,
   "metadata": {},
   "outputs": [],
   "source": [
    "from sklearn.datasets import make_blobs\n",
    "from sklearn.cluster import AgglomerativeClustering, KMeans\n",
    "from scipy.cluster.hierarchy import dendrogram, linkage\n",
    "from sklearn.decomposition import PCA\n",
    "from sklearn.feature_extraction.text import TfidfVectorizer\n",
    "from scipy.spatial.distance import squareform\n",
    "from sklearn.preprocessing import normalize\n",
    "import pandas as pd\n",
    "from matplotlib import pyplot as plt\n",
    "import numpy as np"
   ]
  },
  {
   "cell_type": "code",
   "execution_count": 2,
   "metadata": {},
   "outputs": [
    {
     "data": {
      "text/html": [
       "<div>\n",
       "<style scoped>\n",
       "    .dataframe tbody tr th:only-of-type {\n",
       "        vertical-align: middle;\n",
       "    }\n",
       "\n",
       "    .dataframe tbody tr th {\n",
       "        vertical-align: top;\n",
       "    }\n",
       "\n",
       "    .dataframe thead th {\n",
       "        text-align: right;\n",
       "    }\n",
       "</style>\n",
       "<table border=\"1\" class=\"dataframe\">\n",
       "  <thead>\n",
       "    <tr style=\"text-align: right;\">\n",
       "      <th></th>\n",
       "      <th>category</th>\n",
       "      <th>filename</th>\n",
       "      <th>title</th>\n",
       "      <th>content</th>\n",
       "      <th>number_of_tokens</th>\n",
       "      <th>number_of_types</th>\n",
       "      <th>stemmed_text</th>\n",
       "      <th>POS_tags</th>\n",
       "      <th>POS</th>\n",
       "      <th>nouns</th>\n",
       "      <th>adjectives</th>\n",
       "      <th>verb</th>\n",
       "    </tr>\n",
       "  </thead>\n",
       "  <tbody>\n",
       "    <tr>\n",
       "      <td>0</td>\n",
       "      <td>business</td>\n",
       "      <td>001.txt</td>\n",
       "      <td>Ad sales boost Time Warner profit</td>\n",
       "      <td>Quarterly profits at US media giant TimeWarne...</td>\n",
       "      <td>415.0</td>\n",
       "      <td>244.0</td>\n",
       "      <td>quarterli profit at US media giant timewarn j...</td>\n",
       "      <td>['_SP', 'NNP', 'NNS', 'IN', 'NNP', 'NNS', 'NN'...</td>\n",
       "      <td>high fourth own fourth underlying exceptional ...</td>\n",
       "      <td>74.0</td>\n",
       "      <td>22.0</td>\n",
       "      <td>1.0</td>\n",
       "    </tr>\n",
       "    <tr>\n",
       "      <td>1</td>\n",
       "      <td>business</td>\n",
       "      <td>002.txt</td>\n",
       "      <td>Dollar gains on Greenspan speech</td>\n",
       "      <td>The dollar has hit its highest level against ...</td>\n",
       "      <td>379.0</td>\n",
       "      <td>230.0</td>\n",
       "      <td>the dollar ha hit it highest level against th...</td>\n",
       "      <td>['_SP', 'DT', 'NN', 'VBZ', 'VBN', 'PRP$', 'JJS...</td>\n",
       "      <td>late recent sanguine current current next shar...</td>\n",
       "      <td>66.0</td>\n",
       "      <td>30.0</td>\n",
       "      <td>9.0</td>\n",
       "    </tr>\n",
       "    <tr>\n",
       "      <td>2</td>\n",
       "      <td>business</td>\n",
       "      <td>003.txt</td>\n",
       "      <td>Yukos unit buyer faces loan claim</td>\n",
       "      <td>The owners of embattled Russian oil giant Yuk...</td>\n",
       "      <td>258.0</td>\n",
       "      <td>168.0</td>\n",
       "      <td>the owner of embattl russian oil giant yuko a...</td>\n",
       "      <td>['_SP', 'DT', 'NNS', 'IN', 'VBN', 'JJ', 'NN', ...</td>\n",
       "      <td>Russian former similar foreign Legal such real...</td>\n",
       "      <td>48.0</td>\n",
       "      <td>12.0</td>\n",
       "      <td>3.0</td>\n",
       "    </tr>\n",
       "    <tr>\n",
       "      <td>3</td>\n",
       "      <td>business</td>\n",
       "      <td>004.txt</td>\n",
       "      <td>High fuel prices hit BA's profits</td>\n",
       "      <td>British Airways has blamed high fuel prices f...</td>\n",
       "      <td>400.0</td>\n",
       "      <td>256.0</td>\n",
       "      <td>british airway ha blame high fuel price for a...</td>\n",
       "      <td>['_SP', 'NNP', 'NNP', 'VBZ', 'VBN', 'JJ', 'NN'...</td>\n",
       "      <td>high pre - tax chief respectable third full la...</td>\n",
       "      <td>77.0</td>\n",
       "      <td>31.0</td>\n",
       "      <td>2.0</td>\n",
       "    </tr>\n",
       "    <tr>\n",
       "      <td>4</td>\n",
       "      <td>business</td>\n",
       "      <td>005.txt</td>\n",
       "      <td>Pernod takeover talk lifts Domecq</td>\n",
       "      <td>Shares in UK drinks and food firm Allied Dome...</td>\n",
       "      <td>260.0</td>\n",
       "      <td>178.0</td>\n",
       "      <td>share in UK drink and food firm alli domecq h...</td>\n",
       "      <td>['_SP', 'NNP', 'IN', 'NNP', 'NNS', 'CC', 'NN',...</td>\n",
       "      <td>French last major global top other Last LVMH b...</td>\n",
       "      <td>42.0</td>\n",
       "      <td>13.0</td>\n",
       "      <td>2.0</td>\n",
       "    </tr>\n",
       "  </tbody>\n",
       "</table>\n",
       "</div>"
      ],
      "text/plain": [
       "   category filename                              title  \\\n",
       "0  business  001.txt  Ad sales boost Time Warner profit   \n",
       "1  business  002.txt   Dollar gains on Greenspan speech   \n",
       "2  business  003.txt  Yukos unit buyer faces loan claim   \n",
       "3  business  004.txt  High fuel prices hit BA's profits   \n",
       "4  business  005.txt  Pernod takeover talk lifts Domecq   \n",
       "\n",
       "                                             content  number_of_tokens  \\\n",
       "0   Quarterly profits at US media giant TimeWarne...             415.0   \n",
       "1   The dollar has hit its highest level against ...             379.0   \n",
       "2   The owners of embattled Russian oil giant Yuk...             258.0   \n",
       "3   British Airways has blamed high fuel prices f...             400.0   \n",
       "4   Shares in UK drinks and food firm Allied Dome...             260.0   \n",
       "\n",
       "   number_of_types                                       stemmed_text  \\\n",
       "0            244.0   quarterli profit at US media giant timewarn j...   \n",
       "1            230.0   the dollar ha hit it highest level against th...   \n",
       "2            168.0   the owner of embattl russian oil giant yuko a...   \n",
       "3            256.0   british airway ha blame high fuel price for a...   \n",
       "4            178.0   share in UK drink and food firm alli domecq h...   \n",
       "\n",
       "                                            POS_tags  \\\n",
       "0  ['_SP', 'NNP', 'NNS', 'IN', 'NNP', 'NNS', 'NN'...   \n",
       "1  ['_SP', 'DT', 'NN', 'VBZ', 'VBN', 'PRP$', 'JJS...   \n",
       "2  ['_SP', 'DT', 'NNS', 'IN', 'VBN', 'JJ', 'NN', ...   \n",
       "3  ['_SP', 'NNP', 'NNP', 'VBZ', 'VBN', 'JJ', 'NN'...   \n",
       "4  ['_SP', 'NNP', 'IN', 'NNP', 'NNS', 'CC', 'NN',...   \n",
       "\n",
       "                                                 POS  nouns  adjectives  verb  \n",
       "0  high fourth own fourth underlying exceptional ...   74.0        22.0   1.0  \n",
       "1  late recent sanguine current current next shar...   66.0        30.0   9.0  \n",
       "2  Russian former similar foreign Legal such real...   48.0        12.0   3.0  \n",
       "3  high pre - tax chief respectable third full la...   77.0        31.0   2.0  \n",
       "4  French last major global top other Last LVMH b...   42.0        13.0   2.0  "
      ]
     },
     "execution_count": 2,
     "metadata": {},
     "output_type": "execute_result"
    }
   ],
   "source": [
    "df = pd.read_csv(\"../../Datensaetze/news_POS_POS_tags_nouns_adjectives_verb.csv\")\n",
    "df.head(5)"
   ]
  },
  {
   "cell_type": "code",
   "execution_count": 3,
   "metadata": {},
   "outputs": [
    {
     "data": {
      "text/html": [
       "<div>\n",
       "<style scoped>\n",
       "    .dataframe tbody tr th:only-of-type {\n",
       "        vertical-align: middle;\n",
       "    }\n",
       "\n",
       "    .dataframe tbody tr th {\n",
       "        vertical-align: top;\n",
       "    }\n",
       "\n",
       "    .dataframe thead th {\n",
       "        text-align: right;\n",
       "    }\n",
       "</style>\n",
       "<table border=\"1\" class=\"dataframe\">\n",
       "  <thead>\n",
       "    <tr style=\"text-align: right;\">\n",
       "      <th></th>\n",
       "      <th>category</th>\n",
       "      <th>filename</th>\n",
       "      <th>title</th>\n",
       "      <th>content</th>\n",
       "      <th>number_of_tokens</th>\n",
       "      <th>number_of_types</th>\n",
       "      <th>stemmed_text</th>\n",
       "      <th>POS_tags</th>\n",
       "      <th>POS</th>\n",
       "      <th>nouns</th>\n",
       "      <th>adjectives</th>\n",
       "      <th>verb</th>\n",
       "    </tr>\n",
       "  </thead>\n",
       "  <tbody>\n",
       "    <tr>\n",
       "      <td>510</td>\n",
       "      <td>entertainment</td>\n",
       "      <td>001.txt</td>\n",
       "      <td>Gallery unveils interactive tree</td>\n",
       "      <td>A Christmas tree that can receive text messag...</td>\n",
       "      <td>186.0</td>\n",
       "      <td>128.0</td>\n",
       "      <td>A christma tree that can receiv text messag h...</td>\n",
       "      <td>['_SP', 'DT', 'NNP', 'NN', 'WDT', 'MD', 'VB', ...</td>\n",
       "      <td>unwrapped responsible broken light 17th previo...</td>\n",
       "      <td>27.0</td>\n",
       "      <td>19.0</td>\n",
       "      <td>3.0</td>\n",
       "    </tr>\n",
       "    <tr>\n",
       "      <td>511</td>\n",
       "      <td>entertainment</td>\n",
       "      <td>002.txt</td>\n",
       "      <td>Jarre joins fairytale celebration</td>\n",
       "      <td>French musician Jean-Michel Jarre is to perfo...</td>\n",
       "      <td>249.0</td>\n",
       "      <td>169.0</td>\n",
       "      <td>french musician jean-michel jarr is to perfor...</td>\n",
       "      <td>['_SP', 'JJ', 'NN', 'NNP', 'HYPH', 'NNP', 'NNP...</td>\n",
       "      <td>French Other coming Danish royal universal pur...</td>\n",
       "      <td>43.0</td>\n",
       "      <td>16.0</td>\n",
       "      <td>4.0</td>\n",
       "    </tr>\n",
       "    <tr>\n",
       "      <td>512</td>\n",
       "      <td>entertainment</td>\n",
       "      <td>003.txt</td>\n",
       "      <td>Musical treatment for Capra film</td>\n",
       "      <td>The classic film It's A Wonderful Life is to ...</td>\n",
       "      <td>187.0</td>\n",
       "      <td>119.0</td>\n",
       "      <td>the classic film It 's A wonder life is to be...</td>\n",
       "      <td>['_SP', 'DT', 'JJ', 'NN', 'PRP', 'VBZ', 'DT', ...</td>\n",
       "      <td>classic Wonderful musical controversial musica...</td>\n",
       "      <td>27.0</td>\n",
       "      <td>12.0</td>\n",
       "      <td>2.0</td>\n",
       "    </tr>\n",
       "    <tr>\n",
       "      <td>513</td>\n",
       "      <td>entertainment</td>\n",
       "      <td>004.txt</td>\n",
       "      <td>Richard and Judy choose top books</td>\n",
       "      <td>The 10 authors shortlisted for a Richard and ...</td>\n",
       "      <td>208.0</td>\n",
       "      <td>148.0</td>\n",
       "      <td>the 10 author shortlist for a richard and jud...</td>\n",
       "      <td>['_SP', 'DT', 'CD', 'NNS', 'VBD', 'IN', 'DT', ...</td>\n",
       "      <td>top Lovely top several last hard last successf...</td>\n",
       "      <td>36.0</td>\n",
       "      <td>10.0</td>\n",
       "      <td>3.0</td>\n",
       "    </tr>\n",
       "    <tr>\n",
       "      <td>514</td>\n",
       "      <td>entertainment</td>\n",
       "      <td>005.txt</td>\n",
       "      <td>Poppins musical gets flying start</td>\n",
       "      <td>The stage adaptation of children's film Mary ...</td>\n",
       "      <td>174.0</td>\n",
       "      <td>131.0</td>\n",
       "      <td>the stage adapt of children 's film mari popp...</td>\n",
       "      <td>['_SP', 'DT', 'NN', 'NN', 'IN', 'NNS', 'POS', ...</td>\n",
       "      <td>lavish standing Technical comic unsuitable per...</td>\n",
       "      <td>35.0</td>\n",
       "      <td>11.0</td>\n",
       "      <td>1.0</td>\n",
       "    </tr>\n",
       "    <tr>\n",
       "      <td>...</td>\n",
       "      <td>...</td>\n",
       "      <td>...</td>\n",
       "      <td>...</td>\n",
       "      <td>...</td>\n",
       "      <td>...</td>\n",
       "      <td>...</td>\n",
       "      <td>...</td>\n",
       "      <td>...</td>\n",
       "      <td>...</td>\n",
       "      <td>...</td>\n",
       "      <td>...</td>\n",
       "      <td>...</td>\n",
       "    </tr>\n",
       "    <tr>\n",
       "      <td>891</td>\n",
       "      <td>entertainment</td>\n",
       "      <td>382.txt</td>\n",
       "      <td>Last Star Wars 'not for children'</td>\n",
       "      <td>The sixth and final Star Wars movie may not b...</td>\n",
       "      <td>228.0</td>\n",
       "      <td>141.0</td>\n",
       "      <td>the sixth and final star war movi may not be ...</td>\n",
       "      <td>['_SP', 'DT', 'JJ', 'CC', 'JJ', 'NNP', 'NNP', ...</td>\n",
       "      <td>sixth final suitable young violent old unsuita...</td>\n",
       "      <td>27.0</td>\n",
       "      <td>22.0</td>\n",
       "      <td>4.0</td>\n",
       "    </tr>\n",
       "    <tr>\n",
       "      <td>892</td>\n",
       "      <td>entertainment</td>\n",
       "      <td>383.txt</td>\n",
       "      <td>French honour for director Parker</td>\n",
       "      <td>British film director Sir Alan Parker has bee...</td>\n",
       "      <td>220.0</td>\n",
       "      <td>153.0</td>\n",
       "      <td>british film director sir alan parker ha been...</td>\n",
       "      <td>['_SP', 'JJ', 'NN', 'NN', 'NNP', 'NNP', 'NNP',...</td>\n",
       "      <td>British cultural immense French modern former ...</td>\n",
       "      <td>32.0</td>\n",
       "      <td>10.0</td>\n",
       "      <td>7.0</td>\n",
       "    </tr>\n",
       "    <tr>\n",
       "      <td>893</td>\n",
       "      <td>entertainment</td>\n",
       "      <td>384.txt</td>\n",
       "      <td>Robots march to US cinema summit</td>\n",
       "      <td>Animated movie Robots has opened at the top o...</td>\n",
       "      <td>267.0</td>\n",
       "      <td>177.0</td>\n",
       "      <td>anim movi robot ha open at the top of the US ...</td>\n",
       "      <td>['_SP', 'VBN', 'NN', 'NNS', 'VBZ', 'VBN', 'IN'...</td>\n",
       "      <td>first big recut last original new little origi...</td>\n",
       "      <td>42.0</td>\n",
       "      <td>13.0</td>\n",
       "      <td>0.0</td>\n",
       "    </tr>\n",
       "    <tr>\n",
       "      <td>894</td>\n",
       "      <td>entertainment</td>\n",
       "      <td>385.txt</td>\n",
       "      <td>Hobbit picture 'four years away'</td>\n",
       "      <td>Lord of the Rings director Peter Jackson has ...</td>\n",
       "      <td>256.0</td>\n",
       "      <td>156.0</td>\n",
       "      <td>lord of the ring director peter jackson ha sa...</td>\n",
       "      <td>['_SP', 'NNP', 'IN', 'DT', 'NNPS', 'NN', 'NNP'...</td>\n",
       "      <td>lengthy major further old Australian undisclos...</td>\n",
       "      <td>35.0</td>\n",
       "      <td>10.0</td>\n",
       "      <td>2.0</td>\n",
       "    </tr>\n",
       "    <tr>\n",
       "      <td>895</td>\n",
       "      <td>entertainment</td>\n",
       "      <td>386.txt</td>\n",
       "      <td>Buffy creator joins Wonder Woman</td>\n",
       "      <td>The creator of Buffy the Vampire Slayer is to...</td>\n",
       "      <td>263.0</td>\n",
       "      <td>163.0</td>\n",
       "      <td>the creator of buffi the vampir slayer is to ...</td>\n",
       "      <td>['_SP', 'DT', 'NN', 'IN', 'NNP', 'DT', 'NNP', ...</td>\n",
       "      <td>new female iconic female red legendary comic d...</td>\n",
       "      <td>44.0</td>\n",
       "      <td>15.0</td>\n",
       "      <td>1.0</td>\n",
       "    </tr>\n",
       "  </tbody>\n",
       "</table>\n",
       "<p>386 rows × 12 columns</p>\n",
       "</div>"
      ],
      "text/plain": [
       "          category filename                              title  \\\n",
       "510  entertainment  001.txt   Gallery unveils interactive tree   \n",
       "511  entertainment  002.txt  Jarre joins fairytale celebration   \n",
       "512  entertainment  003.txt   Musical treatment for Capra film   \n",
       "513  entertainment  004.txt  Richard and Judy choose top books   \n",
       "514  entertainment  005.txt  Poppins musical gets flying start   \n",
       "..             ...      ...                                ...   \n",
       "891  entertainment  382.txt  Last Star Wars 'not for children'   \n",
       "892  entertainment  383.txt  French honour for director Parker   \n",
       "893  entertainment  384.txt   Robots march to US cinema summit   \n",
       "894  entertainment  385.txt   Hobbit picture 'four years away'   \n",
       "895  entertainment  386.txt   Buffy creator joins Wonder Woman   \n",
       "\n",
       "                                               content  number_of_tokens  \\\n",
       "510   A Christmas tree that can receive text messag...             186.0   \n",
       "511   French musician Jean-Michel Jarre is to perfo...             249.0   \n",
       "512   The classic film It's A Wonderful Life is to ...             187.0   \n",
       "513   The 10 authors shortlisted for a Richard and ...             208.0   \n",
       "514   The stage adaptation of children's film Mary ...             174.0   \n",
       "..                                                 ...               ...   \n",
       "891   The sixth and final Star Wars movie may not b...             228.0   \n",
       "892   British film director Sir Alan Parker has bee...             220.0   \n",
       "893   Animated movie Robots has opened at the top o...             267.0   \n",
       "894   Lord of the Rings director Peter Jackson has ...             256.0   \n",
       "895   The creator of Buffy the Vampire Slayer is to...             263.0   \n",
       "\n",
       "     number_of_types                                       stemmed_text  \\\n",
       "510            128.0   A christma tree that can receiv text messag h...   \n",
       "511            169.0   french musician jean-michel jarr is to perfor...   \n",
       "512            119.0   the classic film It 's A wonder life is to be...   \n",
       "513            148.0   the 10 author shortlist for a richard and jud...   \n",
       "514            131.0   the stage adapt of children 's film mari popp...   \n",
       "..               ...                                                ...   \n",
       "891            141.0   the sixth and final star war movi may not be ...   \n",
       "892            153.0   british film director sir alan parker ha been...   \n",
       "893            177.0   anim movi robot ha open at the top of the US ...   \n",
       "894            156.0   lord of the ring director peter jackson ha sa...   \n",
       "895            163.0   the creator of buffi the vampir slayer is to ...   \n",
       "\n",
       "                                              POS_tags  \\\n",
       "510  ['_SP', 'DT', 'NNP', 'NN', 'WDT', 'MD', 'VB', ...   \n",
       "511  ['_SP', 'JJ', 'NN', 'NNP', 'HYPH', 'NNP', 'NNP...   \n",
       "512  ['_SP', 'DT', 'JJ', 'NN', 'PRP', 'VBZ', 'DT', ...   \n",
       "513  ['_SP', 'DT', 'CD', 'NNS', 'VBD', 'IN', 'DT', ...   \n",
       "514  ['_SP', 'DT', 'NN', 'NN', 'IN', 'NNS', 'POS', ...   \n",
       "..                                                 ...   \n",
       "891  ['_SP', 'DT', 'JJ', 'CC', 'JJ', 'NNP', 'NNP', ...   \n",
       "892  ['_SP', 'JJ', 'NN', 'NN', 'NNP', 'NNP', 'NNP',...   \n",
       "893  ['_SP', 'VBN', 'NN', 'NNS', 'VBZ', 'VBN', 'IN'...   \n",
       "894  ['_SP', 'NNP', 'IN', 'DT', 'NNPS', 'NN', 'NNP'...   \n",
       "895  ['_SP', 'DT', 'NN', 'IN', 'NNP', 'DT', 'NNP', ...   \n",
       "\n",
       "                                                   POS  nouns  adjectives  \\\n",
       "510  unwrapped responsible broken light 17th previo...   27.0        19.0   \n",
       "511  French Other coming Danish royal universal pur...   43.0        16.0   \n",
       "512  classic Wonderful musical controversial musica...   27.0        12.0   \n",
       "513  top Lovely top several last hard last successf...   36.0        10.0   \n",
       "514  lavish standing Technical comic unsuitable per...   35.0        11.0   \n",
       "..                                                 ...    ...         ...   \n",
       "891  sixth final suitable young violent old unsuita...   27.0        22.0   \n",
       "892  British cultural immense French modern former ...   32.0        10.0   \n",
       "893  first big recut last original new little origi...   42.0        13.0   \n",
       "894  lengthy major further old Australian undisclos...   35.0        10.0   \n",
       "895  new female iconic female red legendary comic d...   44.0        15.0   \n",
       "\n",
       "     verb  \n",
       "510   3.0  \n",
       "511   4.0  \n",
       "512   2.0  \n",
       "513   3.0  \n",
       "514   1.0  \n",
       "..    ...  \n",
       "891   4.0  \n",
       "892   7.0  \n",
       "893   0.0  \n",
       "894   2.0  \n",
       "895   1.0  \n",
       "\n",
       "[386 rows x 12 columns]"
      ]
     },
     "execution_count": 3,
     "metadata": {},
     "output_type": "execute_result"
    }
   ],
   "source": [
    "df[df['category'] == 'entertainment']"
   ]
  },
  {
   "cell_type": "markdown",
   "metadata": {},
   "source": [
    "# HC mit allen Kategorien"
   ]
  },
  {
   "cell_type": "code",
   "execution_count": 4,
   "metadata": {},
   "outputs": [],
   "source": [
    "tf_idf_vectorizor = TfidfVectorizer(max_features=1000,\n",
    "                                    stop_words=\"english\")\n",
    "\n",
    "tf_idf = tf_idf_vectorizor.fit_transform(df.content)\n",
    "tf_idf_norm = normalize(tf_idf)\n",
    "#tf_idf_norm = tf_idf_norm.fillna(0)\n",
    "tf_idf_array = tf_idf_norm.toarray()"
   ]
  },
  {
   "cell_type": "code",
   "execution_count": 5,
   "metadata": {},
   "outputs": [],
   "source": [
    "def linkage_matrix(n_samples, children, distances):\n",
    "    \"\"\"\n",
    "    create a linkage matrix for the dendogram method in scipy\n",
    "    n_samples: int, number of samples\n",
    "    children: list of lists, clustered data points (should be 2)\n",
    "    distances: list of distances between nodes\n",
    "    \"\"\"\n",
    "    # Create linkage matrix\n",
    "    \n",
    "\n",
    "    # create the counts of samples under each node\n",
    "    counts = np.zeros(children.shape[0])\n",
    "    for i, merge in enumerate(children):\n",
    "        current_count = 0\n",
    "        for child_idx in merge:\n",
    "            if child_idx < n_samples:\n",
    "                current_count += 1  # leaf node\n",
    "            else:\n",
    "                current_count += counts[child_idx - n_samples]\n",
    "        counts[i] = current_count\n",
    "\n",
    "    return np.column_stack([children, distances, counts]).astype(float)"
   ]
  },
  {
   "cell_type": "code",
   "execution_count": 8,
   "metadata": {},
   "outputs": [
    {
     "data": {
      "image/png": "[encoded data removed]",
      "text/plain": [
       "<Figure size 5040x1440 with 1 Axes>"
      ]
     },
     "metadata": {
      "needs_background": "light"
     },
     "output_type": "display_data"
    }
   ],
   "source": [
    "sklearn_pca = PCA(n_components = 5)\n",
    "Y_sklearn = sklearn_pca.fit_transform(tf_idf_array)\n",
    "model = AgglomerativeClustering(n_clusters=None, distance_threshold=0).fit(Y_sklearn)\n",
    "link_matrix = linkage_matrix(Y_sklearn.shape[0], model.children_, model.distances_)\n",
    "plt.figure(figsize=(70,20))\n",
    "plt.title('HC')\n",
    "\n",
    "dendrogram(link_matrix, labels = df.category.values, leaf_font_size=10);\n",
    "#plt.savefig('..', bbox_inches = \"tight\")"
   ]
  },
  {
   "cell_type": "markdown",
   "metadata": {},
   "source": [
    "## HC mit allen Kategorien (Sample 2,5%)"
   ]
  },
  {
   "cell_type": "code",
   "execution_count": 9,
   "metadata": {},
   "outputs": [
    {
     "data": {
      "text/plain": [
       "(56, 12)"
      ]
     },
     "execution_count": 9,
     "metadata": {},
     "output_type": "execute_result"
    }
   ],
   "source": [
    "df_sample = df.copy()\n",
    "df_sample1 = df_sample.sample(frac=.025, replace=False, random_state=42)\n",
    "df_sample1.shape"
   ]
  },
  {
   "cell_type": "code",
   "execution_count": 10,
   "metadata": {},
   "outputs": [
    {
     "data": {
      "text/plain": [
       "Counter({'business': 18,\n",
       "         'sport': 12,\n",
       "         'politics': 8,\n",
       "         'entertainment': 10,\n",
       "         'tech': 8})"
      ]
     },
     "execution_count": 10,
     "metadata": {},
     "output_type": "execute_result"
    }
   ],
   "source": [
    "from collections import Counter\n",
    "\n",
    "Counter(df_sample1.category)"
   ]
  },
  {
   "cell_type": "code",
   "execution_count": 11,
   "metadata": {},
   "outputs": [],
   "source": [
    "tf_idf_vectorizor = TfidfVectorizer()\n",
    "\n",
    "tf_idf = tf_idf_vectorizor.fit_transform(df_sample1.content)\n",
    "tf_idf_norm = normalize(tf_idf)\n",
    "#tf_idf_norm = tf_idf_norm.fillna(0)\n",
    "tf_idf_array = tf_idf_norm.toarray()"
   ]
  },
  {
   "cell_type": "code",
   "execution_count": 13,
   "metadata": {},
   "outputs": [
    {
     "data": {
      "image/png": "[encoded data removed]",
      "text/plain": [
       "<Figure size 864x576 with 1 Axes>"
      ]
     },
     "metadata": {
      "needs_background": "light"
     },
     "output_type": "display_data"
    }
   ],
   "source": [
    "sklearn_pca = PCA(n_components = 5)\n",
    "Y_sklearn = sklearn_pca.fit_transform(tf_idf_array)\n",
    "model = AgglomerativeClustering(n_clusters=None, distance_threshold=0).fit(Y_sklearn)\n",
    "link_matrix = linkage_matrix(Y_sklearn.shape[0], model.children_, model.distances_)\n",
    "plt.figure(figsize=(12,8))\n",
    "plt.title('HC')\n",
    "\n",
    "dendrogram(link_matrix, labels = (df_sample1['category'].values + ' ' + '/' + ' ' + df_sample1['filename'].values),\n",
    "           leaf_font_size=10);\n",
    "#plt.savefig('../../Bilder/HC/HC_PCA_2.5_percent_all_categorys.png', bbox_inches = \"tight\")"
   ]
  },
  {
   "cell_type": "code",
   "execution_count": 63,
   "metadata": {
    "scrolled": true
   },
   "outputs": [
    {
     "data": {
      "text/plain": [
       "[' UK mobile owners continue to break records with their text messaging, with latest figures showing that 26 billion texts were sent in total in 2004.  The figures collected by the Mobile Data Association (MDA) showed that 2.4 billion were fired off in December alone, the highest monthly total ever. That was 26% more than in December 2003. The records even surpassed the MDA\\'s own predictions, it said. Every day 78 million messages are sent and there are no signs of a slow down. Before December\\'s bumper text record, the previous highest monthly total was in October 2004, when 2.3 billion were sent. Text messaging is set to smash more records in 2005 too, said the MDA, with forecasts suggesting a total of 30 billion for the year.  Even though mobiles are becoming increasingly sophisticated with much more multimedia applications, texting is still one of the most useful functions of mobiles. People are using SMS to do much more too. Booking cinema tickets, text voting, and news or sports text alerts are growing popular. Mobile owners have also given the chance to donate to the Disasters Emergency Committee\\'s (DEC) Asian Tsunami fund by texting \"Donate\" to a simple short code number. Looking further ahead in the year, the MDA\\'s chairman Mike Short, has predicted that more people will go online through their mobiles, estimating 15 billion WAP page impressions. Handsets with GPRS capability - an \"always on\" net connection - will rise to 75%, while 3G mobile ownership growing to five million by the end of 2005. These third generation mobiles offer a high-speed connection which means more data like video can be received on the phone. Globally, mobile phone sales passed 167 million in the third quarter of 2004, according to a recent report from analysts Gartner. That was 26% more than the previous year. It is predicted that there would be two billion handsets in use worldwide by the end of 2005. ']"
      ]
     },
     "execution_count": 63,
     "metadata": {},
     "output_type": "execute_result"
    }
   ],
   "source": [
    "Text287 = df_sample1[df_sample1['filename']  ==  '287.txt']\n",
    "List287 = Text287.content.tolist()\n",
    "List287\n",
    "\n",
    "#dfObj[(dfObj['Sale'] > 30) & (dfObj['Sale'] < 33) ]"
   ]
  },
  {
   "cell_type": "markdown",
   "metadata": {},
   "source": [
    "# HC nur mit Sport und Entertainment"
   ]
  },
  {
   "cell_type": "code",
   "execution_count": 14,
   "metadata": {},
   "outputs": [],
   "source": [
    "data1 = df[df['category'] == 'sport']\n",
    "data2 = df[df['category'] == 'entertainment']"
   ]
  },
  {
   "cell_type": "code",
   "execution_count": 15,
   "metadata": {},
   "outputs": [],
   "source": [
    "dataSE = pd.concat([data1, data2], axis = 0)\n",
    "\n",
    "tf_idf_vectorizor = TfidfVectorizer(max_features=1000,\n",
    "                                    stop_words=\"english\")\n",
    "\n",
    "tf_idf = tf_idf_vectorizor.fit_transform(dataSE.content)\n",
    "tf_idf_norm = normalize(tf_idf)\n",
    "#tf_idf_norm = tf_idf_norm.fillna(0)\n",
    "tf_idf_array = tf_idf_norm.toarray()"
   ]
  },
  {
   "cell_type": "code",
   "execution_count": 16,
   "metadata": {},
   "outputs": [
    {
     "data": {
      "text/html": [
       "<div>\n",
       "<style scoped>\n",
       "    .dataframe tbody tr th:only-of-type {\n",
       "        vertical-align: middle;\n",
       "    }\n",
       "\n",
       "    .dataframe tbody tr th {\n",
       "        vertical-align: top;\n",
       "    }\n",
       "\n",
       "    .dataframe thead th {\n",
       "        text-align: right;\n",
       "    }\n",
       "</style>\n",
       "<table border=\"1\" class=\"dataframe\">\n",
       "  <thead>\n",
       "    <tr style=\"text-align: right;\">\n",
       "      <th></th>\n",
       "      <th>category</th>\n",
       "      <th>filename</th>\n",
       "      <th>title</th>\n",
       "      <th>content</th>\n",
       "      <th>number_of_tokens</th>\n",
       "      <th>number_of_types</th>\n",
       "      <th>stemmed_text</th>\n",
       "      <th>POS_tags</th>\n",
       "      <th>POS</th>\n",
       "      <th>nouns</th>\n",
       "      <th>adjectives</th>\n",
       "      <th>verb</th>\n",
       "    </tr>\n",
       "  </thead>\n",
       "  <tbody>\n",
       "    <tr>\n",
       "      <td>1313</td>\n",
       "      <td>sport</td>\n",
       "      <td>001.txt</td>\n",
       "      <td>Claxton hunting first major medal</td>\n",
       "      <td>British hurdler Sarah Claxton is confident sh...</td>\n",
       "      <td>206.0</td>\n",
       "      <td>145.0</td>\n",
       "      <td>british hurdler sarah claxton is confid she c...</td>\n",
       "      <td>['_SP', 'JJ', 'NN', 'NNP', 'NNP', 'VBZ', 'JJ',...</td>\n",
       "      <td>British confident first major next old British...</td>\n",
       "      <td>29.0</td>\n",
       "      <td>22.0</td>\n",
       "      <td>5.0</td>\n",
       "    </tr>\n",
       "    <tr>\n",
       "      <td>1314</td>\n",
       "      <td>sport</td>\n",
       "      <td>002.txt</td>\n",
       "      <td>O'Sullivan could run in Worlds</td>\n",
       "      <td>Sonia O'Sullivan has indicated that she would...</td>\n",
       "      <td>139.0</td>\n",
       "      <td>103.0</td>\n",
       "      <td>sonia o'sullivan ha indic that she would like...</td>\n",
       "      <td>['_SP', 'NNP', 'NNP', 'VBZ', 'VBN', 'IN', 'PRP...</td>\n",
       "      <td>next old official Provincial last present firs...</td>\n",
       "      <td>16.0</td>\n",
       "      <td>9.0</td>\n",
       "      <td>2.0</td>\n",
       "    </tr>\n",
       "    <tr>\n",
       "      <td>1315</td>\n",
       "      <td>sport</td>\n",
       "      <td>003.txt</td>\n",
       "      <td>Greene sets sights on world title</td>\n",
       "      <td>Maurice Greene aims to wipe out the pain of l...</td>\n",
       "      <td>371.0</td>\n",
       "      <td>229.0</td>\n",
       "      <td>mauric green aim to wipe out the pain of lose...</td>\n",
       "      <td>['_SP', 'NNP', 'NNP', 'VBZ', 'TO', 'VB', 'RP',...</td>\n",
       "      <td>fourth fellow semi semi - final final alone ab...</td>\n",
       "      <td>42.0</td>\n",
       "      <td>16.0</td>\n",
       "      <td>5.0</td>\n",
       "    </tr>\n",
       "    <tr>\n",
       "      <td>1316</td>\n",
       "      <td>sport</td>\n",
       "      <td>004.txt</td>\n",
       "      <td>IAAF launches fight against drugs</td>\n",
       "      <td>The IAAF - athletics' world governing body - ...</td>\n",
       "      <td>190.0</td>\n",
       "      <td>132.0</td>\n",
       "      <td>the iaaf - athlet ' world govern bodi - ha me...</td>\n",
       "      <td>['_SP', 'DT', 'NNP', 'HYPH', 'NNS', 'POS', 'NN...</td>\n",
       "      <td>anti - doping - happy clean world body fight s...</td>\n",
       "      <td>31.0</td>\n",
       "      <td>6.0</td>\n",
       "      <td>3.0</td>\n",
       "    </tr>\n",
       "    <tr>\n",
       "      <td>1317</td>\n",
       "      <td>sport</td>\n",
       "      <td>005.txt</td>\n",
       "      <td>Dibaba breaks 5,000m world record</td>\n",
       "      <td>Ethiopia's Tirunesh Dibaba set a new world re...</td>\n",
       "      <td>156.0</td>\n",
       "      <td>118.0</td>\n",
       "      <td>ethiopia 's tirunesh dibaba set a new world r...</td>\n",
       "      <td>['_SP', 'NNP', 'POS', 'NNP', 'NNP', 'VBD', 'DT...</td>\n",
       "      <td>new previous indoor Ethiopian last compatriot ...</td>\n",
       "      <td>18.0</td>\n",
       "      <td>8.0</td>\n",
       "      <td>0.0</td>\n",
       "    </tr>\n",
       "    <tr>\n",
       "      <td>...</td>\n",
       "      <td>...</td>\n",
       "      <td>...</td>\n",
       "      <td>...</td>\n",
       "      <td>...</td>\n",
       "      <td>...</td>\n",
       "      <td>...</td>\n",
       "      <td>...</td>\n",
       "      <td>...</td>\n",
       "      <td>...</td>\n",
       "      <td>...</td>\n",
       "      <td>...</td>\n",
       "      <td>...</td>\n",
       "    </tr>\n",
       "    <tr>\n",
       "      <td>891</td>\n",
       "      <td>entertainment</td>\n",
       "      <td>382.txt</td>\n",
       "      <td>Last Star Wars 'not for children'</td>\n",
       "      <td>The sixth and final Star Wars movie may not b...</td>\n",
       "      <td>228.0</td>\n",
       "      <td>141.0</td>\n",
       "      <td>the sixth and final star war movi may not be ...</td>\n",
       "      <td>['_SP', 'DT', 'JJ', 'CC', 'JJ', 'NNP', 'NNP', ...</td>\n",
       "      <td>sixth final suitable young violent old unsuita...</td>\n",
       "      <td>27.0</td>\n",
       "      <td>22.0</td>\n",
       "      <td>4.0</td>\n",
       "    </tr>\n",
       "    <tr>\n",
       "      <td>892</td>\n",
       "      <td>entertainment</td>\n",
       "      <td>383.txt</td>\n",
       "      <td>French honour for director Parker</td>\n",
       "      <td>British film director Sir Alan Parker has bee...</td>\n",
       "      <td>220.0</td>\n",
       "      <td>153.0</td>\n",
       "      <td>british film director sir alan parker ha been...</td>\n",
       "      <td>['_SP', 'JJ', 'NN', 'NN', 'NNP', 'NNP', 'NNP',...</td>\n",
       "      <td>British cultural immense French modern former ...</td>\n",
       "      <td>32.0</td>\n",
       "      <td>10.0</td>\n",
       "      <td>7.0</td>\n",
       "    </tr>\n",
       "    <tr>\n",
       "      <td>893</td>\n",
       "      <td>entertainment</td>\n",
       "      <td>384.txt</td>\n",
       "      <td>Robots march to US cinema summit</td>\n",
       "      <td>Animated movie Robots has opened at the top o...</td>\n",
       "      <td>267.0</td>\n",
       "      <td>177.0</td>\n",
       "      <td>anim movi robot ha open at the top of the US ...</td>\n",
       "      <td>['_SP', 'VBN', 'NN', 'NNS', 'VBZ', 'VBN', 'IN'...</td>\n",
       "      <td>first big recut last original new little origi...</td>\n",
       "      <td>42.0</td>\n",
       "      <td>13.0</td>\n",
       "      <td>0.0</td>\n",
       "    </tr>\n",
       "    <tr>\n",
       "      <td>894</td>\n",
       "      <td>entertainment</td>\n",
       "      <td>385.txt</td>\n",
       "      <td>Hobbit picture 'four years away'</td>\n",
       "      <td>Lord of the Rings director Peter Jackson has ...</td>\n",
       "      <td>256.0</td>\n",
       "      <td>156.0</td>\n",
       "      <td>lord of the ring director peter jackson ha sa...</td>\n",
       "      <td>['_SP', 'NNP', 'IN', 'DT', 'NNPS', 'NN', 'NNP'...</td>\n",
       "      <td>lengthy major further old Australian undisclos...</td>\n",
       "      <td>35.0</td>\n",
       "      <td>10.0</td>\n",
       "      <td>2.0</td>\n",
       "    </tr>\n",
       "    <tr>\n",
       "      <td>895</td>\n",
       "      <td>entertainment</td>\n",
       "      <td>386.txt</td>\n",
       "      <td>Buffy creator joins Wonder Woman</td>\n",
       "      <td>The creator of Buffy the Vampire Slayer is to...</td>\n",
       "      <td>263.0</td>\n",
       "      <td>163.0</td>\n",
       "      <td>the creator of buffi the vampir slayer is to ...</td>\n",
       "      <td>['_SP', 'DT', 'NN', 'IN', 'NNP', 'DT', 'NNP', ...</td>\n",
       "      <td>new female iconic female red legendary comic d...</td>\n",
       "      <td>44.0</td>\n",
       "      <td>15.0</td>\n",
       "      <td>1.0</td>\n",
       "    </tr>\n",
       "  </tbody>\n",
       "</table>\n",
       "<p>897 rows × 12 columns</p>\n",
       "</div>"
      ],
      "text/plain": [
       "           category filename                              title  \\\n",
       "1313          sport  001.txt  Claxton hunting first major medal   \n",
       "1314          sport  002.txt     O'Sullivan could run in Worlds   \n",
       "1315          sport  003.txt  Greene sets sights on world title   \n",
       "1316          sport  004.txt  IAAF launches fight against drugs   \n",
       "1317          sport  005.txt  Dibaba breaks 5,000m world record   \n",
       "...             ...      ...                                ...   \n",
       "891   entertainment  382.txt  Last Star Wars 'not for children'   \n",
       "892   entertainment  383.txt  French honour for director Parker   \n",
       "893   entertainment  384.txt   Robots march to US cinema summit   \n",
       "894   entertainment  385.txt   Hobbit picture 'four years away'   \n",
       "895   entertainment  386.txt   Buffy creator joins Wonder Woman   \n",
       "\n",
       "                                                content  number_of_tokens  \\\n",
       "1313   British hurdler Sarah Claxton is confident sh...             206.0   \n",
       "1314   Sonia O'Sullivan has indicated that she would...             139.0   \n",
       "1315   Maurice Greene aims to wipe out the pain of l...             371.0   \n",
       "1316   The IAAF - athletics' world governing body - ...             190.0   \n",
       "1317   Ethiopia's Tirunesh Dibaba set a new world re...             156.0   \n",
       "...                                                 ...               ...   \n",
       "891    The sixth and final Star Wars movie may not b...             228.0   \n",
       "892    British film director Sir Alan Parker has bee...             220.0   \n",
       "893    Animated movie Robots has opened at the top o...             267.0   \n",
       "894    Lord of the Rings director Peter Jackson has ...             256.0   \n",
       "895    The creator of Buffy the Vampire Slayer is to...             263.0   \n",
       "\n",
       "      number_of_types                                       stemmed_text  \\\n",
       "1313            145.0   british hurdler sarah claxton is confid she c...   \n",
       "1314            103.0   sonia o'sullivan ha indic that she would like...   \n",
       "1315            229.0   mauric green aim to wipe out the pain of lose...   \n",
       "1316            132.0   the iaaf - athlet ' world govern bodi - ha me...   \n",
       "1317            118.0   ethiopia 's tirunesh dibaba set a new world r...   \n",
       "...               ...                                                ...   \n",
       "891             141.0   the sixth and final star war movi may not be ...   \n",
       "892             153.0   british film director sir alan parker ha been...   \n",
       "893             177.0   anim movi robot ha open at the top of the US ...   \n",
       "894             156.0   lord of the ring director peter jackson ha sa...   \n",
       "895             163.0   the creator of buffi the vampir slayer is to ...   \n",
       "\n",
       "                                               POS_tags  \\\n",
       "1313  ['_SP', 'JJ', 'NN', 'NNP', 'NNP', 'VBZ', 'JJ',...   \n",
       "1314  ['_SP', 'NNP', 'NNP', 'VBZ', 'VBN', 'IN', 'PRP...   \n",
       "1315  ['_SP', 'NNP', 'NNP', 'VBZ', 'TO', 'VB', 'RP',...   \n",
       "1316  ['_SP', 'DT', 'NNP', 'HYPH', 'NNS', 'POS', 'NN...   \n",
       "1317  ['_SP', 'NNP', 'POS', 'NNP', 'NNP', 'VBD', 'DT...   \n",
       "...                                                 ...   \n",
       "891   ['_SP', 'DT', 'JJ', 'CC', 'JJ', 'NNP', 'NNP', ...   \n",
       "892   ['_SP', 'JJ', 'NN', 'NN', 'NNP', 'NNP', 'NNP',...   \n",
       "893   ['_SP', 'VBN', 'NN', 'NNS', 'VBZ', 'VBN', 'IN'...   \n",
       "894   ['_SP', 'NNP', 'IN', 'DT', 'NNPS', 'NN', 'NNP'...   \n",
       "895   ['_SP', 'DT', 'NN', 'IN', 'NNP', 'DT', 'NNP', ...   \n",
       "\n",
       "                                                    POS  nouns  adjectives  \\\n",
       "1313  British confident first major next old British...   29.0        22.0   \n",
       "1314  next old official Provincial last present firs...   16.0         9.0   \n",
       "1315  fourth fellow semi semi - final final alone ab...   42.0        16.0   \n",
       "1316  anti - doping - happy clean world body fight s...   31.0         6.0   \n",
       "1317  new previous indoor Ethiopian last compatriot ...   18.0         8.0   \n",
       "...                                                 ...    ...         ...   \n",
       "891   sixth final suitable young violent old unsuita...   27.0        22.0   \n",
       "892   British cultural immense French modern former ...   32.0        10.0   \n",
       "893   first big recut last original new little origi...   42.0        13.0   \n",
       "894   lengthy major further old Australian undisclos...   35.0        10.0   \n",
       "895   new female iconic female red legendary comic d...   44.0        15.0   \n",
       "\n",
       "      verb  \n",
       "1313   5.0  \n",
       "1314   2.0  \n",
       "1315   5.0  \n",
       "1316   3.0  \n",
       "1317   0.0  \n",
       "...    ...  \n",
       "891    4.0  \n",
       "892    7.0  \n",
       "893    0.0  \n",
       "894    2.0  \n",
       "895    1.0  \n",
       "\n",
       "[897 rows x 12 columns]"
      ]
     },
     "execution_count": 16,
     "metadata": {},
     "output_type": "execute_result"
    }
   ],
   "source": [
    "dataSE"
   ]
  },
  {
   "cell_type": "code",
   "execution_count": 17,
   "metadata": {},
   "outputs": [],
   "source": [
    "def linkage_matrix(n_samples, children, distances):\n",
    "    \"\"\"\n",
    "    create a linkage matrix for the dendogram method in scipy\n",
    "    n_samples: int, number of samples\n",
    "    children: list of lists, clustered data points (should be 2)\n",
    "    distances: list of distances between nodes\n",
    "    \"\"\"\n",
    "    # Create linkage matrix\n",
    "    \n",
    "\n",
    "    # create the counts of samples under each node\n",
    "    counts = np.zeros(children.shape[0])\n",
    "    for i, merge in enumerate(children):\n",
    "        current_count = 0\n",
    "        for child_idx in merge:\n",
    "            if child_idx < n_samples:\n",
    "                current_count += 1  # leaf node\n",
    "            else:\n",
    "                current_count += counts[child_idx - n_samples]\n",
    "        counts[i] = current_count\n",
    "\n",
    "    return np.column_stack([children, distances, counts]).astype(float)"
   ]
  },
  {
   "cell_type": "code",
   "execution_count": 19,
   "metadata": {},
   "outputs": [
    {
     "data": {
      "image/png": "[encoded data removed]",
      "text/plain": [
       "<Figure size 864x576 with 1 Axes>"
      ]
     },
     "metadata": {
      "needs_background": "light"
     },
     "output_type": "display_data"
    }
   ],
   "source": [
    "sklearn_pca = PCA(n_components = 1)\n",
    "Y_sklearn = sklearn_pca.fit_transform(tf_idf_array)\n",
    "model = AgglomerativeClustering(n_clusters=None, distance_threshold=0).fit(Y_sklearn)\n",
    "link_matrix = linkage_matrix(Y_sklearn.shape[0], model.children_, model.distances_)\n",
    "plt.figure(figsize=(12,8))\n",
    "plt.title('HC')\n",
    "\n",
    "dendrogram(link_matrix, labels = dataSE.category.values, leaf_font_size=10);\n",
    "#plt.savefig('../../Bilder/HC/HC_Sport_Entertainment.png', bbox_inches = \"tight\")"
   ]
  },
  {
   "cell_type": "code",
   "execution_count": 20,
   "metadata": {},
   "outputs": [],
   "source": [
    "def fancy_dendrogram(*args, **kwargs):\n",
    "    max_d = kwargs.pop('max_d', None)\n",
    "    if max_d and 'color_threshold' not in kwargs:\n",
    "        kwargs['color_threshold'] = max_d\n",
    "    annotate_above = kwargs.pop('annotate_above', 0)\n",
    "\n",
    "    ddata = dendrogram(*args, **kwargs)\n",
    "\n",
    "    if not kwargs.get('no_plot', False):\n",
    "        plt.title('Hierarchical Clustering Dendrogram (truncated)')\n",
    "        plt.xlabel('sample index or (cluster size)')\n",
    "        plt.ylabel('distance')\n",
    "        for i, d, c in zip(ddata['icoord'], ddata['dcoord'], ddata['color_list']):\n",
    "            x = 0.5 * sum(i[1:3])\n",
    "            y = d[1]\n",
    "            if y > annotate_above:\n",
    "                plt.plot(x, y, 'ro', c=c)\n",
    "                plt.annotate(\"%.3g\" % y, (x, y), xytext=(0, -5),\n",
    "                             textcoords='offset points',\n",
    "                             va='top', ha='center')\n",
    "        if max_d:\n",
    "            plt.axhline(y=max_d, c='k')\n",
    "    return ddata"
   ]
  },
  {
   "cell_type": "code",
   "execution_count": 21,
   "metadata": {},
   "outputs": [
    {
     "data": {
      "image/png": "[encoded data removed]",
      "text/plain": [
       "<Figure size 432x288 with 1 Axes>"
      ]
     },
     "metadata": {
      "needs_background": "light"
     },
     "output_type": "display_data"
    }
   ],
   "source": [
    "model = AgglomerativeClustering(n_clusters=None, distance_threshold=0).fit(tf_idf_array)\n",
    "link_matrix = linkage_matrix(tf_idf_array.shape[0], model.children_, model.distances_)\n",
    "fancy_dendrogram(\n",
    "    link_matrix,\n",
    "    truncate_mode='lastp',\n",
    "    p=12,\n",
    "    leaf_rotation=90.,\n",
    "    leaf_font_size=12.,\n",
    "    above_threshold_color='y',\n",
    "    show_contracted=True,\n",
    "    annotate_above=10  # useful in small plots so annotations don't overlap\n",
    ")\n",
    "#plt.savefig('../images/HC/hc_latin_hiphop.png', bbox_inches = \"tight\")\n",
    "plt.show()"
   ]
  },
  {
   "cell_type": "markdown",
   "metadata": {},
   "source": [
    "## HC nur mit Sport und Entertainment und 5%"
   ]
  },
  {
   "cell_type": "code",
   "execution_count": 41,
   "metadata": {},
   "outputs": [
    {
     "data": {
      "text/plain": [
       "(45, 12)"
      ]
     },
     "execution_count": 41,
     "metadata": {},
     "output_type": "execute_result"
    }
   ],
   "source": [
    "data_sample = dataSE.copy()\n",
    "data_sample2 = data_sample.sample(frac=.05, replace=False, random_state=42)\n",
    "data_sample2.shape"
   ]
  },
  {
   "cell_type": "code",
   "execution_count": 42,
   "metadata": {},
   "outputs": [
    {
     "data": {
      "text/html": [
       "<div>\n",
       "<style scoped>\n",
       "    .dataframe tbody tr th:only-of-type {\n",
       "        vertical-align: middle;\n",
       "    }\n",
       "\n",
       "    .dataframe tbody tr th {\n",
       "        vertical-align: top;\n",
       "    }\n",
       "\n",
       "    .dataframe thead th {\n",
       "        text-align: right;\n",
       "    }\n",
       "</style>\n",
       "<table border=\"1\" class=\"dataframe\">\n",
       "  <thead>\n",
       "    <tr style=\"text-align: right;\">\n",
       "      <th></th>\n",
       "      <th>category</th>\n",
       "      <th>filename</th>\n",
       "      <th>title</th>\n",
       "      <th>content</th>\n",
       "      <th>number_of_tokens</th>\n",
       "      <th>number_of_types</th>\n",
       "      <th>stemmed_text</th>\n",
       "      <th>POS_tags</th>\n",
       "      <th>POS</th>\n",
       "      <th>nouns</th>\n",
       "      <th>adjectives</th>\n",
       "      <th>verb</th>\n",
       "    </tr>\n",
       "  </thead>\n",
       "  <tbody>\n",
       "    <tr>\n",
       "      <td>1644</td>\n",
       "      <td>sport</td>\n",
       "      <td>332.txt</td>\n",
       "      <td>Harinordoquy suffers France axe</td>\n",
       "      <td>Number eight Imanol Harinordoquy has been dro...</td>\n",
       "      <td>337.0</td>\n",
       "      <td>214.0</td>\n",
       "      <td>number eight imanol harinordoquy ha been drop...</td>\n",
       "      <td>['_SP', 'NN', 'CD', 'NNP', 'NNP', 'VBZ', 'VBN'...</td>\n",
       "      <td>second last second last second poor last fast ...</td>\n",
       "      <td>33.0</td>\n",
       "      <td>15.0</td>\n",
       "      <td>7.0</td>\n",
       "    </tr>\n",
       "    <tr>\n",
       "      <td>637</td>\n",
       "      <td>entertainment</td>\n",
       "      <td>128.txt</td>\n",
       "      <td>Top gig award for Scissor Sisters</td>\n",
       "      <td>New York band Scissor Sisters have won a gig ...</td>\n",
       "      <td>205.0</td>\n",
       "      <td>139.0</td>\n",
       "      <td>new york band scissor sister have won a gig o...</td>\n",
       "      <td>['_SP', 'NNP', 'NNP', 'NN', 'NNP', 'NNPS', 'VB...</td>\n",
       "      <td>top quirky amazing original eccentric British ...</td>\n",
       "      <td>34.0</td>\n",
       "      <td>8.0</td>\n",
       "      <td>4.0</td>\n",
       "    </tr>\n",
       "  </tbody>\n",
       "</table>\n",
       "</div>"
      ],
      "text/plain": [
       "           category filename                              title  \\\n",
       "1644          sport  332.txt    Harinordoquy suffers France axe   \n",
       "637   entertainment  128.txt  Top gig award for Scissor Sisters   \n",
       "\n",
       "                                                content  number_of_tokens  \\\n",
       "1644   Number eight Imanol Harinordoquy has been dro...             337.0   \n",
       "637    New York band Scissor Sisters have won a gig ...             205.0   \n",
       "\n",
       "      number_of_types                                       stemmed_text  \\\n",
       "1644            214.0   number eight imanol harinordoquy ha been drop...   \n",
       "637             139.0   new york band scissor sister have won a gig o...   \n",
       "\n",
       "                                               POS_tags  \\\n",
       "1644  ['_SP', 'NN', 'CD', 'NNP', 'NNP', 'VBZ', 'VBN'...   \n",
       "637   ['_SP', 'NNP', 'NNP', 'NN', 'NNP', 'NNPS', 'VB...   \n",
       "\n",
       "                                                    POS  nouns  adjectives  \\\n",
       "1644  second last second last second poor last fast ...   33.0        15.0   \n",
       "637   top quirky amazing original eccentric British ...   34.0         8.0   \n",
       "\n",
       "      verb  \n",
       "1644   7.0  \n",
       "637    4.0  "
      ]
     },
     "execution_count": 42,
     "metadata": {},
     "output_type": "execute_result"
    }
   ],
   "source": [
    "data_sample2.head(2)"
   ]
  },
  {
   "cell_type": "code",
   "execution_count": 43,
   "metadata": {},
   "outputs": [],
   "source": [
    "tf_idf_vectorizor = TfidfVectorizer(max_features=1000,\n",
    "                                    stop_words=\"english\")\n",
    "\n",
    "tf_idf = tf_idf_vectorizor.fit_transform(data_sample2.content)\n",
    "tf_idf_norm = normalize(tf_idf)\n",
    "#tf_idf_norm = tf_idf_norm.fillna(0)\n",
    "tf_idf_array = tf_idf_norm.toarray()"
   ]
  },
  {
   "cell_type": "code",
   "execution_count": 45,
   "metadata": {},
   "outputs": [
    {
     "data": {
      "image/png": "[encoded data removed]",
      "text/plain": [
       "<Figure size 864x576 with 1 Axes>"
      ]
     },
     "metadata": {
      "needs_background": "light"
     },
     "output_type": "display_data"
    }
   ],
   "source": [
    "sklearn_pca = PCA(n_components = 1)\n",
    "Y_sklearn = sklearn_pca.fit_transform(tf_idf_array)\n",
    "model = AgglomerativeClustering(n_clusters=None, distance_threshold=0).fit(Y_sklearn)\n",
    "link_matrix = linkage_matrix(Y_sklearn.shape[0], model.children_, model.distances_)\n",
    "plt.figure(figsize=(12,8))\n",
    "plt.title('HC')\n",
    "\n",
    "dendrogram(link_matrix, labels = (data_sample2['category'].values + ' ' + '/' + ' ' + data_sample2['filename'].values), \n",
    "           leaf_font_size=10);\n",
    "#plt.savefig('../../Bilder/HC/HC_Sport_Entertainment_5_percent_filenames.png', bbox_inches = \"tight\")"
   ]
  },
  {
   "cell_type": "markdown",
   "metadata": {},
   "source": [
    "## Cophenetic Correlation Coefficient\n",
    "\n",
    "Die tatsächlichen paarweisen Abstände aller Proben werden mit den durch die hierarchische Clusterung implizierten Abstände verglichen (korreliert). Je näher der Wert bei 1 liegt, desto besser bewahrt das Clustering die ursprünglichen Abstände. "
   ]
  },
  {
   "cell_type": "code",
   "execution_count": 46,
   "metadata": {},
   "outputs": [
    {
     "data": {
      "text/plain": [
       "0.8277741862670607"
      ]
     },
     "execution_count": 46,
     "metadata": {},
     "output_type": "execute_result"
    }
   ],
   "source": [
    "from scipy.cluster.hierarchy import cophenet\n",
    "from scipy.spatial.distance import pdist\n",
    "\n",
    "c, coph_dists = cophenet(link_matrix, pdist(Y_sklearn))\n",
    "c"
   ]
  },
  {
   "cell_type": "markdown",
   "metadata": {},
   "source": [
    "## Untersuchung der falschzugeordneten Texte"
   ]
  },
  {
   "cell_type": "code",
   "execution_count": 32,
   "metadata": {},
   "outputs": [
    {
     "data": {
      "text/plain": [
       "[' Controversial DJ Howard Stern has been dropped from four US radio stations because he keeps promoting his move to a network broadcasting on satellite.  Cidatel Broadcasting said Stern had transformed his show into a \"continuous infomercial promoting Sirius, his new satellite radio employer\". Stern will join the Sirius subscription service, which is not governed by US regulators, next year. Citadel pulled Stern\\'s show from stations in New York and Pennsylvania. Stern had been holiday for two weeks but his show did not return to the four stations as expected on 3 January. Citadel said it did not yet know whether it would return to its network.  Stern announced in October that he was leaving conventional radio, where his syndicated show goes out across the US, for the relatively restriction-free satellite service. The DJ\\'s broadcasts are well known for landing in trouble with regulators for obscene and sexually explicit rantings. Stern was dropped by six stations owned by media giant Clear Channel in 2004 after it had to pay the Federal Communications Commission $1.75m (£950,000), over breaches indecency laws. Media giant Viacom has also reportedly agreed to the FCC\\'s demands that if Stern is issued with another indecency violation then his show must be pulled from all of its stations. Viacom has also been hit with record fines of $3.5m (£1.8m) over Stern and two other New York DJs. But Stern continues to be one of the most popular talk show hosts, particularly in the 25-54 age category. ']"
      ]
     },
     "execution_count": 32,
     "metadata": {},
     "output_type": "execute_result"
    }
   ],
   "source": [
    "Text218 = data_sample2[data_sample2['filename']  ==  '218.txt']\n",
    "List218 = Text218.content.tolist()\n",
    "List218"
   ]
  },
  {
   "cell_type": "code",
   "execution_count": 33,
   "metadata": {},
   "outputs": [
    {
     "data": {
      "text/plain": [
       "[' U2 have smashed Irish box office records with ticket sales for their Dublin concerts, after more than 150,000 were sold within 50 minutes.  Tickets for the two concerts at the city\\'s Croke Park stadium were released at 8am on Friday morning. \"Nothing like it has ever been seen in Ireland before,\" said Justin Green, spokesman for organisers MCD Promoters. \"We could have sold a million tickets.\" The Dublin dates on June 24 and 25 form part of the worldwide Vertigo tour. The tour begins in San Diego on 28 March and will cover 13 US cities. The band will also play 24 European gigs, finishing in Lisbon in August.  Mr Green said that ticket outlets had been \"bombarded\" by U2 fans. \"Unfortunately there\\'s thousands and thousands of disappointed fans all over the country which is disappointing, but there\\'s only two dates confirmed,\" he said. Many fans camped on the streets of the Irish capital for three days to ensure they were first in line at Ticketmaster in St Stephen\\'s Green Shopping Centre, where the tickets went on sale on Friday. However the majority of tickets, priced at between 59.50 and 80 euro each, were sold online. Earlier this week, Bono announced that the band would play two shows at the venue, which holds almost 80,000 people, due to the phenomenal demand for tickets. ']"
      ]
     },
     "execution_count": 33,
     "metadata": {},
     "output_type": "execute_result"
    }
   ],
   "source": [
    "Text140 = data_sample2[data_sample2['filename']  ==  '140.txt']\n",
    "List140 = Text140.content.tolist()\n",
    "List140"
   ]
  },
  {
   "cell_type": "code",
   "execution_count": 34,
   "metadata": {},
   "outputs": [
    {
     "data": {
      "text/plain": [
       "[' Rapper 50 Cent has ended his public feud with his protege The Game as the pair said they wanted to be good role models for their communities.  The row blew up when 50 Cent threw The Game out of his G-Unit crew and accused him of being disloyal. A member of The Game\\'s entourage was reportedly shot outside a radio station where 50 Cent was being interviewed. But the pair shook hands as they handed over money to music projects for New York\\'s deprived areas on Wednesday.  The Game, whose real name is Jayceon Taylor, told a news conference: \"I want to apologise. I\\'m almost ashamed to have participated in the things that went on over the last few weeks.\" Chart-topper 50 Cent, real name Curtis Jackson, said the truce came on the anniversary of the death of the Notorious BIG in 1997, who was part of a volatile feud between the east and west coast rap scenes. \"We\\'re here today to show that people can rise above the most difficult circumstances and together we can put negativity behind us,\" 50 Cent said.  \"A lot of people don\\'t want to see it happen, but we\\'re responding to the two most important groups - our family and our fans.\" The Boys Choir of Harlem got a cheque for $150,000 (£77,800) from 50 Cent, while The Game handed over $103,500 (£53,400). The Game also made a contribution to the Compton schools music programme. 50 Cent announced he has launched the G-Unity Foundation \"to help people overcome obstacles and make a chance for the better in their lives\".  \"I realised that if I\\'m going to be effective at that, I have to overcome some of my own,\" he said. \"Game and I need to set an example in the community.\" 50 Cent is no stranger to feuds, with rapper Ja Rule among the targets for ridicule in his songs. On his latest album, released earlier this month, he turned his attentions to Fat Joe and Nas, who have both worked with Ja Rule. Both he and The Game have admitted drug dealing in the past and have both been shot. ']"
      ]
     },
     "execution_count": 34,
     "metadata": {},
     "output_type": "execute_result"
    }
   ],
   "source": [
    "Text288 = data_sample2[data_sample2['filename']  ==  '288.txt']\n",
    "List288 = Text288.content.tolist()\n",
    "List288"
   ]
  },
  {
   "cell_type": "markdown",
   "metadata": {},
   "source": [
    "# HC nur mit Tech und Sport (5%)"
   ]
  },
  {
   "cell_type": "code",
   "execution_count": 30,
   "metadata": {},
   "outputs": [],
   "source": [
    "data1 = df[df['category'] == 'sport']\n",
    "data2 = df[df['category'] == 'tech']"
   ]
  },
  {
   "cell_type": "code",
   "execution_count": 31,
   "metadata": {},
   "outputs": [
    {
     "data": {
      "text/plain": [
       "(46, 12)"
      ]
     },
     "execution_count": 31,
     "metadata": {},
     "output_type": "execute_result"
    }
   ],
   "source": [
    "dataTS = pd.concat([data1, data2], axis = 0)\n",
    "\n",
    "data_sample = dataTS.copy()\n",
    "data_sample3 = data_sample.sample(frac=.05, replace=False, random_state=42)\n",
    "data_sample3.shape"
   ]
  },
  {
   "cell_type": "code",
   "execution_count": 32,
   "metadata": {},
   "outputs": [
    {
     "data": {
      "text/plain": [
       "Counter({'tech': 24, 'sport': 22})"
      ]
     },
     "execution_count": 32,
     "metadata": {},
     "output_type": "execute_result"
    }
   ],
   "source": [
    "from collections import Counter\n",
    "\n",
    "Counter(data_sample3.category)"
   ]
  },
  {
   "cell_type": "code",
   "execution_count": 33,
   "metadata": {},
   "outputs": [],
   "source": [
    "tf_idf_vectorizor = TfidfVectorizer(max_features=1000,\n",
    "                                    stop_words=\"english\")\n",
    "\n",
    "tf_idf = tf_idf_vectorizor.fit_transform(data_sample3.content)\n",
    "tf_idf_norm = normalize(tf_idf)\n",
    "#tf_idf_norm = tf_idf_norm.fillna(0)\n",
    "tf_idf_array = tf_idf_norm.toarray()"
   ]
  },
  {
   "cell_type": "code",
   "execution_count": 35,
   "metadata": {
    "scrolled": false
   },
   "outputs": [
    {
     "data": {
      "image/png": "[encoded data removed]",
      "text/plain": [
       "<Figure size 864x576 with 1 Axes>"
      ]
     },
     "metadata": {
      "needs_background": "light"
     },
     "output_type": "display_data"
    }
   ],
   "source": [
    "sklearn_pca = PCA(n_components = 1)\n",
    "Y_sklearn = sklearn_pca.fit_transform(tf_idf_array)\n",
    "model = AgglomerativeClustering(n_clusters=None, distance_threshold=0).fit(Y_sklearn)\n",
    "link_matrix = linkage_matrix(Y_sklearn.shape[0], model.children_, model.distances_)\n",
    "plt.figure(figsize=(12,8))\n",
    "plt.title('HC')\n",
    "\n",
    "dendrogram(link_matrix, labels = (data_sample3['category'].values + ' ' + '/' + ' ' + data_sample3['filename'].values),\n",
    "                                  leaf_font_size=10);\n",
    "#plt.savefig('../../Bilder/HC/HC_PCA_Sport_Tech_5_percent.png', bbox_inches = \"tight\")"
   ]
  },
  {
   "cell_type": "code",
   "execution_count": 36,
   "metadata": {},
   "outputs": [
    {
     "data": {
      "text/plain": [
       "0.7809889764004331"
      ]
     },
     "execution_count": 36,
     "metadata": {},
     "output_type": "execute_result"
    }
   ],
   "source": [
    "from scipy.cluster.hierarchy import cophenet\n",
    "from scipy.spatial.distance import pdist\n",
    "\n",
    "c, coph_dists = cophenet(link_matrix, pdist(Y_sklearn))\n",
    "c"
   ]
  },
  {
   "cell_type": "markdown",
   "metadata": {},
   "source": [
    "## Untersuchung der falschzugeordneten Texte"
   ]
  },
  {
   "cell_type": "code",
   "execution_count": 43,
   "metadata": {},
   "outputs": [
    {
     "data": {
      "text/plain": [
       "[' BBC Sport unveils its new analysis tool Piero at the Wales v England rugby union match on Saturday. But what does it do and how does it work?  Picture the scene - Wales are camped on the England line in the dying seconds of the Six Nations\\' opening match. A ball is flung out to winger Shane Williams who crosses to score the winning try for Wales. But the England players are incensed - arguing that the pass was forward and the try should not stand. In the past, sports fans would be left debating the validity of the try for days and weeks to come. But BBC Sport\\'s new tool Piero could end discussions in minutes.  Piero, named after the Italian painter and pioneer of perspective Piero della Francesco, creates a virtual stadium in which virtual players can be tracked from almost any angle. Viewers will be able to see precisely how the ball was thrown and by whom, giving a greater depth to the growing wealth of analysis available during sports broadcasts. The technology has been created by BBC Research and Development for BBC Broadcast and BBC Outside Broadcasts. BBC Sport is the first client to start using the system. \"In order to keep audiences growing and growing... we need to work closely with people who create technology and innovation to bring sport to life,\" said Andrew Thompson, the BBC\\'s head of development, new media and sports news. \"We want to appeal to core fans - to give them more analysis, more detail, more definitive answers about key passages of play.\" Piero works by taking telemetric data from fixed camera positions and sending that data inside the video signal to a PC which can then render the information into 3D graphics.  The more cameras using Piero, the better the detail possible out the other end when the data is turned into 3D models. \"It allows us to tell the story of a passage of play, tracking individual players across the field, looking at tactics,\" said Andy Townsend, from BBC Broadcast.  An operator can manipulate the information and provide almost real-time replays of incidents, as well as more in-depth analysis. The \"virtual camera\" can focus on virtually any aspect of the pitch, giving viewers an insight into action that the camera normally cannot see. Piero also provides a wealth of statistical detail - from the length of kicks, to the length of a run of an individual player and the height of a lift at any lineout. Mr Townsend said sports performance companies were already showing an interest in the technology. BBC Broadcast hopes the technology can be sold to third parties interested in using it a number of different ways - from sport broadcasting to entertainment and game shows. ']"
      ]
     },
     "execution_count": 43,
     "metadata": {},
     "output_type": "execute_result"
    }
   ],
   "source": [
    "Text028 = data_sample3[data_sample3['filename']  ==  '028.txt']\n",
    "List028 = Text028.content.tolist()\n",
    "List028"
   ]
  },
  {
   "cell_type": "code",
   "execution_count": null,
   "metadata": {},
   "outputs": [],
   "source": []
  }
 ],
 "metadata": {
  "kernelspec": {
   "display_name": "Python 3",
   "language": "python",
   "name": "python3"
  },
  "language_info": {
   "codemirror_mode": {
    "name": "ipython",
    "version": 3
   },
   "file_extension": ".py",
   "mimetype": "text/x-python",
   "name": "python",
   "nbconvert_exporter": "python",
   "pygments_lexer": "ipython3",
   "version": "3.7.4"
  },
  "toc": {
   "base_numbering": 1,
   "nav_menu": {},
   "number_sections": true,
   "sideBar": true,
   "skip_h1_title": false,
   "title_cell": "Table of Contents",
   "title_sidebar": "Contents",
   "toc_cell": true,
   "toc_position": {
    "height": "calc(100% - 180px)",
    "left": "10px",
    "top": "150px",
    "width": "320px"
   },
   "toc_section_display": true,
   "toc_window_display": false
  }
 },
 "nbformat": 4,
 "nbformat_minor": 2
}
