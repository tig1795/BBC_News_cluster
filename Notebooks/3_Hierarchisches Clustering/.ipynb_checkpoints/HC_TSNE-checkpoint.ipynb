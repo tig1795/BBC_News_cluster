{
 "cells": [
  {
   "cell_type": "markdown",
   "metadata": {
    "toc": true
   },
   "source": [
    "<h1>Inhaltsverzeichnis<span class=\"tocSkip\"></span></h1>\n",
    "<div class=\"toc\"><ul class=\"toc-item\"><li><span><a href=\"#Imports\" data-toc-modified-id=\"Imports-1\"><span class=\"toc-item-num\">1&nbsp;&nbsp;</span>Imports</a></span></li><li><span><a href=\"#Datenvorbereiten\" data-toc-modified-id=\"Datenvorbereiten-2\"><span class=\"toc-item-num\">2&nbsp;&nbsp;</span>Datenvorbereiten</a></span></li><li><span><a href=\"#HC,-alle-Genre,-TSNE\" data-toc-modified-id=\"HC,-alle-Genre,-TSNE-3\"><span class=\"toc-item-num\">3&nbsp;&nbsp;</span>HC, alle Genre, TSNE</a></span></li><li><span><a href=\"#HC-nur-5%-aller-Kategorien,-TSNE\" data-toc-modified-id=\"HC-nur-5%-aller-Kategorien,-TSNE-4\"><span class=\"toc-item-num\">4&nbsp;&nbsp;</span>HC nur 5% aller Kategorien, TSNE</a></span></li><li><span><a href=\"#HC-mit-TSNE-+-Sport-und-Entertainment\" data-toc-modified-id=\"HC-mit-TSNE-+-Sport-und-Entertainment-5\"><span class=\"toc-item-num\">5&nbsp;&nbsp;</span>HC mit TSNE + Sport und Entertainment</a></span></li><li><span><a href=\"#HC-nur-mit-Sport-und-Entertainment-und-5%\" data-toc-modified-id=\"HC-nur-mit-Sport-und-Entertainment-und-5%-6\"><span class=\"toc-item-num\">6&nbsp;&nbsp;</span>HC nur mit Sport und Entertainment und 5%</a></span></li><li><span><a href=\"#HC-nur-mit-Sport-und-tech-(5%)\" data-toc-modified-id=\"HC-nur-mit-Sport-und-tech-(5%)-7\"><span class=\"toc-item-num\">7&nbsp;&nbsp;</span>HC nur mit Sport und tech (5%)</a></span></li></ul></div>"
   ]
  },
  {
   "cell_type": "markdown",
   "metadata": {},
   "source": [
    "# Imports"
   ]
  },
  {
   "cell_type": "code",
   "execution_count": 1,
   "metadata": {},
   "outputs": [],
   "source": [
    "from sklearn.datasets import make_blobs\n",
    "from sklearn.cluster import AgglomerativeClustering, KMeans\n",
    "from scipy.cluster.hierarchy import dendrogram, linkage\n",
    "from sklearn.decomposition import PCA\n",
    "from sklearn.manifold import TSNE\n",
    "from sklearn.feature_extraction.text import TfidfVectorizer\n",
    "from scipy.spatial.distance import squareform\n",
    "from sklearn.preprocessing import normalize\n",
    "import pandas as pd\n",
    "from matplotlib import pyplot as plt\n",
    "import numpy as np"
   ]
  },
  {
   "cell_type": "code",
   "execution_count": 61,
   "metadata": {},
   "outputs": [
    {
     "data": {
      "text/html": [
       "<div>\n",
       "<style scoped>\n",
       "    .dataframe tbody tr th:only-of-type {\n",
       "        vertical-align: middle;\n",
       "    }\n",
       "\n",
       "    .dataframe tbody tr th {\n",
       "        vertical-align: top;\n",
       "    }\n",
       "\n",
       "    .dataframe thead th {\n",
       "        text-align: right;\n",
       "    }\n",
       "</style>\n",
       "<table border=\"1\" class=\"dataframe\">\n",
       "  <thead>\n",
       "    <tr style=\"text-align: right;\">\n",
       "      <th></th>\n",
       "      <th>category</th>\n",
       "      <th>filename</th>\n",
       "      <th>title</th>\n",
       "      <th>content</th>\n",
       "      <th>number_of_tokens</th>\n",
       "      <th>number_of_types</th>\n",
       "      <th>stemmed_text</th>\n",
       "      <th>POS_tags</th>\n",
       "      <th>POS</th>\n",
       "      <th>nouns</th>\n",
       "      <th>adjectives</th>\n",
       "      <th>verb</th>\n",
       "    </tr>\n",
       "  </thead>\n",
       "  <tbody>\n",
       "    <tr>\n",
       "      <td>0</td>\n",
       "      <td>business</td>\n",
       "      <td>001.txt</td>\n",
       "      <td>Ad sales boost Time Warner profit</td>\n",
       "      <td>Quarterly profits at US media giant TimeWarne...</td>\n",
       "      <td>415.0</td>\n",
       "      <td>244.0</td>\n",
       "      <td>quarterli profit at US media giant timewarn j...</td>\n",
       "      <td>['_SP', 'NNP', 'NNS', 'IN', 'NNP', 'NNS', 'NN'...</td>\n",
       "      <td>high fourth own fourth underlying exceptional ...</td>\n",
       "      <td>74.0</td>\n",
       "      <td>22.0</td>\n",
       "      <td>1.0</td>\n",
       "    </tr>\n",
       "    <tr>\n",
       "      <td>1</td>\n",
       "      <td>business</td>\n",
       "      <td>002.txt</td>\n",
       "      <td>Dollar gains on Greenspan speech</td>\n",
       "      <td>The dollar has hit its highest level against ...</td>\n",
       "      <td>379.0</td>\n",
       "      <td>230.0</td>\n",
       "      <td>the dollar ha hit it highest level against th...</td>\n",
       "      <td>['_SP', 'DT', 'NN', 'VBZ', 'VBN', 'PRP$', 'JJS...</td>\n",
       "      <td>late recent sanguine current current next shar...</td>\n",
       "      <td>66.0</td>\n",
       "      <td>30.0</td>\n",
       "      <td>9.0</td>\n",
       "    </tr>\n",
       "    <tr>\n",
       "      <td>2</td>\n",
       "      <td>business</td>\n",
       "      <td>003.txt</td>\n",
       "      <td>Yukos unit buyer faces loan claim</td>\n",
       "      <td>The owners of embattled Russian oil giant Yuk...</td>\n",
       "      <td>258.0</td>\n",
       "      <td>168.0</td>\n",
       "      <td>the owner of embattl russian oil giant yuko a...</td>\n",
       "      <td>['_SP', 'DT', 'NNS', 'IN', 'VBN', 'JJ', 'NN', ...</td>\n",
       "      <td>Russian former similar foreign Legal such real...</td>\n",
       "      <td>48.0</td>\n",
       "      <td>12.0</td>\n",
       "      <td>3.0</td>\n",
       "    </tr>\n",
       "    <tr>\n",
       "      <td>3</td>\n",
       "      <td>business</td>\n",
       "      <td>004.txt</td>\n",
       "      <td>High fuel prices hit BA's profits</td>\n",
       "      <td>British Airways has blamed high fuel prices f...</td>\n",
       "      <td>400.0</td>\n",
       "      <td>256.0</td>\n",
       "      <td>british airway ha blame high fuel price for a...</td>\n",
       "      <td>['_SP', 'NNP', 'NNP', 'VBZ', 'VBN', 'JJ', 'NN'...</td>\n",
       "      <td>high pre - tax chief respectable third full la...</td>\n",
       "      <td>77.0</td>\n",
       "      <td>31.0</td>\n",
       "      <td>2.0</td>\n",
       "    </tr>\n",
       "    <tr>\n",
       "      <td>4</td>\n",
       "      <td>business</td>\n",
       "      <td>005.txt</td>\n",
       "      <td>Pernod takeover talk lifts Domecq</td>\n",
       "      <td>Shares in UK drinks and food firm Allied Dome...</td>\n",
       "      <td>260.0</td>\n",
       "      <td>178.0</td>\n",
       "      <td>share in UK drink and food firm alli domecq h...</td>\n",
       "      <td>['_SP', 'NNP', 'IN', 'NNP', 'NNS', 'CC', 'NN',...</td>\n",
       "      <td>French last major global top other Last LVMH b...</td>\n",
       "      <td>42.0</td>\n",
       "      <td>13.0</td>\n",
       "      <td>2.0</td>\n",
       "    </tr>\n",
       "  </tbody>\n",
       "</table>\n",
       "</div>"
      ],
      "text/plain": [
       "   category filename                              title  \\\n",
       "0  business  001.txt  Ad sales boost Time Warner profit   \n",
       "1  business  002.txt   Dollar gains on Greenspan speech   \n",
       "2  business  003.txt  Yukos unit buyer faces loan claim   \n",
       "3  business  004.txt  High fuel prices hit BA's profits   \n",
       "4  business  005.txt  Pernod takeover talk lifts Domecq   \n",
       "\n",
       "                                             content  number_of_tokens  \\\n",
       "0   Quarterly profits at US media giant TimeWarne...             415.0   \n",
       "1   The dollar has hit its highest level against ...             379.0   \n",
       "2   The owners of embattled Russian oil giant Yuk...             258.0   \n",
       "3   British Airways has blamed high fuel prices f...             400.0   \n",
       "4   Shares in UK drinks and food firm Allied Dome...             260.0   \n",
       "\n",
       "   number_of_types                                       stemmed_text  \\\n",
       "0            244.0   quarterli profit at US media giant timewarn j...   \n",
       "1            230.0   the dollar ha hit it highest level against th...   \n",
       "2            168.0   the owner of embattl russian oil giant yuko a...   \n",
       "3            256.0   british airway ha blame high fuel price for a...   \n",
       "4            178.0   share in UK drink and food firm alli domecq h...   \n",
       "\n",
       "                                            POS_tags  \\\n",
       "0  ['_SP', 'NNP', 'NNS', 'IN', 'NNP', 'NNS', 'NN'...   \n",
       "1  ['_SP', 'DT', 'NN', 'VBZ', 'VBN', 'PRP$', 'JJS...   \n",
       "2  ['_SP', 'DT', 'NNS', 'IN', 'VBN', 'JJ', 'NN', ...   \n",
       "3  ['_SP', 'NNP', 'NNP', 'VBZ', 'VBN', 'JJ', 'NN'...   \n",
       "4  ['_SP', 'NNP', 'IN', 'NNP', 'NNS', 'CC', 'NN',...   \n",
       "\n",
       "                                                 POS  nouns  adjectives  verb  \n",
       "0  high fourth own fourth underlying exceptional ...   74.0        22.0   1.0  \n",
       "1  late recent sanguine current current next shar...   66.0        30.0   9.0  \n",
       "2  Russian former similar foreign Legal such real...   48.0        12.0   3.0  \n",
       "3  high pre - tax chief respectable third full la...   77.0        31.0   2.0  \n",
       "4  French last major global top other Last LVMH b...   42.0        13.0   2.0  "
      ]
     },
     "execution_count": 61,
     "metadata": {},
     "output_type": "execute_result"
    }
   ],
   "source": [
    "df = pd.read_csv(\"../../Datensaetze/news_POS_POS_tags_nouns_adjectives_verb.csv\")\n",
    "df.head(5)"
   ]
  },
  {
   "cell_type": "markdown",
   "metadata": {},
   "source": [
    "# Datenvorbereiten"
   ]
  },
  {
   "cell_type": "code",
   "execution_count": 3,
   "metadata": {},
   "outputs": [],
   "source": [
    "tf_idf_vectorizor = TfidfVectorizer(max_features=1000,\n",
    "                                    stop_words=\"english\")\n",
    "\n",
    "tf_idf = tf_idf_vectorizor.fit_transform(df.content)\n",
    "tf_idf_norm = normalize(tf_idf)\n",
    "#tf_idf_norm = tf_idf_norm.fillna(0)\n",
    "tf_idf_array = tf_idf_norm.toarray()"
   ]
  },
  {
   "cell_type": "code",
   "execution_count": 4,
   "metadata": {},
   "outputs": [],
   "source": [
    "def linkage_matrix(n_samples, children, distances):\n",
    "    \"\"\"\n",
    "    create a linkage matrix for the dendogram method in scipy\n",
    "    n_samples: int, number of samples\n",
    "    children: list of lists, clustered data points (should be 2)\n",
    "    distances: list of distances between nodes\n",
    "    \"\"\"\n",
    "    # Create linkage matrix\n",
    "    \n",
    "\n",
    "    # create the counts of samples under each node\n",
    "    counts = np.zeros(children.shape[0])\n",
    "    for i, merge in enumerate(children):\n",
    "        current_count = 0\n",
    "        for child_idx in merge:\n",
    "            if child_idx < n_samples:\n",
    "                current_count += 1  # leaf node\n",
    "            else:\n",
    "                current_count += counts[child_idx - n_samples]\n",
    "        counts[i] = current_count\n",
    "\n",
    "    return np.column_stack([children, distances, counts]).astype(float)"
   ]
  },
  {
   "cell_type": "markdown",
   "metadata": {},
   "source": [
    "# HC, alle Genre, TSNE"
   ]
  },
  {
   "cell_type": "code",
   "execution_count": 12,
   "metadata": {},
   "outputs": [
    {
     "data": {
      "image/png": "[encoded data removed]",
      "text/plain": [
       "<Figure size 864x576 with 1 Axes>"
      ]
     },
     "metadata": {
      "needs_background": "light"
     },
     "output_type": "display_data"
    }
   ],
   "source": [
    "sklearn_tsne = TSNE(n_components = 2)\n",
    "Y_sklearn = sklearn_tsne.fit_transform(tf_idf_array)\n",
    "model = AgglomerativeClustering(n_clusters=None, distance_threshold=0).fit(Y_sklearn)\n",
    "link_matrix = linkage_matrix(Y_sklearn.shape[0], model.children_, model.distances_)\n",
    "plt.figure(figsize=(12,8))\n",
    "plt.title('HC')\n",
    "\n",
    "dendrogram(link_matrix, labels = df.category.values, leaf_font_size=10);"
   ]
  },
  {
   "cell_type": "markdown",
   "metadata": {},
   "source": [
    "# HC nur 5% aller Kategorien, TSNE"
   ]
  },
  {
   "cell_type": "code",
   "execution_count": 62,
   "metadata": {},
   "outputs": [
    {
     "data": {
      "text/plain": [
       "(111, 12)"
      ]
     },
     "execution_count": 62,
     "metadata": {},
     "output_type": "execute_result"
    }
   ],
   "source": [
    "df_sample = df.copy()\n",
    "df_sample10 = df_sample.sample(frac=.05, replace=False, random_state=42)\n",
    "df_sample10.shape"
   ]
  },
  {
   "cell_type": "code",
   "execution_count": 63,
   "metadata": {},
   "outputs": [
    {
     "data": {
      "text/plain": [
       "Counter({'business': 35,\n",
       "         'sport': 27,\n",
       "         'politics': 18,\n",
       "         'entertainment': 20,\n",
       "         'tech': 11})"
      ]
     },
     "execution_count": 63,
     "metadata": {},
     "output_type": "execute_result"
    }
   ],
   "source": [
    "from collections import Counter\n",
    "\n",
    "Counter(df_sample10.category)"
   ]
  },
  {
   "cell_type": "code",
   "execution_count": 64,
   "metadata": {},
   "outputs": [],
   "source": [
    "tf_idf_vectorizor = TfidfVectorizer()\n",
    "\n",
    "tf_idf = tf_idf_vectorizor.fit_transform(df_sample10.content)\n",
    "tf_idf_norm = normalize(tf_idf)\n",
    "#tf_idf_norm = tf_idf_norm.fillna(0)\n",
    "tf_idf_array = tf_idf_norm.toarray()"
   ]
  },
  {
   "cell_type": "code",
   "execution_count": 69,
   "metadata": {},
   "outputs": [
    {
     "data": {
      "image/png": "[encoded data removed]",
      "text/plain": [
       "<Figure size 864x576 with 1 Axes>"
      ]
     },
     "metadata": {
      "needs_background": "light"
     },
     "output_type": "display_data"
    }
   ],
   "source": [
    "sklearn_tsne = TSNE(n_components = 2)\n",
    "Y_sklearn = sklearn_tsne.fit_transform(tf_idf_array)\n",
    "model = AgglomerativeClustering(n_clusters=None, distance_threshold=0).fit(Y_sklearn)\n",
    "link_matrix = linkage_matrix(Y_sklearn.shape[0], model.children_, model.distances_)\n",
    "plt.figure(figsize=(12,8))\n",
    "plt.title('HC')\n",
    "\n",
    "dendrogram(link_matrix, labels = df_sample10.category.values, leaf_font_size=10);"
   ]
  },
  {
   "cell_type": "markdown",
   "metadata": {},
   "source": [
    "# HC mit TSNE + Sport und Entertainment"
   ]
  },
  {
   "cell_type": "code",
   "execution_count": 41,
   "metadata": {},
   "outputs": [],
   "source": [
    "data1 = df[df['category'] == 'sport']\n",
    "data2 = df[df['category'] == 'entertainment']"
   ]
  },
  {
   "cell_type": "code",
   "execution_count": 42,
   "metadata": {},
   "outputs": [],
   "source": [
    "data = pd.concat([data1, data2], axis = 0)\n",
    "\n",
    "tf_idf_vectorizor = TfidfVectorizer(max_features=1000,\n",
    "                                    stop_words=\"english\")\n",
    "\n",
    "tf_idf = tf_idf_vectorizor.fit_transform(data.content)\n",
    "tf_idf_norm = normalize(tf_idf)\n",
    "#tf_idf_norm = tf_idf_norm.fillna(0)\n",
    "tf_idf_array = tf_idf_norm.toarray()"
   ]
  },
  {
   "cell_type": "code",
   "execution_count": 43,
   "metadata": {},
   "outputs": [
    {
     "data": {
      "text/html": [
       "<div>\n",
       "<style scoped>\n",
       "    .dataframe tbody tr th:only-of-type {\n",
       "        vertical-align: middle;\n",
       "    }\n",
       "\n",
       "    .dataframe tbody tr th {\n",
       "        vertical-align: top;\n",
       "    }\n",
       "\n",
       "    .dataframe thead th {\n",
       "        text-align: right;\n",
       "    }\n",
       "</style>\n",
       "<table border=\"1\" class=\"dataframe\">\n",
       "  <thead>\n",
       "    <tr style=\"text-align: right;\">\n",
       "      <th></th>\n",
       "      <th>category</th>\n",
       "      <th>filename</th>\n",
       "      <th>title</th>\n",
       "      <th>content</th>\n",
       "      <th>number_of_tokens</th>\n",
       "      <th>number_of_types</th>\n",
       "      <th>stemmed_text</th>\n",
       "      <th>POS_tags</th>\n",
       "      <th>POS</th>\n",
       "      <th>nouns</th>\n",
       "      <th>adjectives</th>\n",
       "      <th>verb</th>\n",
       "    </tr>\n",
       "  </thead>\n",
       "  <tbody>\n",
       "    <tr>\n",
       "      <td>1313</td>\n",
       "      <td>sport</td>\n",
       "      <td>001.txt</td>\n",
       "      <td>Claxton hunting first major medal</td>\n",
       "      <td>British hurdler Sarah Claxton is confident sh...</td>\n",
       "      <td>206.0</td>\n",
       "      <td>145.0</td>\n",
       "      <td>british hurdler sarah claxton is confid she c...</td>\n",
       "      <td>['_SP', 'JJ', 'NN', 'NNP', 'NNP', 'VBZ', 'JJ',...</td>\n",
       "      <td>British confident first major next old British...</td>\n",
       "      <td>29.0</td>\n",
       "      <td>22.0</td>\n",
       "      <td>5.0</td>\n",
       "    </tr>\n",
       "    <tr>\n",
       "      <td>1314</td>\n",
       "      <td>sport</td>\n",
       "      <td>002.txt</td>\n",
       "      <td>O'Sullivan could run in Worlds</td>\n",
       "      <td>Sonia O'Sullivan has indicated that she would...</td>\n",
       "      <td>139.0</td>\n",
       "      <td>103.0</td>\n",
       "      <td>sonia o'sullivan ha indic that she would like...</td>\n",
       "      <td>['_SP', 'NNP', 'NNP', 'VBZ', 'VBN', 'IN', 'PRP...</td>\n",
       "      <td>next old official Provincial last present firs...</td>\n",
       "      <td>16.0</td>\n",
       "      <td>9.0</td>\n",
       "      <td>2.0</td>\n",
       "    </tr>\n",
       "    <tr>\n",
       "      <td>1315</td>\n",
       "      <td>sport</td>\n",
       "      <td>003.txt</td>\n",
       "      <td>Greene sets sights on world title</td>\n",
       "      <td>Maurice Greene aims to wipe out the pain of l...</td>\n",
       "      <td>371.0</td>\n",
       "      <td>229.0</td>\n",
       "      <td>mauric green aim to wipe out the pain of lose...</td>\n",
       "      <td>['_SP', 'NNP', 'NNP', 'VBZ', 'TO', 'VB', 'RP',...</td>\n",
       "      <td>fourth fellow semi semi - final final alone ab...</td>\n",
       "      <td>42.0</td>\n",
       "      <td>16.0</td>\n",
       "      <td>5.0</td>\n",
       "    </tr>\n",
       "    <tr>\n",
       "      <td>1316</td>\n",
       "      <td>sport</td>\n",
       "      <td>004.txt</td>\n",
       "      <td>IAAF launches fight against drugs</td>\n",
       "      <td>The IAAF - athletics' world governing body - ...</td>\n",
       "      <td>190.0</td>\n",
       "      <td>132.0</td>\n",
       "      <td>the iaaf - athlet ' world govern bodi - ha me...</td>\n",
       "      <td>['_SP', 'DT', 'NNP', 'HYPH', 'NNS', 'POS', 'NN...</td>\n",
       "      <td>anti - doping - happy clean world body fight s...</td>\n",
       "      <td>31.0</td>\n",
       "      <td>6.0</td>\n",
       "      <td>3.0</td>\n",
       "    </tr>\n",
       "    <tr>\n",
       "      <td>1317</td>\n",
       "      <td>sport</td>\n",
       "      <td>005.txt</td>\n",
       "      <td>Dibaba breaks 5,000m world record</td>\n",
       "      <td>Ethiopia's Tirunesh Dibaba set a new world re...</td>\n",
       "      <td>156.0</td>\n",
       "      <td>118.0</td>\n",
       "      <td>ethiopia 's tirunesh dibaba set a new world r...</td>\n",
       "      <td>['_SP', 'NNP', 'POS', 'NNP', 'NNP', 'VBD', 'DT...</td>\n",
       "      <td>new previous indoor Ethiopian last compatriot ...</td>\n",
       "      <td>18.0</td>\n",
       "      <td>8.0</td>\n",
       "      <td>0.0</td>\n",
       "    </tr>\n",
       "    <tr>\n",
       "      <td>...</td>\n",
       "      <td>...</td>\n",
       "      <td>...</td>\n",
       "      <td>...</td>\n",
       "      <td>...</td>\n",
       "      <td>...</td>\n",
       "      <td>...</td>\n",
       "      <td>...</td>\n",
       "      <td>...</td>\n",
       "      <td>...</td>\n",
       "      <td>...</td>\n",
       "      <td>...</td>\n",
       "      <td>...</td>\n",
       "    </tr>\n",
       "    <tr>\n",
       "      <td>891</td>\n",
       "      <td>entertainment</td>\n",
       "      <td>382.txt</td>\n",
       "      <td>Last Star Wars 'not for children'</td>\n",
       "      <td>The sixth and final Star Wars movie may not b...</td>\n",
       "      <td>228.0</td>\n",
       "      <td>141.0</td>\n",
       "      <td>the sixth and final star war movi may not be ...</td>\n",
       "      <td>['_SP', 'DT', 'JJ', 'CC', 'JJ', 'NNP', 'NNP', ...</td>\n",
       "      <td>sixth final suitable young violent old unsuita...</td>\n",
       "      <td>27.0</td>\n",
       "      <td>22.0</td>\n",
       "      <td>4.0</td>\n",
       "    </tr>\n",
       "    <tr>\n",
       "      <td>892</td>\n",
       "      <td>entertainment</td>\n",
       "      <td>383.txt</td>\n",
       "      <td>French honour for director Parker</td>\n",
       "      <td>British film director Sir Alan Parker has bee...</td>\n",
       "      <td>220.0</td>\n",
       "      <td>153.0</td>\n",
       "      <td>british film director sir alan parker ha been...</td>\n",
       "      <td>['_SP', 'JJ', 'NN', 'NN', 'NNP', 'NNP', 'NNP',...</td>\n",
       "      <td>British cultural immense French modern former ...</td>\n",
       "      <td>32.0</td>\n",
       "      <td>10.0</td>\n",
       "      <td>7.0</td>\n",
       "    </tr>\n",
       "    <tr>\n",
       "      <td>893</td>\n",
       "      <td>entertainment</td>\n",
       "      <td>384.txt</td>\n",
       "      <td>Robots march to US cinema summit</td>\n",
       "      <td>Animated movie Robots has opened at the top o...</td>\n",
       "      <td>267.0</td>\n",
       "      <td>177.0</td>\n",
       "      <td>anim movi robot ha open at the top of the US ...</td>\n",
       "      <td>['_SP', 'VBN', 'NN', 'NNS', 'VBZ', 'VBN', 'IN'...</td>\n",
       "      <td>first big recut last original new little origi...</td>\n",
       "      <td>42.0</td>\n",
       "      <td>13.0</td>\n",
       "      <td>0.0</td>\n",
       "    </tr>\n",
       "    <tr>\n",
       "      <td>894</td>\n",
       "      <td>entertainment</td>\n",
       "      <td>385.txt</td>\n",
       "      <td>Hobbit picture 'four years away'</td>\n",
       "      <td>Lord of the Rings director Peter Jackson has ...</td>\n",
       "      <td>256.0</td>\n",
       "      <td>156.0</td>\n",
       "      <td>lord of the ring director peter jackson ha sa...</td>\n",
       "      <td>['_SP', 'NNP', 'IN', 'DT', 'NNPS', 'NN', 'NNP'...</td>\n",
       "      <td>lengthy major further old Australian undisclos...</td>\n",
       "      <td>35.0</td>\n",
       "      <td>10.0</td>\n",
       "      <td>2.0</td>\n",
       "    </tr>\n",
       "    <tr>\n",
       "      <td>895</td>\n",
       "      <td>entertainment</td>\n",
       "      <td>386.txt</td>\n",
       "      <td>Buffy creator joins Wonder Woman</td>\n",
       "      <td>The creator of Buffy the Vampire Slayer is to...</td>\n",
       "      <td>263.0</td>\n",
       "      <td>163.0</td>\n",
       "      <td>the creator of buffi the vampir slayer is to ...</td>\n",
       "      <td>['_SP', 'DT', 'NN', 'IN', 'NNP', 'DT', 'NNP', ...</td>\n",
       "      <td>new female iconic female red legendary comic d...</td>\n",
       "      <td>44.0</td>\n",
       "      <td>15.0</td>\n",
       "      <td>1.0</td>\n",
       "    </tr>\n",
       "  </tbody>\n",
       "</table>\n",
       "<p>897 rows × 12 columns</p>\n",
       "</div>"
      ],
      "text/plain": [
       "           category filename                              title  \\\n",
       "1313          sport  001.txt  Claxton hunting first major medal   \n",
       "1314          sport  002.txt     O'Sullivan could run in Worlds   \n",
       "1315          sport  003.txt  Greene sets sights on world title   \n",
       "1316          sport  004.txt  IAAF launches fight against drugs   \n",
       "1317          sport  005.txt  Dibaba breaks 5,000m world record   \n",
       "...             ...      ...                                ...   \n",
       "891   entertainment  382.txt  Last Star Wars 'not for children'   \n",
       "892   entertainment  383.txt  French honour for director Parker   \n",
       "893   entertainment  384.txt   Robots march to US cinema summit   \n",
       "894   entertainment  385.txt   Hobbit picture 'four years away'   \n",
       "895   entertainment  386.txt   Buffy creator joins Wonder Woman   \n",
       "\n",
       "                                                content  number_of_tokens  \\\n",
       "1313   British hurdler Sarah Claxton is confident sh...             206.0   \n",
       "1314   Sonia O'Sullivan has indicated that she would...             139.0   \n",
       "1315   Maurice Greene aims to wipe out the pain of l...             371.0   \n",
       "1316   The IAAF - athletics' world governing body - ...             190.0   \n",
       "1317   Ethiopia's Tirunesh Dibaba set a new world re...             156.0   \n",
       "...                                                 ...               ...   \n",
       "891    The sixth and final Star Wars movie may not b...             228.0   \n",
       "892    British film director Sir Alan Parker has bee...             220.0   \n",
       "893    Animated movie Robots has opened at the top o...             267.0   \n",
       "894    Lord of the Rings director Peter Jackson has ...             256.0   \n",
       "895    The creator of Buffy the Vampire Slayer is to...             263.0   \n",
       "\n",
       "      number_of_types                                       stemmed_text  \\\n",
       "1313            145.0   british hurdler sarah claxton is confid she c...   \n",
       "1314            103.0   sonia o'sullivan ha indic that she would like...   \n",
       "1315            229.0   mauric green aim to wipe out the pain of lose...   \n",
       "1316            132.0   the iaaf - athlet ' world govern bodi - ha me...   \n",
       "1317            118.0   ethiopia 's tirunesh dibaba set a new world r...   \n",
       "...               ...                                                ...   \n",
       "891             141.0   the sixth and final star war movi may not be ...   \n",
       "892             153.0   british film director sir alan parker ha been...   \n",
       "893             177.0   anim movi robot ha open at the top of the US ...   \n",
       "894             156.0   lord of the ring director peter jackson ha sa...   \n",
       "895             163.0   the creator of buffi the vampir slayer is to ...   \n",
       "\n",
       "                                               POS_tags  \\\n",
       "1313  ['_SP', 'JJ', 'NN', 'NNP', 'NNP', 'VBZ', 'JJ',...   \n",
       "1314  ['_SP', 'NNP', 'NNP', 'VBZ', 'VBN', 'IN', 'PRP...   \n",
       "1315  ['_SP', 'NNP', 'NNP', 'VBZ', 'TO', 'VB', 'RP',...   \n",
       "1316  ['_SP', 'DT', 'NNP', 'HYPH', 'NNS', 'POS', 'NN...   \n",
       "1317  ['_SP', 'NNP', 'POS', 'NNP', 'NNP', 'VBD', 'DT...   \n",
       "...                                                 ...   \n",
       "891   ['_SP', 'DT', 'JJ', 'CC', 'JJ', 'NNP', 'NNP', ...   \n",
       "892   ['_SP', 'JJ', 'NN', 'NN', 'NNP', 'NNP', 'NNP',...   \n",
       "893   ['_SP', 'VBN', 'NN', 'NNS', 'VBZ', 'VBN', 'IN'...   \n",
       "894   ['_SP', 'NNP', 'IN', 'DT', 'NNPS', 'NN', 'NNP'...   \n",
       "895   ['_SP', 'DT', 'NN', 'IN', 'NNP', 'DT', 'NNP', ...   \n",
       "\n",
       "                                                    POS  nouns  adjectives  \\\n",
       "1313  British confident first major next old British...   29.0        22.0   \n",
       "1314  next old official Provincial last present firs...   16.0         9.0   \n",
       "1315  fourth fellow semi semi - final final alone ab...   42.0        16.0   \n",
       "1316  anti - doping - happy clean world body fight s...   31.0         6.0   \n",
       "1317  new previous indoor Ethiopian last compatriot ...   18.0         8.0   \n",
       "...                                                 ...    ...         ...   \n",
       "891   sixth final suitable young violent old unsuita...   27.0        22.0   \n",
       "892   British cultural immense French modern former ...   32.0        10.0   \n",
       "893   first big recut last original new little origi...   42.0        13.0   \n",
       "894   lengthy major further old Australian undisclos...   35.0        10.0   \n",
       "895   new female iconic female red legendary comic d...   44.0        15.0   \n",
       "\n",
       "      verb  \n",
       "1313   5.0  \n",
       "1314   2.0  \n",
       "1315   5.0  \n",
       "1316   3.0  \n",
       "1317   0.0  \n",
       "...    ...  \n",
       "891    4.0  \n",
       "892    7.0  \n",
       "893    0.0  \n",
       "894    2.0  \n",
       "895    1.0  \n",
       "\n",
       "[897 rows x 12 columns]"
      ]
     },
     "execution_count": 43,
     "metadata": {},
     "output_type": "execute_result"
    }
   ],
   "source": [
    "data"
   ]
  },
  {
   "cell_type": "code",
   "execution_count": 44,
   "metadata": {},
   "outputs": [],
   "source": [
    "def linkage_matrix(n_samples, children, distances):\n",
    "    \"\"\"\n",
    "    create a linkage matrix for the dendogram method in scipy\n",
    "    n_samples: int, number of samples\n",
    "    children: list of lists, clustered data points (should be 2)\n",
    "    distances: list of distances between nodes\n",
    "    \"\"\"\n",
    "    # Create linkage matrix\n",
    "    \n",
    "\n",
    "    # create the counts of samples under each node\n",
    "    counts = np.zeros(children.shape[0])\n",
    "    for i, merge in enumerate(children):\n",
    "        current_count = 0\n",
    "        for child_idx in merge:\n",
    "            if child_idx < n_samples:\n",
    "                current_count += 1  # leaf node\n",
    "            else:\n",
    "                current_count += counts[child_idx - n_samples]\n",
    "        counts[i] = current_count\n",
    "\n",
    "    return np.column_stack([children, distances, counts]).astype(float)"
   ]
  },
  {
   "cell_type": "code",
   "execution_count": 45,
   "metadata": {},
   "outputs": [
    {
     "data": {
      "image/png": "[encoded data removed]",
      "text/plain": [
       "<Figure size 864x576 with 1 Axes>"
      ]
     },
     "metadata": {
      "needs_background": "light"
     },
     "output_type": "display_data"
    }
   ],
   "source": [
    "sklearn_tsne = TSNE(n_components = 2)\n",
    "Y_sklearn = sklearn_tsne.fit_transform(tf_idf_array)\n",
    "model = AgglomerativeClustering(n_clusters=None, distance_threshold=0).fit(Y_sklearn)\n",
    "link_matrix = linkage_matrix(Y_sklearn.shape[0], model.children_, model.distances_)\n",
    "plt.figure(figsize=(12,8))\n",
    "plt.title('HC')\n",
    "\n",
    "dendrogram(link_matrix, labels = data.category.values, leaf_font_size=10);"
   ]
  },
  {
   "cell_type": "code",
   "execution_count": 46,
   "metadata": {},
   "outputs": [],
   "source": [
    "def fancy_dendrogram(*args, **kwargs):\n",
    "    max_d = kwargs.pop('max_d', None)\n",
    "    if max_d and 'color_threshold' not in kwargs:\n",
    "        kwargs['color_threshold'] = max_d\n",
    "    annotate_above = kwargs.pop('annotate_above', 0)\n",
    "\n",
    "    ddata = dendrogram(*args, **kwargs)\n",
    "\n",
    "    if not kwargs.get('no_plot', False):\n",
    "        plt.title('Hierarchical Clustering Dendrogram (truncated)')\n",
    "        plt.xlabel('sample index or (cluster size)')\n",
    "        plt.ylabel('distance')\n",
    "        for i, d, c in zip(ddata['icoord'], ddata['dcoord'], ddata['color_list']):\n",
    "            x = 0.5 * sum(i[1:3])\n",
    "            y = d[1]\n",
    "            if y > annotate_above:\n",
    "                plt.plot(x, y, 'ro', c=c)\n",
    "                plt.annotate(\"%.3g\" % y, (x, y), xytext=(0, -5),\n",
    "                             textcoords='offset points',\n",
    "                             va='top', ha='center')\n",
    "        if max_d:\n",
    "            plt.axhline(y=max_d, c='k')\n",
    "    return ddata"
   ]
  },
  {
   "cell_type": "code",
   "execution_count": 47,
   "metadata": {},
   "outputs": [
    {
     "data": {
      "image/png": "[encoded data removed]",
      "text/plain": [
       "<Figure size 432x288 with 1 Axes>"
      ]
     },
     "metadata": {
      "needs_background": "light"
     },
     "output_type": "display_data"
    }
   ],
   "source": [
    "model = AgglomerativeClustering(n_clusters=None, distance_threshold=0).fit(tf_idf_array)\n",
    "link_matrix = linkage_matrix(tf_idf_array.shape[0], model.children_, model.distances_)\n",
    "fancy_dendrogram(\n",
    "    link_matrix,\n",
    "    truncate_mode='lastp',\n",
    "    p=12,\n",
    "    leaf_rotation=90.,\n",
    "    leaf_font_size=12.,\n",
    "    above_threshold_color='y',\n",
    "    show_contracted=True,\n",
    "    annotate_above=10  # useful in small plots so annotations don't overlap\n",
    ")\n",
    "plt.show()"
   ]
  },
  {
   "cell_type": "markdown",
   "metadata": {},
   "source": [
    "# HC nur mit Sport und Entertainment und 5%"
   ]
  },
  {
   "cell_type": "code",
   "execution_count": 52,
   "metadata": {},
   "outputs": [
    {
     "data": {
      "text/plain": [
       "(45, 12)"
      ]
     },
     "execution_count": 52,
     "metadata": {},
     "output_type": "execute_result"
    }
   ],
   "source": [
    "data_sample = data.copy()\n",
    "data_sample1 = data_sample.sample(frac=.05, replace=False, random_state=42)\n",
    "data_sample1.shape"
   ]
  },
  {
   "cell_type": "code",
   "execution_count": 53,
   "metadata": {},
   "outputs": [
    {
     "data": {
      "text/plain": [
       "Counter({'sport': 29, 'entertainment': 16})"
      ]
     },
     "execution_count": 53,
     "metadata": {},
     "output_type": "execute_result"
    }
   ],
   "source": [
    "from collections import Counter\n",
    "Counter(data_sample1.category)"
   ]
  },
  {
   "cell_type": "code",
   "execution_count": 54,
   "metadata": {},
   "outputs": [],
   "source": [
    "tf_idf_vectorizor = TfidfVectorizer(max_features=1000,\n",
    "                                    stop_words=\"english\")\n",
    "\n",
    "tf_idf = tf_idf_vectorizor.fit_transform(data_sample1.content)\n",
    "tf_idf_norm = normalize(tf_idf)\n",
    "#tf_idf_norm = tf_idf_norm.fillna(0)\n",
    "tf_idf_array = tf_idf_norm.toarray()"
   ]
  },
  {
   "cell_type": "code",
   "execution_count": 55,
   "metadata": {},
   "outputs": [
    {
     "data": {
      "image/png": "[encoded data removed]",
      "text/plain": [
       "<Figure size 864x576 with 1 Axes>"
      ]
     },
     "metadata": {
      "needs_background": "light"
     },
     "output_type": "display_data"
    }
   ],
   "source": [
    "sklearn_tsne = TSNE(n_components = 2)\n",
    "Y_sklearn = sklearn_tsne.fit_transform(tf_idf_array)\n",
    "model = AgglomerativeClustering(n_clusters=None, distance_threshold=0).fit(Y_sklearn)\n",
    "link_matrix = linkage_matrix(Y_sklearn.shape[0], model.children_, model.distances_)\n",
    "plt.figure(figsize=(12,8))\n",
    "plt.title('HC')\n",
    "\n",
    "dendrogram(link_matrix, labels = data_sample1.category.values, leaf_font_size=10);\n",
    "#plt.savefig('../images/HC/hc_alternative_rock_dance_pop.png', bbox_inches = \"tight\")"
   ]
  },
  {
   "cell_type": "markdown",
   "metadata": {},
   "source": [
    "# HC nur mit Sport und tech (5%)"
   ]
  },
  {
   "cell_type": "code",
   "execution_count": 56,
   "metadata": {},
   "outputs": [],
   "source": [
    "data1 = df[df['category'] == 'sport']\n",
    "data2 = df[df['category'] == 'tech']"
   ]
  },
  {
   "cell_type": "code",
   "execution_count": 57,
   "metadata": {},
   "outputs": [
    {
     "data": {
      "text/plain": [
       "(46, 12)"
      ]
     },
     "execution_count": 57,
     "metadata": {},
     "output_type": "execute_result"
    }
   ],
   "source": [
    "data = pd.concat([data1, data2], axis = 0)\n",
    "\n",
    "data_sample = data.copy()\n",
    "data_sample = data_sample.sample(frac=.05, replace=False, random_state=42)\n",
    "data_sample.shape"
   ]
  },
  {
   "cell_type": "code",
   "execution_count": 58,
   "metadata": {},
   "outputs": [
    {
     "data": {
      "text/plain": [
       "Counter({'tech': 24, 'sport': 22})"
      ]
     },
     "execution_count": 58,
     "metadata": {},
     "output_type": "execute_result"
    }
   ],
   "source": [
    "from collections import Counter\n",
    "\n",
    "Counter(data_sample.category)"
   ]
  },
  {
   "cell_type": "code",
   "execution_count": 59,
   "metadata": {},
   "outputs": [],
   "source": [
    "tf_idf_vectorizor = TfidfVectorizer(max_features=1000,\n",
    "                                    stop_words=\"english\")\n",
    "\n",
    "tf_idf = tf_idf_vectorizor.fit_transform(data_sample.content)\n",
    "tf_idf_norm = normalize(tf_idf)\n",
    "#tf_idf_norm = tf_idf_norm.fillna(0)\n",
    "tf_idf_array = tf_idf_norm.toarray()"
   ]
  },
  {
   "cell_type": "code",
   "execution_count": 60,
   "metadata": {},
   "outputs": [
    {
     "data": {
      "image/png": "[encoded data removed]",
      "text/plain": [
       "<Figure size 864x576 with 1 Axes>"
      ]
     },
     "metadata": {
      "needs_background": "light"
     },
     "output_type": "display_data"
    }
   ],
   "source": [
    "sklearn_tsne = TSNE(n_components = 2)\n",
    "Y_sklearn = sklearn_tsne.fit_transform(tf_idf_array)\n",
    "model = AgglomerativeClustering(n_clusters=None, distance_threshold=0).fit(Y_sklearn)\n",
    "link_matrix = linkage_matrix(Y_sklearn.shape[0], model.children_, model.distances_)\n",
    "plt.figure(figsize=(12,8))\n",
    "plt.title('HC')\n",
    "\n",
    "dendrogram(link_matrix, labels = data_sample.category.values, leaf_font_size=10);"
   ]
  },
  {
   "cell_type": "code",
   "execution_count": null,
   "metadata": {},
   "outputs": [],
   "source": []
  }
 ],
 "metadata": {
  "kernelspec": {
   "display_name": "Python 3",
   "language": "python",
   "name": "python3"
  },
  "language_info": {
   "codemirror_mode": {
    "name": "ipython",
    "version": 3
   },
   "file_extension": ".py",
   "mimetype": "text/x-python",
   "name": "python",
   "nbconvert_exporter": "python",
   "pygments_lexer": "ipython3",
   "version": "3.7.4"
  },
  "toc": {
   "base_numbering": 1,
   "nav_menu": {},
   "number_sections": true,
   "sideBar": true,
   "skip_h1_title": false,
   "title_cell": "Inhaltsverzeichnis",
   "title_sidebar": "Contents",
   "toc_cell": true,
   "toc_position": {
    "height": "calc(100% - 180px)",
    "left": "10px",
    "top": "150px",
    "width": "320px"
   },
   "toc_section_display": true,
   "toc_window_display": false
  }
 },
 "nbformat": 4,
 "nbformat_minor": 2
}
