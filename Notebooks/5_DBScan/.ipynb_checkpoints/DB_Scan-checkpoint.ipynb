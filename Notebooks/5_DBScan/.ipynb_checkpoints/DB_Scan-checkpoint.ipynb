{
 "cells": [
  {
   "cell_type": "markdown",
   "metadata": {},
   "source": [
    "# Imports"
   ]
  },
  {
   "cell_type": "code",
   "execution_count": 48,
   "metadata": {},
   "outputs": [],
   "source": [
    "from sklearn.cluster import DBSCAN\n",
    "from sklearn.feature_extraction.text import TfidfVectorizer\n",
    "from sklearn.decomposition import PCA\n",
    "from sklearn.preprocessing import normalize\n",
    "#import numpy as np\n",
    "import pandas as pd\n",
    "import matplotlib.pyplot as plt"
   ]
  },
  {
   "cell_type": "markdown",
   "metadata": {},
   "source": [
    "# Daten vorbereiten"
   ]
  },
  {
   "cell_type": "code",
   "execution_count": 49,
   "metadata": {},
   "outputs": [],
   "source": [
    "df = pd.read_csv('../../Datensaetze/news_POS_POS_tags_nouns_adjectives_verb.csv')"
   ]
  },
  {
   "cell_type": "code",
   "execution_count": 50,
   "metadata": {},
   "outputs": [
    {
     "data": {
      "text/html": [
       "<div>\n",
       "<style scoped>\n",
       "    .dataframe tbody tr th:only-of-type {\n",
       "        vertical-align: middle;\n",
       "    }\n",
       "\n",
       "    .dataframe tbody tr th {\n",
       "        vertical-align: top;\n",
       "    }\n",
       "\n",
       "    .dataframe thead th {\n",
       "        text-align: right;\n",
       "    }\n",
       "</style>\n",
       "<table border=\"1\" class=\"dataframe\">\n",
       "  <thead>\n",
       "    <tr style=\"text-align: right;\">\n",
       "      <th></th>\n",
       "      <th>category</th>\n",
       "      <th>filename</th>\n",
       "      <th>title</th>\n",
       "      <th>content</th>\n",
       "      <th>number_of_tokens</th>\n",
       "      <th>number_of_types</th>\n",
       "      <th>stemmed_text</th>\n",
       "      <th>POS_tags</th>\n",
       "      <th>POS</th>\n",
       "      <th>nouns</th>\n",
       "      <th>adjectives</th>\n",
       "      <th>verb</th>\n",
       "    </tr>\n",
       "  </thead>\n",
       "  <tbody>\n",
       "    <tr>\n",
       "      <td>0</td>\n",
       "      <td>business</td>\n",
       "      <td>001.txt</td>\n",
       "      <td>Ad sales boost Time Warner profit</td>\n",
       "      <td>Quarterly profits at US media giant TimeWarne...</td>\n",
       "      <td>415.0</td>\n",
       "      <td>244.0</td>\n",
       "      <td>quarterli profit at US media giant timewarn j...</td>\n",
       "      <td>['_SP', 'NNP', 'NNS', 'IN', 'NNP', 'NNS', 'NN'...</td>\n",
       "      <td>high fourth own fourth underlying exceptional ...</td>\n",
       "      <td>74.0</td>\n",
       "      <td>22.0</td>\n",
       "      <td>1.0</td>\n",
       "    </tr>\n",
       "    <tr>\n",
       "      <td>1</td>\n",
       "      <td>business</td>\n",
       "      <td>002.txt</td>\n",
       "      <td>Dollar gains on Greenspan speech</td>\n",
       "      <td>The dollar has hit its highest level against ...</td>\n",
       "      <td>379.0</td>\n",
       "      <td>230.0</td>\n",
       "      <td>the dollar ha hit it highest level against th...</td>\n",
       "      <td>['_SP', 'DT', 'NN', 'VBZ', 'VBN', 'PRP$', 'JJS...</td>\n",
       "      <td>late recent sanguine current current next shar...</td>\n",
       "      <td>66.0</td>\n",
       "      <td>30.0</td>\n",
       "      <td>9.0</td>\n",
       "    </tr>\n",
       "  </tbody>\n",
       "</table>\n",
       "</div>"
      ],
      "text/plain": [
       "   category filename                              title  \\\n",
       "0  business  001.txt  Ad sales boost Time Warner profit   \n",
       "1  business  002.txt   Dollar gains on Greenspan speech   \n",
       "\n",
       "                                             content  number_of_tokens  \\\n",
       "0   Quarterly profits at US media giant TimeWarne...             415.0   \n",
       "1   The dollar has hit its highest level against ...             379.0   \n",
       "\n",
       "   number_of_types                                       stemmed_text  \\\n",
       "0            244.0   quarterli profit at US media giant timewarn j...   \n",
       "1            230.0   the dollar ha hit it highest level against th...   \n",
       "\n",
       "                                            POS_tags  \\\n",
       "0  ['_SP', 'NNP', 'NNS', 'IN', 'NNP', 'NNS', 'NN'...   \n",
       "1  ['_SP', 'DT', 'NN', 'VBZ', 'VBN', 'PRP$', 'JJS...   \n",
       "\n",
       "                                                 POS  nouns  adjectives  verb  \n",
       "0  high fourth own fourth underlying exceptional ...   74.0        22.0   1.0  \n",
       "1  late recent sanguine current current next shar...   66.0        30.0   9.0  "
      ]
     },
     "execution_count": 50,
     "metadata": {},
     "output_type": "execute_result"
    }
   ],
   "source": [
    "df.head(2)"
   ]
  },
  {
   "cell_type": "code",
   "execution_count": 51,
   "metadata": {},
   "outputs": [],
   "source": [
    "#data1 = df[df['Genre1'] == 'Jazz']\n",
    "#data2 = df[df['Genre1'] == 'Hip Hop']\n",
    "#data3 = df[df['Genre1'] == 'Electronic']\n",
    "#data4 = df[df['Genre1'] == 'Folk, World, & Country']\n",
    "#genres = pd.concat([data1, data2,data3, data4], axis = 0)\n",
    "#genres.head(2)"
   ]
  },
  {
   "cell_type": "code",
   "execution_count": 52,
   "metadata": {},
   "outputs": [],
   "source": [
    "tf_idf_vectorizor = TfidfVectorizer()\n",
    "tf_idf = tf_idf_vectorizor.fit_transform(df.content)\n",
    "tf_idf_norm = normalize(tf_idf)\n",
    "tf_idf_array = tf_idf_norm.toarray()"
   ]
  },
  {
   "cell_type": "markdown",
   "metadata": {},
   "source": [
    "# DB-Scan mit allen Kategorien "
   ]
  },
  {
   "cell_type": "code",
   "execution_count": 53,
   "metadata": {},
   "outputs": [],
   "source": [
    "def dbscan(eps, min_samples, metric, array): \n",
    "    clustering = DBSCAN(eps=eps, min_samples=min_samples, metric=metric)\n",
    "    clusters = clustering.fit(array)\n",
    "    labels = clusters.labels_\n",
    "    n_clusters_ = len(set(labels)) - (1 if -1 in labels else 0)\n",
    "    n_noise_ = list(labels).count(-1)\n",
    "    return 'n_clusters_', n_clusters_, 'n_noise_', n_noise_"
   ]
  },
  {
   "cell_type": "markdown",
   "metadata": {},
   "source": [
    "## Test von verschiedenen Parametern"
   ]
  },
  {
   "cell_type": "markdown",
   "metadata": {},
   "source": [
    "eps: Der maximale Abstand zwischen zwei Proben, damit die eine als in der Nachbarschaft der anderen betrachtet werden kann. Hierbei handelt es sich nicht um ein Maximum, das an die Abstände von Punkten innerhalb eines Clusters gebunden ist. Dies ist der wichtigste DBSCAN-Parameter, den Sie für Ihren Datensatz und Ihre Abstandsfunktion passend auswählen müssen."
   ]
  },
  {
   "cell_type": "markdown",
   "metadata": {},
   "source": [
    "min_samples: Die Anzahl der Proben (oder das Gesamtgewicht) in einer Nachbarschaft für einen Punkt, der als Kernpunkt betrachtet wird. Dies schließt den Punkt selbst ein."
   ]
  },
  {
   "cell_type": "code",
   "execution_count": 54,
   "metadata": {},
   "outputs": [
    {
     "name": "stdout",
     "output_type": "stream",
     "text": [
      "e:  0.5 m: 5 ('n_clusters_', 24, 'n_noise_', 2019)\n",
      "e:  0.5 m: 10 ('n_clusters_', 5, 'n_noise_', 2159)\n",
      "e:  0.5 m: 20 ('n_clusters_', 0, 'n_noise_', 2225)\n",
      "e:  0.5 m: 30 ('n_clusters_', 0, 'n_noise_', 2225)\n",
      "e:  0.5 m: 50 ('n_clusters_', 0, 'n_noise_', 2225)\n",
      "e:  0.5 m: 75 ('n_clusters_', 0, 'n_noise_', 2225)\n",
      "e:  0.5 m: 100 ('n_clusters_', 0, 'n_noise_', 2225)\n",
      "e:  0.9 m: 5 ('n_clusters_', 1, 'n_noise_', 0)\n",
      "e:  0.9 m: 10 ('n_clusters_', 1, 'n_noise_', 0)\n",
      "e:  0.9 m: 20 ('n_clusters_', 1, 'n_noise_', 0)\n",
      "e:  0.9 m: 30 ('n_clusters_', 1, 'n_noise_', 0)\n",
      "e:  0.9 m: 50 ('n_clusters_', 1, 'n_noise_', 0)\n",
      "e:  0.9 m: 75 ('n_clusters_', 1, 'n_noise_', 0)\n",
      "e:  0.9 m: 100 ('n_clusters_', 1, 'n_noise_', 0)\n",
      "e:  1 m: 5 ('n_clusters_', 1, 'n_noise_', 0)\n",
      "e:  1 m: 10 ('n_clusters_', 1, 'n_noise_', 0)\n",
      "e:  1 m: 20 ('n_clusters_', 1, 'n_noise_', 0)\n",
      "e:  1 m: 30 ('n_clusters_', 1, 'n_noise_', 0)\n",
      "e:  1 m: 50 ('n_clusters_', 1, 'n_noise_', 0)\n",
      "e:  1 m: 75 ('n_clusters_', 1, 'n_noise_', 0)\n",
      "e:  1 m: 100 ('n_clusters_', 1, 'n_noise_', 0)\n",
      "e:  1.5 m: 5 ('n_clusters_', 1, 'n_noise_', 0)\n",
      "e:  1.5 m: 10 ('n_clusters_', 1, 'n_noise_', 0)\n",
      "e:  1.5 m: 20 ('n_clusters_', 1, 'n_noise_', 0)\n",
      "e:  1.5 m: 30 ('n_clusters_', 1, 'n_noise_', 0)\n",
      "e:  1.5 m: 50 ('n_clusters_', 1, 'n_noise_', 0)\n",
      "e:  1.5 m: 75 ('n_clusters_', 1, 'n_noise_', 0)\n",
      "e:  1.5 m: 100 ('n_clusters_', 1, 'n_noise_', 0)\n",
      "e:  5 m: 5 ('n_clusters_', 1, 'n_noise_', 0)\n",
      "e:  5 m: 10 ('n_clusters_', 1, 'n_noise_', 0)\n",
      "e:  5 m: 20 ('n_clusters_', 1, 'n_noise_', 0)\n",
      "e:  5 m: 30 ('n_clusters_', 1, 'n_noise_', 0)\n",
      "e:  5 m: 50 ('n_clusters_', 1, 'n_noise_', 0)\n",
      "e:  5 m: 75 ('n_clusters_', 1, 'n_noise_', 0)\n",
      "e:  5 m: 100 ('n_clusters_', 1, 'n_noise_', 0)\n",
      "e:  10 m: 5 ('n_clusters_', 1, 'n_noise_', 0)\n",
      "e:  10 m: 10 ('n_clusters_', 1, 'n_noise_', 0)\n",
      "e:  10 m: 20 ('n_clusters_', 1, 'n_noise_', 0)\n",
      "e:  10 m: 30 ('n_clusters_', 1, 'n_noise_', 0)\n",
      "e:  10 m: 50 ('n_clusters_', 1, 'n_noise_', 0)\n",
      "e:  10 m: 75 ('n_clusters_', 1, 'n_noise_', 0)\n",
      "e:  10 m: 100 ('n_clusters_', 1, 'n_noise_', 0)\n",
      "e:  25 m: 5 ('n_clusters_', 1, 'n_noise_', 0)\n",
      "e:  25 m: 10 ('n_clusters_', 1, 'n_noise_', 0)\n",
      "e:  25 m: 20 ('n_clusters_', 1, 'n_noise_', 0)\n",
      "e:  25 m: 30 ('n_clusters_', 1, 'n_noise_', 0)\n",
      "e:  25 m: 50 ('n_clusters_', 1, 'n_noise_', 0)\n",
      "e:  25 m: 75 ('n_clusters_', 1, 'n_noise_', 0)\n",
      "e:  25 m: 100 ('n_clusters_', 1, 'n_noise_', 0)\n",
      "e:  50 m: 5 ('n_clusters_', 1, 'n_noise_', 0)\n",
      "e:  50 m: 10 ('n_clusters_', 1, 'n_noise_', 0)\n",
      "e:  50 m: 20 ('n_clusters_', 1, 'n_noise_', 0)\n",
      "e:  50 m: 30 ('n_clusters_', 1, 'n_noise_', 0)\n",
      "e:  50 m: 50 ('n_clusters_', 1, 'n_noise_', 0)\n",
      "e:  50 m: 75 ('n_clusters_', 1, 'n_noise_', 0)\n",
      "e:  50 m: 100 ('n_clusters_', 1, 'n_noise_', 0)\n",
      "e:  75 m: 5 ('n_clusters_', 1, 'n_noise_', 0)\n",
      "e:  75 m: 10 ('n_clusters_', 1, 'n_noise_', 0)\n",
      "e:  75 m: 20 ('n_clusters_', 1, 'n_noise_', 0)\n",
      "e:  75 m: 30 ('n_clusters_', 1, 'n_noise_', 0)\n",
      "e:  75 m: 50 ('n_clusters_', 1, 'n_noise_', 0)\n",
      "e:  75 m: 75 ('n_clusters_', 1, 'n_noise_', 0)\n",
      "e:  75 m: 100 ('n_clusters_', 1, 'n_noise_', 0)\n",
      "e:  100 m: 5 ('n_clusters_', 1, 'n_noise_', 0)\n",
      "e:  100 m: 10 ('n_clusters_', 1, 'n_noise_', 0)\n",
      "e:  100 m: 20 ('n_clusters_', 1, 'n_noise_', 0)\n",
      "e:  100 m: 30 ('n_clusters_', 1, 'n_noise_', 0)\n",
      "e:  100 m: 50 ('n_clusters_', 1, 'n_noise_', 0)\n",
      "e:  100 m: 75 ('n_clusters_', 1, 'n_noise_', 0)\n",
      "e:  100 m: 100 ('n_clusters_', 1, 'n_noise_', 0)\n"
     ]
    }
   ],
   "source": [
    "eps = [0.5, 0.9, 1, 1.5, 5, 10, 25, 50, 75, 100]\n",
    "min_samples = [5, 10, 20, 30, 50, 75, 100]\n",
    "for e in eps:\n",
    "    for m in min_samples:\n",
    "        print('e: ',e, 'm:',m ,dbscan(e, m, 'cosine', tf_idf_array))"
   ]
  },
  {
   "cell_type": "markdown",
   "metadata": {},
   "source": [
    "## Visualisieren"
   ]
  },
  {
   "cell_type": "code",
   "execution_count": 55,
   "metadata": {},
   "outputs": [
    {
     "data": {
      "text/plain": [
       "Text(0, 0.5, 'Feature 1')"
      ]
     },
     "execution_count": 55,
     "metadata": {},
     "output_type": "execute_result"
    },
    {
     "data": {
      "image/png": "[encoded data removed]",
      "text/plain": [
       "<Figure size 432x288 with 1 Axes>"
      ]
     },
     "metadata": {
      "needs_background": "light"
     },
     "output_type": "display_data"
    }
   ],
   "source": [
    "#bestes Ergebnis anwenden: eps=0.5, min_samples=10\n",
    "\n",
    "clustering = DBSCAN(eps=0.5, min_samples=10, metric='cosine')\n",
    "clusters = clustering.fit(tf_idf_array)\n",
    "labels = clusters.labels_\n",
    "\n",
    "sklearn_pca = PCA(n_components = 2)\n",
    "data = sklearn_pca.fit_transform(tf_idf_array)\n",
    "\n",
    "plt.scatter(data[:, 0], data[:, 1], c=clusters.labels_, cmap=\"viridis\")\n",
    "plt.xlabel(\"Feature 0\")\n",
    "plt.ylabel(\"Feature 1\")\n",
    "#plt.savefig('dbscan_viergenres')"
   ]
  },
  {
   "cell_type": "markdown",
   "metadata": {},
   "source": [
    "## Versuch mit TSNE"
   ]
  },
  {
   "cell_type": "code",
   "execution_count": 56,
   "metadata": {},
   "outputs": [],
   "source": [
    "tf_idf_vectorizor = TfidfVectorizer()\n",
    "tf_idf = tf_idf_vectorizor.fit_transform(df.content)\n",
    "tf_idf_norm = normalize(tf_idf)\n",
    "tf_idf_array = tf_idf_norm.toarray()"
   ]
  },
  {
   "cell_type": "code",
   "execution_count": 57,
   "metadata": {},
   "outputs": [],
   "source": [
    "def dbscan(eps, min_samples, metric, array): \n",
    "    clustering = DBSCAN(eps=eps, min_samples=min_samples, metric=metric)\n",
    "    clusters = clustering.fit(array)\n",
    "    labels = clusters.labels_\n",
    "    n_clusters_ = len(set(labels)) - (1 if -1 in labels else 0)\n",
    "    n_noise_ = list(labels).count(-1)\n",
    "    return 'n_clusters_', n_clusters_, 'n_noise_', n_noise_"
   ]
  },
  {
   "cell_type": "code",
   "execution_count": 58,
   "metadata": {},
   "outputs": [
    {
     "name": "stdout",
     "output_type": "stream",
     "text": [
      "e:  0.5 m: 5 ('n_clusters_', 24, 'n_noise_', 2019)\n",
      "e:  0.5 m: 10 ('n_clusters_', 5, 'n_noise_', 2159)\n",
      "e:  0.5 m: 20 ('n_clusters_', 0, 'n_noise_', 2225)\n",
      "e:  0.5 m: 30 ('n_clusters_', 0, 'n_noise_', 2225)\n",
      "e:  0.5 m: 50 ('n_clusters_', 0, 'n_noise_', 2225)\n",
      "e:  0.5 m: 75 ('n_clusters_', 0, 'n_noise_', 2225)\n",
      "e:  0.5 m: 100 ('n_clusters_', 0, 'n_noise_', 2225)\n",
      "e:  0.9 m: 5 ('n_clusters_', 1, 'n_noise_', 0)\n",
      "e:  0.9 m: 10 ('n_clusters_', 1, 'n_noise_', 0)\n",
      "e:  0.9 m: 20 ('n_clusters_', 1, 'n_noise_', 0)\n",
      "e:  0.9 m: 30 ('n_clusters_', 1, 'n_noise_', 0)\n",
      "e:  0.9 m: 50 ('n_clusters_', 1, 'n_noise_', 0)\n",
      "e:  0.9 m: 75 ('n_clusters_', 1, 'n_noise_', 0)\n",
      "e:  0.9 m: 100 ('n_clusters_', 1, 'n_noise_', 0)\n",
      "e:  1 m: 5 ('n_clusters_', 1, 'n_noise_', 0)\n",
      "e:  1 m: 10 ('n_clusters_', 1, 'n_noise_', 0)\n",
      "e:  1 m: 20 ('n_clusters_', 1, 'n_noise_', 0)\n",
      "e:  1 m: 30 ('n_clusters_', 1, 'n_noise_', 0)\n",
      "e:  1 m: 50 ('n_clusters_', 1, 'n_noise_', 0)\n",
      "e:  1 m: 75 ('n_clusters_', 1, 'n_noise_', 0)\n",
      "e:  1 m: 100 ('n_clusters_', 1, 'n_noise_', 0)\n",
      "e:  1.5 m: 5 ('n_clusters_', 1, 'n_noise_', 0)\n",
      "e:  1.5 m: 10 ('n_clusters_', 1, 'n_noise_', 0)\n",
      "e:  1.5 m: 20 ('n_clusters_', 1, 'n_noise_', 0)\n",
      "e:  1.5 m: 30 ('n_clusters_', 1, 'n_noise_', 0)\n",
      "e:  1.5 m: 50 ('n_clusters_', 1, 'n_noise_', 0)\n",
      "e:  1.5 m: 75 ('n_clusters_', 1, 'n_noise_', 0)\n",
      "e:  1.5 m: 100 ('n_clusters_', 1, 'n_noise_', 0)\n",
      "e:  5 m: 5 ('n_clusters_', 1, 'n_noise_', 0)\n",
      "e:  5 m: 10 ('n_clusters_', 1, 'n_noise_', 0)\n",
      "e:  5 m: 20 ('n_clusters_', 1, 'n_noise_', 0)\n",
      "e:  5 m: 30 ('n_clusters_', 1, 'n_noise_', 0)\n",
      "e:  5 m: 50 ('n_clusters_', 1, 'n_noise_', 0)\n",
      "e:  5 m: 75 ('n_clusters_', 1, 'n_noise_', 0)\n",
      "e:  5 m: 100 ('n_clusters_', 1, 'n_noise_', 0)\n",
      "e:  10 m: 5 ('n_clusters_', 1, 'n_noise_', 0)\n",
      "e:  10 m: 10 ('n_clusters_', 1, 'n_noise_', 0)\n",
      "e:  10 m: 20 ('n_clusters_', 1, 'n_noise_', 0)\n",
      "e:  10 m: 30 ('n_clusters_', 1, 'n_noise_', 0)\n",
      "e:  10 m: 50 ('n_clusters_', 1, 'n_noise_', 0)\n",
      "e:  10 m: 75 ('n_clusters_', 1, 'n_noise_', 0)\n",
      "e:  10 m: 100 ('n_clusters_', 1, 'n_noise_', 0)\n",
      "e:  25 m: 5 ('n_clusters_', 1, 'n_noise_', 0)\n",
      "e:  25 m: 10 ('n_clusters_', 1, 'n_noise_', 0)\n",
      "e:  25 m: 20 ('n_clusters_', 1, 'n_noise_', 0)\n",
      "e:  25 m: 30 ('n_clusters_', 1, 'n_noise_', 0)\n",
      "e:  25 m: 50 ('n_clusters_', 1, 'n_noise_', 0)\n",
      "e:  25 m: 75 ('n_clusters_', 1, 'n_noise_', 0)\n",
      "e:  25 m: 100 ('n_clusters_', 1, 'n_noise_', 0)\n",
      "e:  50 m: 5 ('n_clusters_', 1, 'n_noise_', 0)\n",
      "e:  50 m: 10 ('n_clusters_', 1, 'n_noise_', 0)\n",
      "e:  50 m: 20 ('n_clusters_', 1, 'n_noise_', 0)\n",
      "e:  50 m: 30 ('n_clusters_', 1, 'n_noise_', 0)\n",
      "e:  50 m: 50 ('n_clusters_', 1, 'n_noise_', 0)\n",
      "e:  50 m: 75 ('n_clusters_', 1, 'n_noise_', 0)\n",
      "e:  50 m: 100 ('n_clusters_', 1, 'n_noise_', 0)\n",
      "e:  75 m: 5 ('n_clusters_', 1, 'n_noise_', 0)\n",
      "e:  75 m: 10 ('n_clusters_', 1, 'n_noise_', 0)\n",
      "e:  75 m: 20 ('n_clusters_', 1, 'n_noise_', 0)\n",
      "e:  75 m: 30 ('n_clusters_', 1, 'n_noise_', 0)\n",
      "e:  75 m: 50 ('n_clusters_', 1, 'n_noise_', 0)\n",
      "e:  75 m: 75 ('n_clusters_', 1, 'n_noise_', 0)\n",
      "e:  75 m: 100 ('n_clusters_', 1, 'n_noise_', 0)\n",
      "e:  100 m: 5 ('n_clusters_', 1, 'n_noise_', 0)\n",
      "e:  100 m: 10 ('n_clusters_', 1, 'n_noise_', 0)\n",
      "e:  100 m: 20 ('n_clusters_', 1, 'n_noise_', 0)\n",
      "e:  100 m: 30 ('n_clusters_', 1, 'n_noise_', 0)\n",
      "e:  100 m: 50 ('n_clusters_', 1, 'n_noise_', 0)\n",
      "e:  100 m: 75 ('n_clusters_', 1, 'n_noise_', 0)\n",
      "e:  100 m: 100 ('n_clusters_', 1, 'n_noise_', 0)\n"
     ]
    }
   ],
   "source": [
    "eps = [0.5, 0.9, 1, 1.5, 5, 10, 25, 50, 75, 100]\n",
    "min_samples = [5, 10, 20, 30, 50, 75, 100]\n",
    "for e in eps:\n",
    "    for m in min_samples:\n",
    "        print('e: ',e, 'm:',m ,dbscan(e, m, 'cosine', tf_idf_array))"
   ]
  },
  {
   "cell_type": "code",
   "execution_count": 59,
   "metadata": {},
   "outputs": [
    {
     "data": {
      "text/plain": [
       "Text(0, 0.5, 'Feature 1')"
      ]
     },
     "execution_count": 59,
     "metadata": {},
     "output_type": "execute_result"
    },
    {
     "data": {
      "image/png": "[encoded data removed]",
      "text/plain": [
       "<Figure size 432x288 with 1 Axes>"
      ]
     },
     "metadata": {
      "needs_background": "light"
     },
     "output_type": "display_data"
    }
   ],
   "source": [
    "#e:  0.5 m: 10 bestes Ergebnis\n",
    "\n",
    "from sklearn.manifold import TSNE\n",
    "\n",
    "clustering = DBSCAN(eps=0.5, min_samples=10, metric='cosine')\n",
    "clusters = clustering.fit(tf_idf_array)\n",
    "labels = clusters.labels_\n",
    "\n",
    "\n",
    "sklearn_tsne = TSNE(n_components=2)\n",
    "data = sklearn_tsne.fit_transform(tf_idf_array)\n",
    "\n",
    "#sklearn_pca = PCA(n_components = 2)\n",
    "#data = sklearn_pca.fit_transform(tf_idf_array)\n",
    "\n",
    "plt.scatter(data[:, 0], data[:, 1], c=clusters.labels_, cmap=\"viridis\")\n",
    "plt.xlabel(\"Feature 0\")\n",
    "plt.ylabel(\"Feature 1\")\n",
    "#plt.savefig('dbscan_viergenres')"
   ]
  },
  {
   "cell_type": "markdown",
   "metadata": {},
   "source": [
    "# DB-Scan mit Sport + Tech"
   ]
  },
  {
   "cell_type": "code",
   "execution_count": 60,
   "metadata": {},
   "outputs": [
    {
     "data": {
      "text/html": [
       "<div>\n",
       "<style scoped>\n",
       "    .dataframe tbody tr th:only-of-type {\n",
       "        vertical-align: middle;\n",
       "    }\n",
       "\n",
       "    .dataframe tbody tr th {\n",
       "        vertical-align: top;\n",
       "    }\n",
       "\n",
       "    .dataframe thead th {\n",
       "        text-align: right;\n",
       "    }\n",
       "</style>\n",
       "<table border=\"1\" class=\"dataframe\">\n",
       "  <thead>\n",
       "    <tr style=\"text-align: right;\">\n",
       "      <th></th>\n",
       "      <th>category</th>\n",
       "      <th>filename</th>\n",
       "      <th>title</th>\n",
       "      <th>content</th>\n",
       "      <th>number_of_tokens</th>\n",
       "      <th>number_of_types</th>\n",
       "      <th>stemmed_text</th>\n",
       "      <th>POS_tags</th>\n",
       "      <th>POS</th>\n",
       "      <th>nouns</th>\n",
       "      <th>adjectives</th>\n",
       "      <th>verb</th>\n",
       "    </tr>\n",
       "  </thead>\n",
       "  <tbody>\n",
       "    <tr>\n",
       "      <td>1313</td>\n",
       "      <td>sport</td>\n",
       "      <td>001.txt</td>\n",
       "      <td>Claxton hunting first major medal</td>\n",
       "      <td>British hurdler Sarah Claxton is confident sh...</td>\n",
       "      <td>206.0</td>\n",
       "      <td>145.0</td>\n",
       "      <td>british hurdler sarah claxton is confid she c...</td>\n",
       "      <td>['_SP', 'JJ', 'NN', 'NNP', 'NNP', 'VBZ', 'JJ',...</td>\n",
       "      <td>British confident first major next old British...</td>\n",
       "      <td>29.0</td>\n",
       "      <td>22.0</td>\n",
       "      <td>5.0</td>\n",
       "    </tr>\n",
       "    <tr>\n",
       "      <td>1314</td>\n",
       "      <td>sport</td>\n",
       "      <td>002.txt</td>\n",
       "      <td>O'Sullivan could run in Worlds</td>\n",
       "      <td>Sonia O'Sullivan has indicated that she would...</td>\n",
       "      <td>139.0</td>\n",
       "      <td>103.0</td>\n",
       "      <td>sonia o'sullivan ha indic that she would like...</td>\n",
       "      <td>['_SP', 'NNP', 'NNP', 'VBZ', 'VBN', 'IN', 'PRP...</td>\n",
       "      <td>next old official Provincial last present firs...</td>\n",
       "      <td>16.0</td>\n",
       "      <td>9.0</td>\n",
       "      <td>2.0</td>\n",
       "    </tr>\n",
       "  </tbody>\n",
       "</table>\n",
       "</div>"
      ],
      "text/plain": [
       "     category filename                              title  \\\n",
       "1313    sport  001.txt  Claxton hunting first major medal   \n",
       "1314    sport  002.txt     O'Sullivan could run in Worlds   \n",
       "\n",
       "                                                content  number_of_tokens  \\\n",
       "1313   British hurdler Sarah Claxton is confident sh...             206.0   \n",
       "1314   Sonia O'Sullivan has indicated that she would...             139.0   \n",
       "\n",
       "      number_of_types                                       stemmed_text  \\\n",
       "1313            145.0   british hurdler sarah claxton is confid she c...   \n",
       "1314            103.0   sonia o'sullivan ha indic that she would like...   \n",
       "\n",
       "                                               POS_tags  \\\n",
       "1313  ['_SP', 'JJ', 'NN', 'NNP', 'NNP', 'VBZ', 'JJ',...   \n",
       "1314  ['_SP', 'NNP', 'NNP', 'VBZ', 'VBN', 'IN', 'PRP...   \n",
       "\n",
       "                                                    POS  nouns  adjectives  \\\n",
       "1313  British confident first major next old British...   29.0        22.0   \n",
       "1314  next old official Provincial last present firs...   16.0         9.0   \n",
       "\n",
       "      verb  \n",
       "1313   5.0  \n",
       "1314   2.0  "
      ]
     },
     "execution_count": 60,
     "metadata": {},
     "output_type": "execute_result"
    }
   ],
   "source": [
    "data1 = df[df['category'] == 'sport']\n",
    "data2 = df[df['category'] == 'tech']\n",
    "\n",
    "cats = pd.concat([data1, data2], axis = 0)\n",
    "cats.head(2)"
   ]
  },
  {
   "cell_type": "code",
   "execution_count": 61,
   "metadata": {},
   "outputs": [],
   "source": [
    "#cats.category"
   ]
  },
  {
   "cell_type": "code",
   "execution_count": 62,
   "metadata": {},
   "outputs": [],
   "source": [
    "tf_idf_vectorizor = TfidfVectorizer()\n",
    "tf_idf = tf_idf_vectorizor.fit_transform(cats.content)\n",
    "tf_idf_norm = normalize(tf_idf)\n",
    "tf_idf_array = tf_idf_norm.toarray()"
   ]
  },
  {
   "cell_type": "code",
   "execution_count": 63,
   "metadata": {},
   "outputs": [],
   "source": [
    "def dbscan(eps, min_samples, metric, array): \n",
    "    clustering = DBSCAN(eps=eps, min_samples=min_samples, metric=metric)\n",
    "    clusters = clustering.fit(array)\n",
    "    labels = clusters.labels_\n",
    "    n_clusters_ = len(set(labels)) - (1 if -1 in labels else 0)\n",
    "    n_noise_ = list(labels).count(-1)\n",
    "    return 'n_clusters_', n_clusters_, 'n_noise_', n_noise_"
   ]
  },
  {
   "cell_type": "code",
   "execution_count": 24,
   "metadata": {},
   "outputs": [
    {
     "name": "stdout",
     "output_type": "stream",
     "text": [
      "e:  0.05 m: 5 ('n_clusters_', 0, 'n_noise_', 912)\n",
      "e:  0.05 m: 10 ('n_clusters_', 0, 'n_noise_', 912)\n",
      "e:  0.05 m: 20 ('n_clusters_', 0, 'n_noise_', 912)\n",
      "e:  0.05 m: 30 ('n_clusters_', 0, 'n_noise_', 912)\n",
      "e:  0.05 m: 50 ('n_clusters_', 0, 'n_noise_', 912)\n",
      "e:  0.05 m: 75 ('n_clusters_', 0, 'n_noise_', 912)\n",
      "e:  0.05 m: 100 ('n_clusters_', 0, 'n_noise_', 912)\n",
      "e:  0.1 m: 5 ('n_clusters_', 0, 'n_noise_', 912)\n",
      "e:  0.1 m: 10 ('n_clusters_', 0, 'n_noise_', 912)\n",
      "e:  0.1 m: 20 ('n_clusters_', 0, 'n_noise_', 912)\n",
      "e:  0.1 m: 30 ('n_clusters_', 0, 'n_noise_', 912)\n",
      "e:  0.1 m: 50 ('n_clusters_', 0, 'n_noise_', 912)\n",
      "e:  0.1 m: 75 ('n_clusters_', 0, 'n_noise_', 912)\n",
      "e:  0.1 m: 100 ('n_clusters_', 0, 'n_noise_', 912)\n",
      "e:  0.5 m: 5 ('n_clusters_', 9, 'n_noise_', 849)\n",
      "e:  0.5 m: 10 ('n_clusters_', 1, 'n_noise_', 898)\n",
      "e:  0.5 m: 20 ('n_clusters_', 0, 'n_noise_', 912)\n",
      "e:  0.5 m: 30 ('n_clusters_', 0, 'n_noise_', 912)\n",
      "e:  0.5 m: 50 ('n_clusters_', 0, 'n_noise_', 912)\n",
      "e:  0.5 m: 75 ('n_clusters_', 0, 'n_noise_', 912)\n",
      "e:  0.5 m: 100 ('n_clusters_', 0, 'n_noise_', 912)\n",
      "e:  0.9 m: 5 ('n_clusters_', 1, 'n_noise_', 0)\n",
      "e:  0.9 m: 10 ('n_clusters_', 1, 'n_noise_', 0)\n",
      "e:  0.9 m: 20 ('n_clusters_', 1, 'n_noise_', 0)\n",
      "e:  0.9 m: 30 ('n_clusters_', 1, 'n_noise_', 0)\n",
      "e:  0.9 m: 50 ('n_clusters_', 1, 'n_noise_', 0)\n",
      "e:  0.9 m: 75 ('n_clusters_', 1, 'n_noise_', 0)\n",
      "e:  0.9 m: 100 ('n_clusters_', 1, 'n_noise_', 0)\n",
      "e:  1 m: 5 ('n_clusters_', 1, 'n_noise_', 0)\n",
      "e:  1 m: 10 ('n_clusters_', 1, 'n_noise_', 0)\n",
      "e:  1 m: 20 ('n_clusters_', 1, 'n_noise_', 0)\n",
      "e:  1 m: 30 ('n_clusters_', 1, 'n_noise_', 0)\n",
      "e:  1 m: 50 ('n_clusters_', 1, 'n_noise_', 0)\n",
      "e:  1 m: 75 ('n_clusters_', 1, 'n_noise_', 0)\n",
      "e:  1 m: 100 ('n_clusters_', 1, 'n_noise_', 0)\n",
      "e:  1.5 m: 5 ('n_clusters_', 1, 'n_noise_', 0)\n",
      "e:  1.5 m: 10 ('n_clusters_', 1, 'n_noise_', 0)\n",
      "e:  1.5 m: 20 ('n_clusters_', 1, 'n_noise_', 0)\n",
      "e:  1.5 m: 30 ('n_clusters_', 1, 'n_noise_', 0)\n",
      "e:  1.5 m: 50 ('n_clusters_', 1, 'n_noise_', 0)\n",
      "e:  1.5 m: 75 ('n_clusters_', 1, 'n_noise_', 0)\n",
      "e:  1.5 m: 100 ('n_clusters_', 1, 'n_noise_', 0)\n",
      "e:  10 m: 5 ('n_clusters_', 1, 'n_noise_', 0)\n",
      "e:  10 m: 10 ('n_clusters_', 1, 'n_noise_', 0)\n",
      "e:  10 m: 20 ('n_clusters_', 1, 'n_noise_', 0)\n",
      "e:  10 m: 30 ('n_clusters_', 1, 'n_noise_', 0)\n",
      "e:  10 m: 50 ('n_clusters_', 1, 'n_noise_', 0)\n",
      "e:  10 m: 75 ('n_clusters_', 1, 'n_noise_', 0)\n",
      "e:  10 m: 100 ('n_clusters_', 1, 'n_noise_', 0)\n",
      "e:  25 m: 5 ('n_clusters_', 1, 'n_noise_', 0)\n",
      "e:  25 m: 10 ('n_clusters_', 1, 'n_noise_', 0)\n",
      "e:  25 m: 20 ('n_clusters_', 1, 'n_noise_', 0)\n",
      "e:  25 m: 30 ('n_clusters_', 1, 'n_noise_', 0)\n",
      "e:  25 m: 50 ('n_clusters_', 1, 'n_noise_', 0)\n",
      "e:  25 m: 75 ('n_clusters_', 1, 'n_noise_', 0)\n",
      "e:  25 m: 100 ('n_clusters_', 1, 'n_noise_', 0)\n",
      "e:  50 m: 5 ('n_clusters_', 1, 'n_noise_', 0)\n",
      "e:  50 m: 10 ('n_clusters_', 1, 'n_noise_', 0)\n",
      "e:  50 m: 20 ('n_clusters_', 1, 'n_noise_', 0)\n",
      "e:  50 m: 30 ('n_clusters_', 1, 'n_noise_', 0)\n",
      "e:  50 m: 50 ('n_clusters_', 1, 'n_noise_', 0)\n",
      "e:  50 m: 75 ('n_clusters_', 1, 'n_noise_', 0)\n",
      "e:  50 m: 100 ('n_clusters_', 1, 'n_noise_', 0)\n",
      "e:  75 m: 5 ('n_clusters_', 1, 'n_noise_', 0)\n",
      "e:  75 m: 10 ('n_clusters_', 1, 'n_noise_', 0)\n",
      "e:  75 m: 20 ('n_clusters_', 1, 'n_noise_', 0)\n",
      "e:  75 m: 30 ('n_clusters_', 1, 'n_noise_', 0)\n",
      "e:  75 m: 50 ('n_clusters_', 1, 'n_noise_', 0)\n",
      "e:  75 m: 75 ('n_clusters_', 1, 'n_noise_', 0)\n",
      "e:  75 m: 100 ('n_clusters_', 1, 'n_noise_', 0)\n",
      "e:  100 m: 5 ('n_clusters_', 1, 'n_noise_', 0)\n",
      "e:  100 m: 10 ('n_clusters_', 1, 'n_noise_', 0)\n",
      "e:  100 m: 20 ('n_clusters_', 1, 'n_noise_', 0)\n",
      "e:  100 m: 30 ('n_clusters_', 1, 'n_noise_', 0)\n",
      "e:  100 m: 50 ('n_clusters_', 1, 'n_noise_', 0)\n",
      "e:  100 m: 75 ('n_clusters_', 1, 'n_noise_', 0)\n",
      "e:  100 m: 100 ('n_clusters_', 1, 'n_noise_', 0)\n"
     ]
    }
   ],
   "source": [
    "eps = [0.05, 0.1, 0.5, 0.9, 1, 1.5, 10, 25, 50, 75, 100]\n",
    "min_samples = [5, 10, 20, 30, 50, 75, 100]\n",
    "for e in eps:\n",
    "    for m in min_samples:\n",
    "        print('e: ',e, 'm:',m ,dbscan(e, m, 'cosine', tf_idf_array))"
   ]
  },
  {
   "cell_type": "markdown",
   "metadata": {},
   "source": [
    "# DBScan mit Sport + Tech + Politics"
   ]
  },
  {
   "cell_type": "code",
   "execution_count": 64,
   "metadata": {},
   "outputs": [
    {
     "data": {
      "text/html": [
       "<div>\n",
       "<style scoped>\n",
       "    .dataframe tbody tr th:only-of-type {\n",
       "        vertical-align: middle;\n",
       "    }\n",
       "\n",
       "    .dataframe tbody tr th {\n",
       "        vertical-align: top;\n",
       "    }\n",
       "\n",
       "    .dataframe thead th {\n",
       "        text-align: right;\n",
       "    }\n",
       "</style>\n",
       "<table border=\"1\" class=\"dataframe\">\n",
       "  <thead>\n",
       "    <tr style=\"text-align: right;\">\n",
       "      <th></th>\n",
       "      <th>category</th>\n",
       "      <th>filename</th>\n",
       "      <th>title</th>\n",
       "      <th>content</th>\n",
       "      <th>number_of_tokens</th>\n",
       "      <th>number_of_types</th>\n",
       "      <th>stemmed_text</th>\n",
       "      <th>POS_tags</th>\n",
       "      <th>POS</th>\n",
       "      <th>nouns</th>\n",
       "      <th>adjectives</th>\n",
       "      <th>verb</th>\n",
       "    </tr>\n",
       "  </thead>\n",
       "  <tbody>\n",
       "    <tr>\n",
       "      <td>1313</td>\n",
       "      <td>sport</td>\n",
       "      <td>001.txt</td>\n",
       "      <td>Claxton hunting first major medal</td>\n",
       "      <td>British hurdler Sarah Claxton is confident sh...</td>\n",
       "      <td>206.0</td>\n",
       "      <td>145.0</td>\n",
       "      <td>british hurdler sarah claxton is confid she c...</td>\n",
       "      <td>['_SP', 'JJ', 'NN', 'NNP', 'NNP', 'VBZ', 'JJ',...</td>\n",
       "      <td>British confident first major next old British...</td>\n",
       "      <td>29.0</td>\n",
       "      <td>22.0</td>\n",
       "      <td>5.0</td>\n",
       "    </tr>\n",
       "    <tr>\n",
       "      <td>1314</td>\n",
       "      <td>sport</td>\n",
       "      <td>002.txt</td>\n",
       "      <td>O'Sullivan could run in Worlds</td>\n",
       "      <td>Sonia O'Sullivan has indicated that she would...</td>\n",
       "      <td>139.0</td>\n",
       "      <td>103.0</td>\n",
       "      <td>sonia o'sullivan ha indic that she would like...</td>\n",
       "      <td>['_SP', 'NNP', 'NNP', 'VBZ', 'VBN', 'IN', 'PRP...</td>\n",
       "      <td>next old official Provincial last present firs...</td>\n",
       "      <td>16.0</td>\n",
       "      <td>9.0</td>\n",
       "      <td>2.0</td>\n",
       "    </tr>\n",
       "  </tbody>\n",
       "</table>\n",
       "</div>"
      ],
      "text/plain": [
       "     category filename                              title  \\\n",
       "1313    sport  001.txt  Claxton hunting first major medal   \n",
       "1314    sport  002.txt     O'Sullivan could run in Worlds   \n",
       "\n",
       "                                                content  number_of_tokens  \\\n",
       "1313   British hurdler Sarah Claxton is confident sh...             206.0   \n",
       "1314   Sonia O'Sullivan has indicated that she would...             139.0   \n",
       "\n",
       "      number_of_types                                       stemmed_text  \\\n",
       "1313            145.0   british hurdler sarah claxton is confid she c...   \n",
       "1314            103.0   sonia o'sullivan ha indic that she would like...   \n",
       "\n",
       "                                               POS_tags  \\\n",
       "1313  ['_SP', 'JJ', 'NN', 'NNP', 'NNP', 'VBZ', 'JJ',...   \n",
       "1314  ['_SP', 'NNP', 'NNP', 'VBZ', 'VBN', 'IN', 'PRP...   \n",
       "\n",
       "                                                    POS  nouns  adjectives  \\\n",
       "1313  British confident first major next old British...   29.0        22.0   \n",
       "1314  next old official Provincial last present firs...   16.0         9.0   \n",
       "\n",
       "      verb  \n",
       "1313   5.0  \n",
       "1314   2.0  "
      ]
     },
     "execution_count": 64,
     "metadata": {},
     "output_type": "execute_result"
    }
   ],
   "source": [
    "data1 = df[df['category'] == 'sport']\n",
    "data2 = df[df['category'] == 'tech']\n",
    "data3 = df[df['category'] == 'politics']\n",
    "\n",
    "cats3 = pd.concat([data1, data2, data3], axis = 0)\n",
    "cats3.head(2)"
   ]
  },
  {
   "cell_type": "code",
   "execution_count": 65,
   "metadata": {},
   "outputs": [
    {
     "data": {
      "text/plain": [
       "Counter({'sport': 511, 'tech': 401, 'politics': 417})"
      ]
     },
     "execution_count": 65,
     "metadata": {},
     "output_type": "execute_result"
    }
   ],
   "source": [
    "from collections import Counter\n",
    "Counter(cats3.category)"
   ]
  },
  {
   "cell_type": "code",
   "execution_count": 66,
   "metadata": {},
   "outputs": [],
   "source": [
    "tf_idf_vectorizor = TfidfVectorizer()\n",
    "tf_idf = tf_idf_vectorizor.fit_transform(cats3.content)\n",
    "tf_idf_norm = normalize(tf_idf)\n",
    "tf_idf_array = tf_idf_norm.toarray()"
   ]
  },
  {
   "cell_type": "code",
   "execution_count": 67,
   "metadata": {},
   "outputs": [],
   "source": [
    "def dbscan(eps, min_samples, metric, array): \n",
    "    clustering = DBSCAN(eps=eps, min_samples=min_samples, metric=metric)\n",
    "    clusters = clustering.fit(array)\n",
    "    labels = clusters.labels_\n",
    "    n_clusters_ = len(set(labels)) - (1 if -1 in labels else 0)\n",
    "    n_noise_ = list(labels).count(-1)\n",
    "    return 'n_clusters_', n_clusters_, 'n_noise_', n_noise_"
   ]
  },
  {
   "cell_type": "code",
   "execution_count": 32,
   "metadata": {},
   "outputs": [
    {
     "name": "stdout",
     "output_type": "stream",
     "text": [
      "e:  0.05 m: 5 ('n_clusters_', 0, 'n_noise_', 1329)\n",
      "e:  0.05 m: 10 ('n_clusters_', 0, 'n_noise_', 1329)\n",
      "e:  0.05 m: 20 ('n_clusters_', 0, 'n_noise_', 1329)\n",
      "e:  0.05 m: 30 ('n_clusters_', 0, 'n_noise_', 1329)\n",
      "e:  0.05 m: 50 ('n_clusters_', 0, 'n_noise_', 1329)\n",
      "e:  0.05 m: 75 ('n_clusters_', 0, 'n_noise_', 1329)\n",
      "e:  0.05 m: 100 ('n_clusters_', 0, 'n_noise_', 1329)\n",
      "e:  0.1 m: 5 ('n_clusters_', 0, 'n_noise_', 1329)\n",
      "e:  0.1 m: 10 ('n_clusters_', 0, 'n_noise_', 1329)\n",
      "e:  0.1 m: 20 ('n_clusters_', 0, 'n_noise_', 1329)\n",
      "e:  0.1 m: 30 ('n_clusters_', 0, 'n_noise_', 1329)\n",
      "e:  0.1 m: 50 ('n_clusters_', 0, 'n_noise_', 1329)\n",
      "e:  0.1 m: 75 ('n_clusters_', 0, 'n_noise_', 1329)\n",
      "e:  0.1 m: 100 ('n_clusters_', 0, 'n_noise_', 1329)\n",
      "e:  0.5 m: 5 ('n_clusters_', 18, 'n_noise_', 1180)\n",
      "e:  0.5 m: 10 ('n_clusters_', 3, 'n_noise_', 1289)\n",
      "e:  0.5 m: 20 ('n_clusters_', 0, 'n_noise_', 1329)\n",
      "e:  0.5 m: 30 ('n_clusters_', 0, 'n_noise_', 1329)\n",
      "e:  0.5 m: 50 ('n_clusters_', 0, 'n_noise_', 1329)\n",
      "e:  0.5 m: 75 ('n_clusters_', 0, 'n_noise_', 1329)\n",
      "e:  0.5 m: 100 ('n_clusters_', 0, 'n_noise_', 1329)\n",
      "e:  0.9 m: 5 ('n_clusters_', 1, 'n_noise_', 0)\n",
      "e:  0.9 m: 10 ('n_clusters_', 1, 'n_noise_', 0)\n",
      "e:  0.9 m: 20 ('n_clusters_', 1, 'n_noise_', 0)\n",
      "e:  0.9 m: 30 ('n_clusters_', 1, 'n_noise_', 0)\n",
      "e:  0.9 m: 50 ('n_clusters_', 1, 'n_noise_', 0)\n",
      "e:  0.9 m: 75 ('n_clusters_', 1, 'n_noise_', 0)\n",
      "e:  0.9 m: 100 ('n_clusters_', 1, 'n_noise_', 0)\n",
      "e:  1 m: 5 ('n_clusters_', 1, 'n_noise_', 0)\n",
      "e:  1 m: 10 ('n_clusters_', 1, 'n_noise_', 0)\n",
      "e:  1 m: 20 ('n_clusters_', 1, 'n_noise_', 0)\n",
      "e:  1 m: 30 ('n_clusters_', 1, 'n_noise_', 0)\n",
      "e:  1 m: 50 ('n_clusters_', 1, 'n_noise_', 0)\n",
      "e:  1 m: 75 ('n_clusters_', 1, 'n_noise_', 0)\n",
      "e:  1 m: 100 ('n_clusters_', 1, 'n_noise_', 0)\n",
      "e:  1.5 m: 5 ('n_clusters_', 1, 'n_noise_', 0)\n",
      "e:  1.5 m: 10 ('n_clusters_', 1, 'n_noise_', 0)\n",
      "e:  1.5 m: 20 ('n_clusters_', 1, 'n_noise_', 0)\n",
      "e:  1.5 m: 30 ('n_clusters_', 1, 'n_noise_', 0)\n",
      "e:  1.5 m: 50 ('n_clusters_', 1, 'n_noise_', 0)\n",
      "e:  1.5 m: 75 ('n_clusters_', 1, 'n_noise_', 0)\n",
      "e:  1.5 m: 100 ('n_clusters_', 1, 'n_noise_', 0)\n",
      "e:  10 m: 5 ('n_clusters_', 1, 'n_noise_', 0)\n",
      "e:  10 m: 10 ('n_clusters_', 1, 'n_noise_', 0)\n",
      "e:  10 m: 20 ('n_clusters_', 1, 'n_noise_', 0)\n",
      "e:  10 m: 30 ('n_clusters_', 1, 'n_noise_', 0)\n",
      "e:  10 m: 50 ('n_clusters_', 1, 'n_noise_', 0)\n",
      "e:  10 m: 75 ('n_clusters_', 1, 'n_noise_', 0)\n",
      "e:  10 m: 100 ('n_clusters_', 1, 'n_noise_', 0)\n",
      "e:  25 m: 5 ('n_clusters_', 1, 'n_noise_', 0)\n",
      "e:  25 m: 10 ('n_clusters_', 1, 'n_noise_', 0)\n",
      "e:  25 m: 20 ('n_clusters_', 1, 'n_noise_', 0)\n",
      "e:  25 m: 30 ('n_clusters_', 1, 'n_noise_', 0)\n",
      "e:  25 m: 50 ('n_clusters_', 1, 'n_noise_', 0)\n",
      "e:  25 m: 75 ('n_clusters_', 1, 'n_noise_', 0)\n",
      "e:  25 m: 100 ('n_clusters_', 1, 'n_noise_', 0)\n",
      "e:  50 m: 5 ('n_clusters_', 1, 'n_noise_', 0)\n",
      "e:  50 m: 10 ('n_clusters_', 1, 'n_noise_', 0)\n",
      "e:  50 m: 20 ('n_clusters_', 1, 'n_noise_', 0)\n",
      "e:  50 m: 30 ('n_clusters_', 1, 'n_noise_', 0)\n",
      "e:  50 m: 50 ('n_clusters_', 1, 'n_noise_', 0)\n",
      "e:  50 m: 75 ('n_clusters_', 1, 'n_noise_', 0)\n",
      "e:  50 m: 100 ('n_clusters_', 1, 'n_noise_', 0)\n",
      "e:  75 m: 5 ('n_clusters_', 1, 'n_noise_', 0)\n",
      "e:  75 m: 10 ('n_clusters_', 1, 'n_noise_', 0)\n",
      "e:  75 m: 20 ('n_clusters_', 1, 'n_noise_', 0)\n",
      "e:  75 m: 30 ('n_clusters_', 1, 'n_noise_', 0)\n",
      "e:  75 m: 50 ('n_clusters_', 1, 'n_noise_', 0)\n",
      "e:  75 m: 75 ('n_clusters_', 1, 'n_noise_', 0)\n",
      "e:  75 m: 100 ('n_clusters_', 1, 'n_noise_', 0)\n",
      "e:  100 m: 5 ('n_clusters_', 1, 'n_noise_', 0)\n",
      "e:  100 m: 10 ('n_clusters_', 1, 'n_noise_', 0)\n",
      "e:  100 m: 20 ('n_clusters_', 1, 'n_noise_', 0)\n",
      "e:  100 m: 30 ('n_clusters_', 1, 'n_noise_', 0)\n",
      "e:  100 m: 50 ('n_clusters_', 1, 'n_noise_', 0)\n",
      "e:  100 m: 75 ('n_clusters_', 1, 'n_noise_', 0)\n",
      "e:  100 m: 100 ('n_clusters_', 1, 'n_noise_', 0)\n"
     ]
    }
   ],
   "source": [
    "eps = [0.05, 0.1, 0.5, 0.9, 1, 1.5, 10, 25, 50, 75, 100]\n",
    "min_samples = [5, 10, 20, 30, 50, 75, 100]\n",
    "for e in eps:\n",
    "    for m in min_samples:\n",
    "        print('e: ',e, 'm:',m ,dbscan(e, m, 'cosine', tf_idf_array))"
   ]
  },
  {
   "cell_type": "code",
   "execution_count": 75,
   "metadata": {},
   "outputs": [
    {
     "data": {
      "text/plain": [
       "Text(0, 0.5, 'Feature 1')"
      ]
     },
     "execution_count": 75,
     "metadata": {},
     "output_type": "execute_result"
    },
    {
     "data": {
      "image/png": "[encoded data removed]",
      "text/plain": [
       "<Figure size 432x288 with 1 Axes>"
      ]
     },
     "metadata": {
      "needs_background": "light"
     },
     "output_type": "display_data"
    }
   ],
   "source": [
    "#e:  0.5 m: 10 bestes Ergebnis\n",
    "\n",
    "clustering = DBSCAN(eps=0.5, min_samples=10, metric='cosine')\n",
    "clusters = clustering.fit(tf_idf_array)\n",
    "labels = clusters.labels_\n",
    "\n",
    "sklearn_pca = PCA(n_components = 2)\n",
    "data = sklearn_pca.fit_transform(tf_idf_array)\n",
    "\n",
    "plt.scatter(data[:, 0], data[:, 1], c=clusters.labels_, cmap=\"viridis\")\n",
    "plt.xlabel(\"Feature 0\")\n",
    "plt.ylabel(\"Feature 1\")\n",
    "#plt.savefig('dbscan_viergenres')"
   ]
  },
  {
   "cell_type": "markdown",
   "metadata": {},
   "source": [
    "## Versuch mit TSNE"
   ]
  },
  {
   "cell_type": "code",
   "execution_count": 69,
   "metadata": {},
   "outputs": [
    {
     "data": {
      "text/html": [
       "<div>\n",
       "<style scoped>\n",
       "    .dataframe tbody tr th:only-of-type {\n",
       "        vertical-align: middle;\n",
       "    }\n",
       "\n",
       "    .dataframe tbody tr th {\n",
       "        vertical-align: top;\n",
       "    }\n",
       "\n",
       "    .dataframe thead th {\n",
       "        text-align: right;\n",
       "    }\n",
       "</style>\n",
       "<table border=\"1\" class=\"dataframe\">\n",
       "  <thead>\n",
       "    <tr style=\"text-align: right;\">\n",
       "      <th></th>\n",
       "      <th>category</th>\n",
       "      <th>filename</th>\n",
       "      <th>title</th>\n",
       "      <th>content</th>\n",
       "      <th>number_of_tokens</th>\n",
       "      <th>number_of_types</th>\n",
       "      <th>stemmed_text</th>\n",
       "      <th>POS_tags</th>\n",
       "      <th>POS</th>\n",
       "      <th>nouns</th>\n",
       "      <th>adjectives</th>\n",
       "      <th>verb</th>\n",
       "    </tr>\n",
       "  </thead>\n",
       "  <tbody>\n",
       "    <tr>\n",
       "      <td>1313</td>\n",
       "      <td>sport</td>\n",
       "      <td>001.txt</td>\n",
       "      <td>Claxton hunting first major medal</td>\n",
       "      <td>British hurdler Sarah Claxton is confident sh...</td>\n",
       "      <td>206.0</td>\n",
       "      <td>145.0</td>\n",
       "      <td>british hurdler sarah claxton is confid she c...</td>\n",
       "      <td>['_SP', 'JJ', 'NN', 'NNP', 'NNP', 'VBZ', 'JJ',...</td>\n",
       "      <td>British confident first major next old British...</td>\n",
       "      <td>29.0</td>\n",
       "      <td>22.0</td>\n",
       "      <td>5.0</td>\n",
       "    </tr>\n",
       "    <tr>\n",
       "      <td>1314</td>\n",
       "      <td>sport</td>\n",
       "      <td>002.txt</td>\n",
       "      <td>O'Sullivan could run in Worlds</td>\n",
       "      <td>Sonia O'Sullivan has indicated that she would...</td>\n",
       "      <td>139.0</td>\n",
       "      <td>103.0</td>\n",
       "      <td>sonia o'sullivan ha indic that she would like...</td>\n",
       "      <td>['_SP', 'NNP', 'NNP', 'VBZ', 'VBN', 'IN', 'PRP...</td>\n",
       "      <td>next old official Provincial last present firs...</td>\n",
       "      <td>16.0</td>\n",
       "      <td>9.0</td>\n",
       "      <td>2.0</td>\n",
       "    </tr>\n",
       "  </tbody>\n",
       "</table>\n",
       "</div>"
      ],
      "text/plain": [
       "     category filename                              title  \\\n",
       "1313    sport  001.txt  Claxton hunting first major medal   \n",
       "1314    sport  002.txt     O'Sullivan could run in Worlds   \n",
       "\n",
       "                                                content  number_of_tokens  \\\n",
       "1313   British hurdler Sarah Claxton is confident sh...             206.0   \n",
       "1314   Sonia O'Sullivan has indicated that she would...             139.0   \n",
       "\n",
       "      number_of_types                                       stemmed_text  \\\n",
       "1313            145.0   british hurdler sarah claxton is confid she c...   \n",
       "1314            103.0   sonia o'sullivan ha indic that she would like...   \n",
       "\n",
       "                                               POS_tags  \\\n",
       "1313  ['_SP', 'JJ', 'NN', 'NNP', 'NNP', 'VBZ', 'JJ',...   \n",
       "1314  ['_SP', 'NNP', 'NNP', 'VBZ', 'VBN', 'IN', 'PRP...   \n",
       "\n",
       "                                                    POS  nouns  adjectives  \\\n",
       "1313  British confident first major next old British...   29.0        22.0   \n",
       "1314  next old official Provincial last present firs...   16.0         9.0   \n",
       "\n",
       "      verb  \n",
       "1313   5.0  \n",
       "1314   2.0  "
      ]
     },
     "execution_count": 69,
     "metadata": {},
     "output_type": "execute_result"
    }
   ],
   "source": [
    "data1 = df[df['category'] == 'sport']\n",
    "data2 = df[df['category'] == 'tech']\n",
    "data3 = df[df['category'] == 'politics']\n",
    "\n",
    "cats3 = pd.concat([data1, data2, data3], axis = 0)\n",
    "cats3.head(2)"
   ]
  },
  {
   "cell_type": "code",
   "execution_count": 70,
   "metadata": {},
   "outputs": [
    {
     "data": {
      "text/plain": [
       "Counter({'sport': 511, 'tech': 401, 'politics': 417})"
      ]
     },
     "execution_count": 70,
     "metadata": {},
     "output_type": "execute_result"
    }
   ],
   "source": [
    "from collections import Counter\n",
    "Counter(cats3.category)"
   ]
  },
  {
   "cell_type": "code",
   "execution_count": 71,
   "metadata": {},
   "outputs": [],
   "source": [
    "tf_idf_vectorizor = TfidfVectorizer()\n",
    "tf_idf = tf_idf_vectorizor.fit_transform(cats3.content)\n",
    "tf_idf_norm = normalize(tf_idf)\n",
    "tf_idf_array = tf_idf_norm.toarray()"
   ]
  },
  {
   "cell_type": "code",
   "execution_count": 72,
   "metadata": {},
   "outputs": [],
   "source": [
    "def dbscan(eps, min_samples, metric, array): \n",
    "    clustering = DBSCAN(eps=eps, min_samples=min_samples, metric=metric)\n",
    "    clusters = clustering.fit(array)\n",
    "    labels = clusters.labels_\n",
    "    n_clusters_ = len(set(labels)) - (1 if -1 in labels else 0)\n",
    "    n_noise_ = list(labels).count(-1)\n",
    "    return 'n_clusters_', n_clusters_, 'n_noise_', n_noise_"
   ]
  },
  {
   "cell_type": "code",
   "execution_count": 46,
   "metadata": {},
   "outputs": [
    {
     "name": "stdout",
     "output_type": "stream",
     "text": [
      "e:  0.05 m: 5 ('n_clusters_', 0, 'n_noise_', 1329)\n",
      "e:  0.05 m: 10 ('n_clusters_', 0, 'n_noise_', 1329)\n",
      "e:  0.05 m: 20 ('n_clusters_', 0, 'n_noise_', 1329)\n",
      "e:  0.05 m: 30 ('n_clusters_', 0, 'n_noise_', 1329)\n",
      "e:  0.05 m: 50 ('n_clusters_', 0, 'n_noise_', 1329)\n",
      "e:  0.05 m: 75 ('n_clusters_', 0, 'n_noise_', 1329)\n",
      "e:  0.05 m: 100 ('n_clusters_', 0, 'n_noise_', 1329)\n",
      "e:  0.1 m: 5 ('n_clusters_', 0, 'n_noise_', 1329)\n",
      "e:  0.1 m: 10 ('n_clusters_', 0, 'n_noise_', 1329)\n",
      "e:  0.1 m: 20 ('n_clusters_', 0, 'n_noise_', 1329)\n",
      "e:  0.1 m: 30 ('n_clusters_', 0, 'n_noise_', 1329)\n",
      "e:  0.1 m: 50 ('n_clusters_', 0, 'n_noise_', 1329)\n",
      "e:  0.1 m: 75 ('n_clusters_', 0, 'n_noise_', 1329)\n",
      "e:  0.1 m: 100 ('n_clusters_', 0, 'n_noise_', 1329)\n",
      "e:  0.5 m: 5 ('n_clusters_', 18, 'n_noise_', 1180)\n",
      "e:  0.5 m: 10 ('n_clusters_', 3, 'n_noise_', 1289)\n",
      "e:  0.5 m: 20 ('n_clusters_', 0, 'n_noise_', 1329)\n",
      "e:  0.5 m: 30 ('n_clusters_', 0, 'n_noise_', 1329)\n",
      "e:  0.5 m: 50 ('n_clusters_', 0, 'n_noise_', 1329)\n",
      "e:  0.5 m: 75 ('n_clusters_', 0, 'n_noise_', 1329)\n",
      "e:  0.5 m: 100 ('n_clusters_', 0, 'n_noise_', 1329)\n",
      "e:  0.9 m: 5 ('n_clusters_', 1, 'n_noise_', 0)\n",
      "e:  0.9 m: 10 ('n_clusters_', 1, 'n_noise_', 0)\n",
      "e:  0.9 m: 20 ('n_clusters_', 1, 'n_noise_', 0)\n",
      "e:  0.9 m: 30 ('n_clusters_', 1, 'n_noise_', 0)\n",
      "e:  0.9 m: 50 ('n_clusters_', 1, 'n_noise_', 0)\n",
      "e:  0.9 m: 75 ('n_clusters_', 1, 'n_noise_', 0)\n",
      "e:  0.9 m: 100 ('n_clusters_', 1, 'n_noise_', 0)\n",
      "e:  1 m: 5 ('n_clusters_', 1, 'n_noise_', 0)\n",
      "e:  1 m: 10 ('n_clusters_', 1, 'n_noise_', 0)\n",
      "e:  1 m: 20 ('n_clusters_', 1, 'n_noise_', 0)\n",
      "e:  1 m: 30 ('n_clusters_', 1, 'n_noise_', 0)\n",
      "e:  1 m: 50 ('n_clusters_', 1, 'n_noise_', 0)\n",
      "e:  1 m: 75 ('n_clusters_', 1, 'n_noise_', 0)\n",
      "e:  1 m: 100 ('n_clusters_', 1, 'n_noise_', 0)\n",
      "e:  1.5 m: 5 ('n_clusters_', 1, 'n_noise_', 0)\n",
      "e:  1.5 m: 10 ('n_clusters_', 1, 'n_noise_', 0)\n",
      "e:  1.5 m: 20 ('n_clusters_', 1, 'n_noise_', 0)\n",
      "e:  1.5 m: 30 ('n_clusters_', 1, 'n_noise_', 0)\n",
      "e:  1.5 m: 50 ('n_clusters_', 1, 'n_noise_', 0)\n",
      "e:  1.5 m: 75 ('n_clusters_', 1, 'n_noise_', 0)\n",
      "e:  1.5 m: 100 ('n_clusters_', 1, 'n_noise_', 0)\n",
      "e:  10 m: 5 ('n_clusters_', 1, 'n_noise_', 0)\n",
      "e:  10 m: 10 ('n_clusters_', 1, 'n_noise_', 0)\n",
      "e:  10 m: 20 ('n_clusters_', 1, 'n_noise_', 0)\n",
      "e:  10 m: 30 ('n_clusters_', 1, 'n_noise_', 0)\n",
      "e:  10 m: 50 ('n_clusters_', 1, 'n_noise_', 0)\n",
      "e:  10 m: 75 ('n_clusters_', 1, 'n_noise_', 0)\n",
      "e:  10 m: 100 ('n_clusters_', 1, 'n_noise_', 0)\n",
      "e:  25 m: 5 ('n_clusters_', 1, 'n_noise_', 0)\n",
      "e:  25 m: 10 ('n_clusters_', 1, 'n_noise_', 0)\n",
      "e:  25 m: 20 ('n_clusters_', 1, 'n_noise_', 0)\n",
      "e:  25 m: 30 ('n_clusters_', 1, 'n_noise_', 0)\n",
      "e:  25 m: 50 ('n_clusters_', 1, 'n_noise_', 0)\n",
      "e:  25 m: 75 ('n_clusters_', 1, 'n_noise_', 0)\n",
      "e:  25 m: 100 ('n_clusters_', 1, 'n_noise_', 0)\n",
      "e:  50 m: 5 ('n_clusters_', 1, 'n_noise_', 0)\n",
      "e:  50 m: 10 ('n_clusters_', 1, 'n_noise_', 0)\n",
      "e:  50 m: 20 ('n_clusters_', 1, 'n_noise_', 0)\n",
      "e:  50 m: 30 ('n_clusters_', 1, 'n_noise_', 0)\n",
      "e:  50 m: 50 ('n_clusters_', 1, 'n_noise_', 0)\n",
      "e:  50 m: 75 ('n_clusters_', 1, 'n_noise_', 0)\n",
      "e:  50 m: 100 ('n_clusters_', 1, 'n_noise_', 0)\n",
      "e:  75 m: 5 ('n_clusters_', 1, 'n_noise_', 0)\n",
      "e:  75 m: 10 ('n_clusters_', 1, 'n_noise_', 0)\n",
      "e:  75 m: 20 ('n_clusters_', 1, 'n_noise_', 0)\n",
      "e:  75 m: 30 ('n_clusters_', 1, 'n_noise_', 0)\n",
      "e:  75 m: 50 ('n_clusters_', 1, 'n_noise_', 0)\n",
      "e:  75 m: 75 ('n_clusters_', 1, 'n_noise_', 0)\n",
      "e:  75 m: 100 ('n_clusters_', 1, 'n_noise_', 0)\n",
      "e:  100 m: 5 ('n_clusters_', 1, 'n_noise_', 0)\n",
      "e:  100 m: 10 ('n_clusters_', 1, 'n_noise_', 0)\n",
      "e:  100 m: 20 ('n_clusters_', 1, 'n_noise_', 0)\n",
      "e:  100 m: 30 ('n_clusters_', 1, 'n_noise_', 0)\n",
      "e:  100 m: 50 ('n_clusters_', 1, 'n_noise_', 0)\n",
      "e:  100 m: 75 ('n_clusters_', 1, 'n_noise_', 0)\n",
      "e:  100 m: 100 ('n_clusters_', 1, 'n_noise_', 0)\n"
     ]
    }
   ],
   "source": [
    "eps = [0.05, 0.1, 0.5, 0.9, 1, 1.5, 10, 25, 50, 75, 100]\n",
    "min_samples = [5, 10, 20, 30, 50, 75, 100]\n",
    "for e in eps:\n",
    "    for m in min_samples:\n",
    "        print('e: ',e, 'm:',m ,dbscan(e, m, 'cosine', tf_idf_array))"
   ]
  },
  {
   "cell_type": "code",
   "execution_count": 74,
   "metadata": {},
   "outputs": [
    {
     "data": {
      "text/plain": [
       "Text(0, 0.5, 'Feature 1')"
      ]
     },
     "execution_count": 74,
     "metadata": {},
     "output_type": "execute_result"
    },
    {
     "data": {
      "image/png": "[encoded data removed]",
      "text/plain": [
       "<Figure size 432x288 with 1 Axes>"
      ]
     },
     "metadata": {
      "needs_background": "light"
     },
     "output_type": "display_data"
    }
   ],
   "source": [
    "#e:  0.5 m: 10 bestes Ergebnis\n",
    "\n",
    "from sklearn.manifold import TSNE\n",
    "\n",
    "clustering = DBSCAN(eps=0.5, min_samples=10, metric='cosine')\n",
    "clusters = clustering.fit(tf_idf_array)\n",
    "labels = clusters.labels_\n",
    "\n",
    "\n",
    "sklearn_tsne = TSNE(n_components=2)\n",
    "data = sklearn_tsne.fit_transform(tf_idf_array)\n",
    "\n",
    "#sklearn_pca = PCA(n_components = 2)\n",
    "#data = sklearn_pca.fit_transform(tf_idf_array)\n",
    "\n",
    "plt.scatter(data[:, 0], data[:, 1], c=clusters.labels_, cmap=\"viridis\")\n",
    "plt.xlabel(\"Feature 0\")\n",
    "plt.ylabel(\"Feature 1\")\n",
    "#plt.savefig('dbscan_viergenres')"
   ]
  },
  {
   "cell_type": "markdown",
   "metadata": {},
   "source": [
    "# DBScan mit Sport + Tech + Politics + Entertainment"
   ]
  },
  {
   "cell_type": "code",
   "execution_count": 36,
   "metadata": {},
   "outputs": [
    {
     "data": {
      "text/html": [
       "<div>\n",
       "<style scoped>\n",
       "    .dataframe tbody tr th:only-of-type {\n",
       "        vertical-align: middle;\n",
       "    }\n",
       "\n",
       "    .dataframe tbody tr th {\n",
       "        vertical-align: top;\n",
       "    }\n",
       "\n",
       "    .dataframe thead th {\n",
       "        text-align: right;\n",
       "    }\n",
       "</style>\n",
       "<table border=\"1\" class=\"dataframe\">\n",
       "  <thead>\n",
       "    <tr style=\"text-align: right;\">\n",
       "      <th></th>\n",
       "      <th>category</th>\n",
       "      <th>filename</th>\n",
       "      <th>title</th>\n",
       "      <th>content</th>\n",
       "      <th>number_of_tokens</th>\n",
       "      <th>number_of_types</th>\n",
       "      <th>stemmed_text</th>\n",
       "      <th>POS_tags</th>\n",
       "      <th>POS</th>\n",
       "      <th>nouns</th>\n",
       "      <th>adjectives</th>\n",
       "      <th>verb</th>\n",
       "    </tr>\n",
       "  </thead>\n",
       "  <tbody>\n",
       "    <tr>\n",
       "      <td>1313</td>\n",
       "      <td>sport</td>\n",
       "      <td>001.txt</td>\n",
       "      <td>Claxton hunting first major medal</td>\n",
       "      <td>British hurdler Sarah Claxton is confident sh...</td>\n",
       "      <td>206.0</td>\n",
       "      <td>145.0</td>\n",
       "      <td>british hurdler sarah claxton is confid she c...</td>\n",
       "      <td>['_SP', 'JJ', 'NN', 'NNP', 'NNP', 'VBZ', 'JJ',...</td>\n",
       "      <td>British confident first major next old British...</td>\n",
       "      <td>29.0</td>\n",
       "      <td>22.0</td>\n",
       "      <td>5.0</td>\n",
       "    </tr>\n",
       "    <tr>\n",
       "      <td>1314</td>\n",
       "      <td>sport</td>\n",
       "      <td>002.txt</td>\n",
       "      <td>O'Sullivan could run in Worlds</td>\n",
       "      <td>Sonia O'Sullivan has indicated that she would...</td>\n",
       "      <td>139.0</td>\n",
       "      <td>103.0</td>\n",
       "      <td>sonia o'sullivan ha indic that she would like...</td>\n",
       "      <td>['_SP', 'NNP', 'NNP', 'VBZ', 'VBN', 'IN', 'PRP...</td>\n",
       "      <td>next old official Provincial last present firs...</td>\n",
       "      <td>16.0</td>\n",
       "      <td>9.0</td>\n",
       "      <td>2.0</td>\n",
       "    </tr>\n",
       "  </tbody>\n",
       "</table>\n",
       "</div>"
      ],
      "text/plain": [
       "     category filename                              title  \\\n",
       "1313    sport  001.txt  Claxton hunting first major medal   \n",
       "1314    sport  002.txt     O'Sullivan could run in Worlds   \n",
       "\n",
       "                                                content  number_of_tokens  \\\n",
       "1313   British hurdler Sarah Claxton is confident sh...             206.0   \n",
       "1314   Sonia O'Sullivan has indicated that she would...             139.0   \n",
       "\n",
       "      number_of_types                                       stemmed_text  \\\n",
       "1313            145.0   british hurdler sarah claxton is confid she c...   \n",
       "1314            103.0   sonia o'sullivan ha indic that she would like...   \n",
       "\n",
       "                                               POS_tags  \\\n",
       "1313  ['_SP', 'JJ', 'NN', 'NNP', 'NNP', 'VBZ', 'JJ',...   \n",
       "1314  ['_SP', 'NNP', 'NNP', 'VBZ', 'VBN', 'IN', 'PRP...   \n",
       "\n",
       "                                                    POS  nouns  adjectives  \\\n",
       "1313  British confident first major next old British...   29.0        22.0   \n",
       "1314  next old official Provincial last present firs...   16.0         9.0   \n",
       "\n",
       "      verb  \n",
       "1313   5.0  \n",
       "1314   2.0  "
      ]
     },
     "execution_count": 36,
     "metadata": {},
     "output_type": "execute_result"
    }
   ],
   "source": [
    "data1 = df[df['category'] == 'sport']\n",
    "data2 = df[df['category'] == 'tech']\n",
    "data3 = df[df['category'] == 'politics']\n",
    "data4 = df[df['category'] == 'entertainment']\n",
    "\n",
    "cats4 = pd.concat([data1, data2, data3, data4], axis = 0)\n",
    "cats4.head(2)"
   ]
  },
  {
   "cell_type": "code",
   "execution_count": 37,
   "metadata": {},
   "outputs": [
    {
     "data": {
      "text/plain": [
       "Counter({'sport': 511, 'tech': 401, 'politics': 417, 'entertainment': 386})"
      ]
     },
     "execution_count": 37,
     "metadata": {},
     "output_type": "execute_result"
    }
   ],
   "source": [
    "from collections import Counter\n",
    "\n",
    "Counter(cats4.category)"
   ]
  },
  {
   "cell_type": "code",
   "execution_count": 38,
   "metadata": {},
   "outputs": [],
   "source": [
    "tf_idf_vectorizor = TfidfVectorizer()\n",
    "tf_idf = tf_idf_vectorizor.fit_transform(cats4.content)\n",
    "tf_idf_norm = normalize(tf_idf)\n",
    "tf_idf_array = tf_idf_norm.toarray()"
   ]
  },
  {
   "cell_type": "code",
   "execution_count": 39,
   "metadata": {},
   "outputs": [],
   "source": [
    "def dbscan(eps, min_samples, metric, array): \n",
    "    clustering = DBSCAN(eps=eps, min_samples=min_samples, metric=metric)\n",
    "    clusters = clustering.fit(array)\n",
    "    labels = clusters.labels_\n",
    "    n_clusters_ = len(set(labels)) - (1 if -1 in labels else 0)\n",
    "    n_noise_ = list(labels).count(-1)\n",
    "    return 'n_clusters_', n_clusters_, 'n_noise_', n_noise_"
   ]
  },
  {
   "cell_type": "code",
   "execution_count": 40,
   "metadata": {},
   "outputs": [
    {
     "name": "stdout",
     "output_type": "stream",
     "text": [
      "e:  0.05 m: 5 ('n_clusters_', 0, 'n_noise_', 1715)\n",
      "e:  0.05 m: 10 ('n_clusters_', 0, 'n_noise_', 1715)\n",
      "e:  0.05 m: 20 ('n_clusters_', 0, 'n_noise_', 1715)\n",
      "e:  0.05 m: 30 ('n_clusters_', 0, 'n_noise_', 1715)\n",
      "e:  0.05 m: 50 ('n_clusters_', 0, 'n_noise_', 1715)\n",
      "e:  0.05 m: 75 ('n_clusters_', 0, 'n_noise_', 1715)\n",
      "e:  0.05 m: 100 ('n_clusters_', 0, 'n_noise_', 1715)\n",
      "e:  0.1 m: 5 ('n_clusters_', 0, 'n_noise_', 1715)\n",
      "e:  0.1 m: 10 ('n_clusters_', 0, 'n_noise_', 1715)\n",
      "e:  0.1 m: 20 ('n_clusters_', 0, 'n_noise_', 1715)\n",
      "e:  0.1 m: 30 ('n_clusters_', 0, 'n_noise_', 1715)\n",
      "e:  0.1 m: 50 ('n_clusters_', 0, 'n_noise_', 1715)\n",
      "e:  0.1 m: 75 ('n_clusters_', 0, 'n_noise_', 1715)\n",
      "e:  0.1 m: 100 ('n_clusters_', 0, 'n_noise_', 1715)\n",
      "e:  0.5 m: 5 ('n_clusters_', 18, 'n_noise_', 1561)\n",
      "e:  0.5 m: 10 ('n_clusters_', 3, 'n_noise_', 1674)\n",
      "e:  0.5 m: 20 ('n_clusters_', 0, 'n_noise_', 1715)\n",
      "e:  0.5 m: 30 ('n_clusters_', 0, 'n_noise_', 1715)\n",
      "e:  0.5 m: 50 ('n_clusters_', 0, 'n_noise_', 1715)\n",
      "e:  0.5 m: 75 ('n_clusters_', 0, 'n_noise_', 1715)\n",
      "e:  0.5 m: 100 ('n_clusters_', 0, 'n_noise_', 1715)\n",
      "e:  0.9 m: 5 ('n_clusters_', 1, 'n_noise_', 0)\n",
      "e:  0.9 m: 10 ('n_clusters_', 1, 'n_noise_', 0)\n",
      "e:  0.9 m: 20 ('n_clusters_', 1, 'n_noise_', 0)\n",
      "e:  0.9 m: 30 ('n_clusters_', 1, 'n_noise_', 0)\n",
      "e:  0.9 m: 50 ('n_clusters_', 1, 'n_noise_', 0)\n",
      "e:  0.9 m: 75 ('n_clusters_', 1, 'n_noise_', 0)\n",
      "e:  0.9 m: 100 ('n_clusters_', 1, 'n_noise_', 0)\n",
      "e:  1 m: 5 ('n_clusters_', 1, 'n_noise_', 0)\n",
      "e:  1 m: 10 ('n_clusters_', 1, 'n_noise_', 0)\n",
      "e:  1 m: 20 ('n_clusters_', 1, 'n_noise_', 0)\n",
      "e:  1 m: 30 ('n_clusters_', 1, 'n_noise_', 0)\n",
      "e:  1 m: 50 ('n_clusters_', 1, 'n_noise_', 0)\n",
      "e:  1 m: 75 ('n_clusters_', 1, 'n_noise_', 0)\n",
      "e:  1 m: 100 ('n_clusters_', 1, 'n_noise_', 0)\n",
      "e:  1.5 m: 5 ('n_clusters_', 1, 'n_noise_', 0)\n",
      "e:  1.5 m: 10 ('n_clusters_', 1, 'n_noise_', 0)\n",
      "e:  1.5 m: 20 ('n_clusters_', 1, 'n_noise_', 0)\n",
      "e:  1.5 m: 30 ('n_clusters_', 1, 'n_noise_', 0)\n",
      "e:  1.5 m: 50 ('n_clusters_', 1, 'n_noise_', 0)\n",
      "e:  1.5 m: 75 ('n_clusters_', 1, 'n_noise_', 0)\n",
      "e:  1.5 m: 100 ('n_clusters_', 1, 'n_noise_', 0)\n",
      "e:  10 m: 5 ('n_clusters_', 1, 'n_noise_', 0)\n",
      "e:  10 m: 10 ('n_clusters_', 1, 'n_noise_', 0)\n",
      "e:  10 m: 20 ('n_clusters_', 1, 'n_noise_', 0)\n",
      "e:  10 m: 30 ('n_clusters_', 1, 'n_noise_', 0)\n",
      "e:  10 m: 50 ('n_clusters_', 1, 'n_noise_', 0)\n",
      "e:  10 m: 75 ('n_clusters_', 1, 'n_noise_', 0)\n",
      "e:  10 m: 100 ('n_clusters_', 1, 'n_noise_', 0)\n",
      "e:  25 m: 5 ('n_clusters_', 1, 'n_noise_', 0)\n",
      "e:  25 m: 10 ('n_clusters_', 1, 'n_noise_', 0)\n",
      "e:  25 m: 20 ('n_clusters_', 1, 'n_noise_', 0)\n",
      "e:  25 m: 30 ('n_clusters_', 1, 'n_noise_', 0)\n",
      "e:  25 m: 50 ('n_clusters_', 1, 'n_noise_', 0)\n",
      "e:  25 m: 75 ('n_clusters_', 1, 'n_noise_', 0)\n",
      "e:  25 m: 100 ('n_clusters_', 1, 'n_noise_', 0)\n",
      "e:  50 m: 5 ('n_clusters_', 1, 'n_noise_', 0)\n",
      "e:  50 m: 10 ('n_clusters_', 1, 'n_noise_', 0)\n",
      "e:  50 m: 20 ('n_clusters_', 1, 'n_noise_', 0)\n",
      "e:  50 m: 30 ('n_clusters_', 1, 'n_noise_', 0)\n",
      "e:  50 m: 50 ('n_clusters_', 1, 'n_noise_', 0)\n",
      "e:  50 m: 75 ('n_clusters_', 1, 'n_noise_', 0)\n",
      "e:  50 m: 100 ('n_clusters_', 1, 'n_noise_', 0)\n",
      "e:  75 m: 5 ('n_clusters_', 1, 'n_noise_', 0)\n",
      "e:  75 m: 10 ('n_clusters_', 1, 'n_noise_', 0)\n",
      "e:  75 m: 20 ('n_clusters_', 1, 'n_noise_', 0)\n",
      "e:  75 m: 30 ('n_clusters_', 1, 'n_noise_', 0)\n",
      "e:  75 m: 50 ('n_clusters_', 1, 'n_noise_', 0)\n",
      "e:  75 m: 75 ('n_clusters_', 1, 'n_noise_', 0)\n",
      "e:  75 m: 100 ('n_clusters_', 1, 'n_noise_', 0)\n",
      "e:  100 m: 5 ('n_clusters_', 1, 'n_noise_', 0)\n",
      "e:  100 m: 10 ('n_clusters_', 1, 'n_noise_', 0)\n",
      "e:  100 m: 20 ('n_clusters_', 1, 'n_noise_', 0)\n",
      "e:  100 m: 30 ('n_clusters_', 1, 'n_noise_', 0)\n",
      "e:  100 m: 50 ('n_clusters_', 1, 'n_noise_', 0)\n",
      "e:  100 m: 75 ('n_clusters_', 1, 'n_noise_', 0)\n",
      "e:  100 m: 100 ('n_clusters_', 1, 'n_noise_', 0)\n"
     ]
    }
   ],
   "source": [
    "eps = [0.05, 0.1, 0.5, 0.9, 1, 1.5, 10, 25, 50, 75, 100]\n",
    "min_samples = [5, 10, 20, 30, 50, 75, 100]\n",
    "for e in eps:\n",
    "    for m in min_samples:\n",
    "        print('e: ',e, 'm:',m ,dbscan(e, m, 'cosine', tf_idf_array))"
   ]
  },
  {
   "cell_type": "code",
   "execution_count": 41,
   "metadata": {},
   "outputs": [
    {
     "data": {
      "text/plain": [
       "Text(0, 0.5, 'Feature 1')"
      ]
     },
     "execution_count": 41,
     "metadata": {},
     "output_type": "execute_result"
    },
    {
     "data": {
      "image/png": "[encoded data removed]",
      "text/plain": [
       "<Figure size 432x288 with 1 Axes>"
      ]
     },
     "metadata": {
      "needs_background": "light"
     },
     "output_type": "display_data"
    }
   ],
   "source": [
    "#e:  0.5 m: 10 bestes Ergebnis\n",
    "\n",
    "clustering = DBSCAN(eps=0.5, min_samples=10, metric='cosine')\n",
    "clusters = clustering.fit(tf_idf_array)\n",
    "labels = clusters.labels_\n",
    "\n",
    "sklearn_pca = PCA(n_components = 2)\n",
    "data = sklearn_pca.fit_transform(tf_idf_array)\n",
    "\n",
    "plt.scatter(data[:, 0], data[:, 1], c=clusters.labels_, cmap=\"viridis\")\n",
    "plt.xlabel(\"Feature 0\")\n",
    "plt.ylabel(\"Feature 1\")\n",
    "#plt.savefig('dbscan_viergenres')"
   ]
  },
  {
   "cell_type": "code",
   "execution_count": null,
   "metadata": {},
   "outputs": [],
   "source": []
  }
 ],
 "metadata": {
  "kernelspec": {
   "display_name": "Python 3",
   "language": "python",
   "name": "python3"
  },
  "language_info": {
   "codemirror_mode": {
    "name": "ipython",
    "version": 3
   },
   "file_extension": ".py",
   "mimetype": "text/x-python",
   "name": "python",
   "nbconvert_exporter": "python",
   "pygments_lexer": "ipython3",
   "version": "3.7.4"
  },
  "toc": {
   "base_numbering": 1,
   "nav_menu": {},
   "number_sections": true,
   "sideBar": true,
   "skip_h1_title": false,
   "title_cell": "Table of Contents",
   "title_sidebar": "Contents",
   "toc_cell": false,
   "toc_position": {
    "height": "calc(100% - 180px)",
    "left": "10px",
    "top": "150px",
    "width": "240px"
   },
   "toc_section_display": true,
   "toc_window_display": true
  }
 },
 "nbformat": 4,
 "nbformat_minor": 2
}
