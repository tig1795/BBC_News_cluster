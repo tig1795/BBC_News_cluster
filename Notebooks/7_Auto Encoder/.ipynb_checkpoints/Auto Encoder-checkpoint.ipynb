{
 "cells": [
  {
   "cell_type": "code",
   "execution_count": 1,
   "metadata": {},
   "outputs": [],
   "source": [
    "import tensorflow as tf\n",
    "import matplotlib.pyplot as plt\n",
    "from mpl_toolkits.mplot3d import Axes3D\n",
    "from matplotlib import cm\n",
    "import numpy as np\n",
    "import pandas as pd\n",
    "from sklearn.preprocessing import LabelEncoder\n",
    "from keras.preprocessing.text import Tokenizer\n",
    "from keras.utils import to_categorical\n",
    "from keras.preprocessing import sequence\n",
    "import random\n",
    "from keras import models\n",
    "from keras import layers\n",
    "from keras.utils.np_utils import to_categorical\n",
    "\n",
    "from sklearn.feature_extraction.text import CountVectorizer, TfidfVectorizer\n",
    "from sklearn.preprocessing import OneHotEncoder\n",
    "from sklearn.model_selection import train_test_split\n",
    "\n",
    "import os\n",
    "os.environ[\"CUDA_VISIBLE_DEVICES\"] = \"3\"\n",
    "import unicodedata\n",
    "import string\n",
    "from tensorflow.keras.preprocessing.sequence import pad_sequences\n",
    "from tensorflow.keras.models import Sequential, Model\n",
    "from tensorflow.keras.layers import *\n",
    "from tensorflow.keras.optimizers import Nadam\n",
    "import numpy as np\n",
    "import tensorflow as tf\n",
    "from tensorflow.keras.callbacks import ModelCheckpoint, TensorBoard\n",
    "from tensorflow.keras.preprocessing.text import Tokenizer\n",
    "from tensorflow.keras.optimizers import SGD, Adam\n",
    "import warnings\n",
    "warnings.filterwarnings('ignore')"
   ]
  },
  {
   "cell_type": "code",
   "execution_count": 2,
   "metadata": {},
   "outputs": [],
   "source": [
    "df = pd.read_csv('../../Datensaetze/news_POS_POS_tags_nouns_adjectives_verb.csv')"
   ]
  },
  {
   "cell_type": "code",
   "execution_count": 3,
   "metadata": {},
   "outputs": [],
   "source": [
    "texts = df.content.to_list()"
   ]
  },
  {
   "cell_type": "code",
   "execution_count": 4,
   "metadata": {},
   "outputs": [],
   "source": [
    "num_words = 1000\n",
    "tk = Tokenizer(num_words=num_words, char_level=False, oov_token='UNK')\n",
    "\n",
    "tk.fit_on_texts(texts)\n",
    "sequences = tk.texts_to_sequences(texts)\n",
    "\n",
    "char_dict = {char: index + 1 for index, char in enumerate(tk.word_index)}\n",
    "char_dict[tk.oov_token] = max(char_dict.values()) + 1\n",
    "tk.word_index = char_dict\n",
    "n_letters = len(tk.word_index) + 1"
   ]
  },
  {
   "cell_type": "code",
   "execution_count": 5,
   "metadata": {},
   "outputs": [],
   "source": [
    "maxlen = 1500\n",
    "\n",
    "sequences = pad_sequences(sequences=sequences, maxlen=maxlen, padding='post')"
   ]
  },
  {
   "cell_type": "code",
   "execution_count": 6,
   "metadata": {},
   "outputs": [],
   "source": [
    "X = []\n",
    "\n",
    "for entry in sequences:\n",
    "    oh_entry = []\n",
    "    for token_index in entry:\n",
    "        oh = np.zeros(num_words, dtype='int8')\n",
    "        oh[token_index] = 1\n",
    "        oh_entry.append(oh)\n",
    "    X.append(oh_entry)\n",
    "X = np.asarray(X, dtype='int8')"
   ]
  },
  {
   "cell_type": "code",
   "execution_count": 7,
   "metadata": {},
   "outputs": [
    {
     "data": {
      "text/plain": [
       "((2225, 1500, 1000), 3337500000000000.0)"
      ]
     },
     "execution_count": 7,
     "metadata": {},
     "output_type": "execute_result"
    }
   ],
   "source": [
    "X.shape, X.nbytes * 1e6"
   ]
  },
  {
   "cell_type": "code",
   "execution_count": 8,
   "metadata": {},
   "outputs": [],
   "source": [
    "def rounded_accuracy(y_true, y_pred):\n",
    "    return keras.metrics.binary_accuracy(tf.round(y_true), tf.round(y_pred))"
   ]
  },
  {
   "cell_type": "code",
   "execution_count": 9,
   "metadata": {},
   "outputs": [
    {
     "name": "stdout",
     "output_type": "stream",
     "text": [
      "Model: \"sequential_2\"\n",
      "_________________________________________________________________\n",
      "Layer (type)                 Output Shape              Param #   \n",
      "=================================================================\n",
      "sequential (Sequential)      (None, 32)                109504    \n",
      "_________________________________________________________________\n",
      "sequential_1 (Sequential)    (None, 1500)              8353      \n",
      "=================================================================\n",
      "Total params: 117,857\n",
      "Trainable params: 117,857\n",
      "Non-trainable params: 0\n",
      "_________________________________________________________________\n"
     ]
    }
   ],
   "source": [
    "import keras \n",
    "#RMSprop(learning_rate=0.01)\n",
    "\n",
    "recurrent_encoder = keras.models.Sequential([\n",
    "    keras.layers.Embedding(num_words+1, 64, input_length=maxlen),\n",
    "    keras.layers.LSTM(64, return_sequences=True),\n",
    "    keras.layers.LSTM(32)\n",
    "])\n",
    "recurrent_decoder = keras.models.Sequential([\n",
    "    keras.layers.RepeatVector(maxlen, input_shape=[32]),\n",
    "    keras.layers.LSTM(32, return_sequences=True),\n",
    "    keras.layers.TimeDistributed(keras.layers.Dense(1, activation=\"softmax\")),\n",
    "    keras.layers.Flatten(),\n",
    "    \n",
    "])\n",
    "recurrent_ae = keras.models.Sequential([recurrent_encoder, recurrent_decoder])\n",
    "recurrent_ae.compile(loss='mse', optimizer=keras.optimizers.RMSprop(learning_rate=0.01),\n",
    "                     metrics=[rounded_accuracy])\n",
    "recurrent_ae.summary()"
   ]
  },
  {
   "cell_type": "code",
   "execution_count": 10,
   "metadata": {},
   "outputs": [
    {
     "name": "stdout",
     "output_type": "stream",
     "text": [
      "Epoch 1/10\n",
      "70/70 [==============================] - 165s 2s/step - loss: 15844.5703 - rounded_accuracy: 0.0736\n",
      "Epoch 2/10\n",
      "70/70 [==============================] - 175s 2s/step - loss: 15844.5713 - rounded_accuracy: 0.0736\n",
      "Epoch 3/10\n",
      "70/70 [==============================] - 169s 2s/step - loss: 15844.5732 - rounded_accuracy: 0.0736\n",
      "Epoch 4/10\n",
      "70/70 [==============================] - 167s 2s/step - loss: 15844.5703 - rounded_accuracy: 0.0736\n",
      "Epoch 5/10\n",
      "70/70 [==============================] - 169s 2s/step - loss: 15844.5713 - rounded_accuracy: 0.0736\n",
      "Epoch 6/10\n",
      "70/70 [==============================] - 169s 2s/step - loss: 15844.5732 - rounded_accuracy: 0.0736\n",
      "Epoch 7/10\n",
      "70/70 [==============================] - 167s 2s/step - loss: 15844.5732 - rounded_accuracy: 0.0736\n",
      "Epoch 8/10\n",
      "70/70 [==============================] - 172s 2s/step - loss: 15844.5713 - rounded_accuracy: 0.0736\n",
      "Epoch 9/10\n",
      "70/70 [==============================] - 177s 3s/step - loss: 15844.5732 - rounded_accuracy: 0.0736\n",
      "Epoch 10/10\n",
      "70/70 [==============================] - 167s 2s/step - loss: 15844.5713 - rounded_accuracy: 0.0736\n"
     ]
    }
   ],
   "source": [
    "history = recurrent_ae.fit(sequences, sequences, epochs=10)"
   ]
  },
  {
   "cell_type": "code",
   "execution_count": 11,
   "metadata": {},
   "outputs": [
    {
     "name": "stdout",
     "output_type": "stream",
     "text": [
      "(2225, 32)\n"
     ]
    }
   ],
   "source": [
    "embeddings = recurrent_encoder.predict(sequences)\n",
    "print(embeddings.shape)\n",
    "with open('autoencoder_embeddings.npy', 'wb') as f:\n",
    "    np.save(f, embeddings)"
   ]
  },
  {
   "cell_type": "code",
   "execution_count": 12,
   "metadata": {},
   "outputs": [
    {
     "data": {
      "text/plain": [
       "<matplotlib.axes._subplots.AxesSubplot at 0x20a95410e48>"
      ]
     },
     "execution_count": 12,
     "metadata": {},
     "output_type": "execute_result"
    },
    {
     "data": {
      "image/png": "[encoded data removed]",
      "text/plain": [
       "<Figure size 1080x720 with 1 Axes>"
      ]
     },
     "metadata": {
      "needs_background": "light"
     },
     "output_type": "display_data"
    }
   ],
   "source": [
    "from umap import UMAP\n",
    "from sklearn.decomposition import PCA\n",
    "from sklearn.manifold import TSNE\n",
    "import seaborn as sns\n",
    "\n",
    "plt.figure(figsize=(15,10))\n",
    "r = PCA(n_components=2).fit_transform(embeddings)\n",
    "sns.scatterplot(x=r[:,0], y=r[:,1], hue=df.category)"
   ]
  },
  {
   "cell_type": "code",
   "execution_count": null,
   "metadata": {},
   "outputs": [],
   "source": []
  }
 ],
 "metadata": {
  "kernelspec": {
   "display_name": "Python 3",
   "language": "python",
   "name": "python3"
  },
  "language_info": {
   "codemirror_mode": {
    "name": "ipython",
    "version": 3
   },
   "file_extension": ".py",
   "mimetype": "text/x-python",
   "name": "python",
   "nbconvert_exporter": "python",
   "pygments_lexer": "ipython3",
   "version": "3.7.4"
  },
  "toc": {
   "base_numbering": 1,
   "nav_menu": {},
   "number_sections": true,
   "sideBar": true,
   "skip_h1_title": false,
   "title_cell": "Table of Contents",
   "title_sidebar": "Contents",
   "toc_cell": false,
   "toc_position": {},
   "toc_section_display": true,
   "toc_window_display": false
  }
 },
 "nbformat": 4,
 "nbformat_minor": 2
}
